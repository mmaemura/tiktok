{
 "cells": [
  {
   "cell_type": "code",
   "execution_count": 1,
   "id": "ca0f331b-d5cf-4016-81da-922ed3ada026",
   "metadata": {},
   "outputs": [],
   "source": [
    "import sqlite3\n",
    "import pandas as pd\n",
    "\n",
    "conn = sqlite3.connect(\"tiktok.db\")\n",
    "\n",
    "cmd = \\\n",
    "    f\"\"\"\n",
    "    SELECT id, video_title, sound_transcribed, upload_time, view\n",
    "    FROM tiktok\n",
    "    \"\"\" \n",
    "    \n",
    "tiktoks = pd.read_sql_query(cmd, conn)\n",
    "    \n",
    "conn.close()"
   ]
  },
  {
   "cell_type": "code",
   "execution_count": 2,
   "id": "9753499f-ae33-441a-922b-a84d6ce60c1d",
   "metadata": {},
   "outputs": [
    {
     "data": {
      "text/html": [
       "<div>\n",
       "<style scoped>\n",
       "    .dataframe tbody tr th:only-of-type {\n",
       "        vertical-align: middle;\n",
       "    }\n",
       "\n",
       "    .dataframe tbody tr th {\n",
       "        vertical-align: top;\n",
       "    }\n",
       "\n",
       "    .dataframe thead th {\n",
       "        text-align: right;\n",
       "    }\n",
       "</style>\n",
       "<table border=\"1\" class=\"dataframe\">\n",
       "  <thead>\n",
       "    <tr style=\"text-align: right;\">\n",
       "      <th></th>\n",
       "      <th>id</th>\n",
       "      <th>video_title</th>\n",
       "      <th>sound_transcribed</th>\n",
       "      <th>upload_time</th>\n",
       "      <th>view</th>\n",
       "    </tr>\n",
       "  </thead>\n",
       "  <tbody>\n",
       "    <tr>\n",
       "      <th>0</th>\n",
       "      <td>7037034323417107759</td>\n",
       "      <td>EXCUSE MI THIS FANSERVICE THO 😩 #fyp #bts #bts...</td>\n",
       "      <td>NA</td>\n",
       "      <td>https://v16-webapp.tiktok.com/c236514e9e9afb02...</td>\n",
       "      <td>63900000</td>\n",
       "    </tr>\n",
       "    <tr>\n",
       "      <th>1</th>\n",
       "      <td>7059020753978789166</td>\n",
       "      <td>🐈Are you envious? #fy #kitty #cat #love #kiss</td>\n",
       "      <td>NA</td>\n",
       "      <td>https://v16-webapp.tiktok.com/19acdfd3ecbceb5f...</td>\n",
       "      <td>5400000</td>\n",
       "    </tr>\n",
       "    <tr>\n",
       "      <th>2</th>\n",
       "      <td>7061272988615707950</td>\n",
       "      <td>Fyp</td>\n",
       "      <td>Bonanza</td>\n",
       "      <td>https://v16-webapp.tiktok.com/e4d4117e4cd54b88...</td>\n",
       "      <td>3800000</td>\n",
       "    </tr>\n",
       "    <tr>\n",
       "      <th>3</th>\n",
       "      <td>7039714932283362607</td>\n",
       "      <td>100% the truth! ❤️</td>\n",
       "      <td>beautiful</td>\n",
       "      <td>https://v16-webapp.tiktok.com/66467801dcb7df68...</td>\n",
       "      <td>37900000</td>\n",
       "    </tr>\n",
       "    <tr>\n",
       "      <th>4</th>\n",
       "      <td>7056048829749218607</td>\n",
       "      <td></td>\n",
       "      <td>NA</td>\n",
       "      <td>https://v16-webapp.tiktok.com/fd0801d14a758eef...</td>\n",
       "      <td>8300000</td>\n",
       "    </tr>\n",
       "  </tbody>\n",
       "</table>\n",
       "</div>"
      ],
      "text/plain": [
       "                    id                                        video_title  \\\n",
       "0  7037034323417107759  EXCUSE MI THIS FANSERVICE THO 😩 #fyp #bts #bts...   \n",
       "1  7059020753978789166      🐈Are you envious? #fy #kitty #cat #love #kiss   \n",
       "2  7061272988615707950                                                Fyp   \n",
       "3  7039714932283362607                                 100% the truth! ❤️   \n",
       "4  7056048829749218607                                                      \n",
       "\n",
       "  sound_transcribed                                        upload_time  \\\n",
       "0                NA  https://v16-webapp.tiktok.com/c236514e9e9afb02...   \n",
       "1                NA  https://v16-webapp.tiktok.com/19acdfd3ecbceb5f...   \n",
       "2           Bonanza  https://v16-webapp.tiktok.com/e4d4117e4cd54b88...   \n",
       "3         beautiful  https://v16-webapp.tiktok.com/66467801dcb7df68...   \n",
       "4                NA  https://v16-webapp.tiktok.com/fd0801d14a758eef...   \n",
       "\n",
       "       view  \n",
       "0  63900000  \n",
       "1   5400000  \n",
       "2   3800000  \n",
       "3  37900000  \n",
       "4   8300000  "
      ]
     },
     "execution_count": 2,
     "metadata": {},
     "output_type": "execute_result"
    }
   ],
   "source": [
    "tiktoks.head()"
   ]
  },
  {
   "cell_type": "code",
   "execution_count": 3,
   "id": "8197ec5e-ff0e-478f-a7be-064ce7df1436",
   "metadata": {},
   "outputs": [
    {
     "data": {
      "text/plain": [
       "(135, 5)"
      ]
     },
     "execution_count": 3,
     "metadata": {},
     "output_type": "execute_result"
    }
   ],
   "source": [
    "audio_tiktoks = tiktoks[tiktoks[\"sound_transcribed\"] != \"NA\"]\n",
    "audio_tiktoks = audio_tiktoks.drop_duplicates(subset='id')\n",
    "audio_tiktoks.shape"
   ]
  },
  {
   "cell_type": "code",
   "execution_count": 4,
   "id": "64f6fbaa-94ec-485a-8571-cf49d47e39d1",
   "metadata": {},
   "outputs": [
    {
     "data": {
      "text/plain": [
       "2                                                     Fyp\n",
       "3                                      100% the truth! ❤️\n",
       "7                                                        \n",
       "8       she really tried to kick us off the plane.😂😂 @...\n",
       "10             Roni does another TikTok #dance! #flipbook\n",
       "                              ...                        \n",
       "1264                Happy Valentines Day Lynja Turtles 🥰🥰\n",
       "1280    الاغنيه ادمان❤️‍🔥 مش عم تتطلع من راسي😪😂#أم_غما...\n",
       "1288             She still alive #malinois #crazyforfetch\n",
       "1292    d joke. need ko money now HAHAHAHAHAHA #mobile...\n",
       "1296                 tried the most softest look kSKSKSKS\n",
       "Name: video_title, Length: 135, dtype: object"
      ]
     },
     "execution_count": 4,
     "metadata": {},
     "output_type": "execute_result"
    }
   ],
   "source": [
    "audio_tiktoks[\"video_title\"]"
   ]
  },
  {
   "cell_type": "code",
   "execution_count": 5,
   "id": "e2d4f7b4-34b4-4c6b-b04f-c1018dedff46",
   "metadata": {},
   "outputs": [],
   "source": [
    "from nltk.sentiment import SentimentAnalyzer\n",
    "from nltk.sentiment.util import *"
   ]
  },
  {
   "cell_type": "code",
   "execution_count": 6,
   "id": "76b1e684-78ab-416d-a20b-0c98b6fca142",
   "metadata": {},
   "outputs": [
    {
     "name": "stdout",
     "output_type": "stream",
     "text": [
      "Fyp\n",
      "compound: 0.0, neg: 0.0, neu: 1.0, pos: 0.0, \n",
      "100% the truth! ❤️\n",
      "compound: 0.3802, neg: 0.0, neu: 0.536, pos: 0.464, \n",
      "\n",
      "compound: 0.0, neg: 0.0, neu: 0.0, pos: 0.0, \n",
      "she really tried to kick us off the plane.😂😂 @theskimaskgirl\n",
      "compound: 0.0, neg: 0.0, neu: 1.0, pos: 0.0, \n",
      "Roni does another TikTok #dance! #flipbook\n",
      "compound: 0.0, neg: 0.0, neu: 1.0, pos: 0.0, \n",
      "#cute #dog\n",
      "compound: 0.0, neg: 0.0, neu: 1.0, pos: 0.0, \n",
      "MANY PPL ASKED. <3 GTG TO SCHOOL #fyp #foryou #tysm #A+K\n",
      "compound: 0.4404, neg: 0.0, neu: 0.775, pos: 0.225, \n",
      "How Tiktok behind the scenes are… 😂 @coreyscherer\n",
      "compound: 0.0, neg: 0.0, neu: 1.0, pos: 0.0, \n",
      "He just want to hangout w me and all I do is bully him 😔 #foryou #fyp #baby #brother\n",
      "compound: -0.4404, neg: 0.173, neu: 0.757, pos: 0.07, \n",
      "#trending #fyp #manga #anime #killua #animetiktok\n",
      "compound: 0.0, neg: 0.0, neu: 1.0, pos: 0.0, \n"
     ]
    }
   ],
   "source": [
    "from nltk.sentiment.vader import SentimentIntensityAnalyzer\n",
    "for title in audio_tiktoks[\"video_title\"][:10]:\n",
    "    sid = SentimentIntensityAnalyzer()\n",
    "    print(title)\n",
    "    ss = sid.polarity_scores(title)\n",
    "    for k in sorted(ss):\n",
    "        print('{0}: {1}, '.format(k, ss[k]), end='')\n",
    "    print()"
   ]
  },
  {
   "cell_type": "code",
   "execution_count": 7,
   "id": "9a6859b6-0d01-425c-8efd-bea6cca39da4",
   "metadata": {},
   "outputs": [
    {
     "data": {
      "text/plain": [
       "{'neg': 0.0, 'neu': 1.0, 'pos': 0.0, 'compound': 0.0}"
      ]
     },
     "execution_count": 7,
     "metadata": {},
     "output_type": "execute_result"
    }
   ],
   "source": [
    "ss = [SentimentIntensityAnalyzer().polarity_scores(title) for title in audio_tiktoks[\"video_title\"]]\n",
    "ss[0]"
   ]
  },
  {
   "cell_type": "code",
   "execution_count": 8,
   "id": "0da1a87f-605d-4ab9-8f1c-1fa6538d5cda",
   "metadata": {},
   "outputs": [
    {
     "data": {
      "text/plain": [
       "{'neu': 107.159, 'pos': 9.683, 'compound': 10.0458, 'neg': 3.159}"
      ]
     },
     "execution_count": 8,
     "metadata": {},
     "output_type": "execute_result"
    }
   ],
   "source": [
    "import collections\n",
    "\n",
    "add_dict = collections.Counter({'neg': 0.0, 'neu': 0.0, 'pos': 0.0, 'compound': 0.0})\n",
    "\n",
    "for s in ss:\n",
    "    counter = collections.Counter(s)\n",
    "    add_dict += counter\n",
    "    dict_ss = dict(add_dict)\n",
    "    \n",
    "dict_ss"
   ]
  },
  {
   "cell_type": "code",
   "execution_count": 9,
   "id": "caa56f84-23bc-44a7-a0fd-23db43a02ae2",
   "metadata": {},
   "outputs": [
    {
     "data": {
      "text/plain": [
       "135"
      ]
     },
     "execution_count": 9,
     "metadata": {},
     "output_type": "execute_result"
    }
   ],
   "source": [
    "len(ss)"
   ]
  },
  {
   "cell_type": "code",
   "execution_count": 10,
   "id": "e10bdd78-2f5d-4f35-9511-d8778e88e60c",
   "metadata": {},
   "outputs": [
    {
     "data": {
      "text/plain": [
       "{'neu': 0.7937703703703705,\n",
       " 'pos': 0.07172592592592593,\n",
       " 'compound': 0.07441333333333333,\n",
       " 'neg': 0.023399999999999997}"
      ]
     },
     "execution_count": 10,
     "metadata": {},
     "output_type": "execute_result"
    }
   ],
   "source": [
    "# take the average score\n",
    "for k in dict_ss.keys():\n",
    "    dict_ss[k] = dict_ss[k]/len(ss)\n",
    "\n",
    "dict_ss"
   ]
  },
  {
   "cell_type": "code",
   "execution_count": 11,
   "id": "c2dbbf60-ef9a-4dd8-ae47-2e38a17539a7",
   "metadata": {},
   "outputs": [
    {
     "data": {
      "image/png": "[encoded data removed]",
      "text/plain": [
       "<Figure size 640x480 with 1 Axes>"
      ]
     },
     "metadata": {},
     "output_type": "display_data"
    }
   ],
   "source": [
    "import matplotlib.pyplot as plt\n",
    "\n",
    "dict_data = dict_ss.copy()\n",
    "dict_data.pop('compound')\n",
    "plt.pie(dict_data.values(), labels=dict_data.keys())\n",
    "plt.show()"
   ]
  },
  {
   "cell_type": "code",
   "execution_count": 12,
   "id": "8de3d72c-7dbf-4a68-8d6c-373f368f0a0d",
   "metadata": {},
   "outputs": [
    {
     "data": {
      "text/plain": [
       "[['fyp', 'bts', 'btsarmy', 'btsconcert2021', 'taehyung', 'ptdonstage', 'btsv'],\n",
       " ['fy', 'kitty', 'cat', 'love', 'kiss'],\n",
       " [],\n",
       " [],\n",
       " [],\n",
       " [],\n",
       " ['catsoftikok'],\n",
       " [],\n",
       " [],\n",
       " []]"
      ]
     },
     "execution_count": 12,
     "metadata": {},
     "output_type": "execute_result"
    }
   ],
   "source": [
    "def hashtag_extract(x):\n",
    "    hashtags = []\n",
    "    # Loop over the words in the tweet\n",
    "    for i in x:\n",
    "        ht = re.findall(r\"#(\\w+)\", i)\n",
    "        hashtags.append(ht)\n",
    "    return hashtags\n",
    "\n",
    "titles = tiktoks[\"video_title\"]\n",
    "hashtags = hashtag_extract(titles)\n",
    "hashtags[:10]"
   ]
  },
  {
   "cell_type": "code",
   "execution_count": 13,
   "id": "2c80383d-0398-4b69-b42d-76430302bc45",
   "metadata": {},
   "outputs": [
    {
     "data": {
      "text/plain": [
       "['fyp',\n",
       " 'bts',\n",
       " 'btsarmy',\n",
       " 'btsconcert2021',\n",
       " 'taehyung',\n",
       " 'ptdonstage',\n",
       " 'btsv',\n",
       " 'fy',\n",
       " 'kitty',\n",
       " 'cat']"
      ]
     },
     "execution_count": 13,
     "metadata": {},
     "output_type": "execute_result"
    }
   ],
   "source": [
    "hashtags = sum(hashtags, [])\n",
    "hashtags[:10]"
   ]
  },
  {
   "cell_type": "code",
   "execution_count": 14,
   "id": "2deb4940-6fb3-4445-bead-aa9e92ff3926",
   "metadata": {},
   "outputs": [],
   "source": [
    "import pandas as pd\n",
    "series = pd.Series(hashtags)\n",
    "freq = series.value_counts()\n",
    "df = pd.DataFrame(freq[:10]).reset_index()\n",
    "df = df.rename(columns={\"index\": \"hashtag\", 0: \"frequency\"})"
   ]
  },
  {
   "cell_type": "code",
   "execution_count": 15,
   "id": "9e8d2022-b8f7-4299-a841-d789f2ee094c",
   "metadata": {},
   "outputs": [
    {
     "data": {
      "text/html": [
       "<div>\n",
       "<style scoped>\n",
       "    .dataframe tbody tr th:only-of-type {\n",
       "        vertical-align: middle;\n",
       "    }\n",
       "\n",
       "    .dataframe tbody tr th {\n",
       "        vertical-align: top;\n",
       "    }\n",
       "\n",
       "    .dataframe thead th {\n",
       "        text-align: right;\n",
       "    }\n",
       "</style>\n",
       "<table border=\"1\" class=\"dataframe\">\n",
       "  <thead>\n",
       "    <tr style=\"text-align: right;\">\n",
       "      <th></th>\n",
       "      <th>hashtag</th>\n",
       "      <th>frequency</th>\n",
       "      <th>score</th>\n",
       "    </tr>\n",
       "  </thead>\n",
       "  <tbody>\n",
       "    <tr>\n",
       "      <th>0</th>\n",
       "      <td>fyp</td>\n",
       "      <td>258</td>\n",
       "      <td>0.0000</td>\n",
       "    </tr>\n",
       "    <tr>\n",
       "      <th>1</th>\n",
       "      <td>foryou</td>\n",
       "      <td>176</td>\n",
       "      <td>0.0000</td>\n",
       "    </tr>\n",
       "    <tr>\n",
       "      <th>2</th>\n",
       "      <td>cat</td>\n",
       "      <td>106</td>\n",
       "      <td>0.0000</td>\n",
       "    </tr>\n",
       "    <tr>\n",
       "      <th>3</th>\n",
       "      <td>viral</td>\n",
       "      <td>85</td>\n",
       "      <td>0.0000</td>\n",
       "    </tr>\n",
       "    <tr>\n",
       "      <th>4</th>\n",
       "      <td>funny</td>\n",
       "      <td>82</td>\n",
       "      <td>0.4404</td>\n",
       "    </tr>\n",
       "    <tr>\n",
       "      <th>5</th>\n",
       "      <td>cute</td>\n",
       "      <td>69</td>\n",
       "      <td>0.4588</td>\n",
       "    </tr>\n",
       "    <tr>\n",
       "      <th>6</th>\n",
       "      <td>dog</td>\n",
       "      <td>66</td>\n",
       "      <td>0.0000</td>\n",
       "    </tr>\n",
       "    <tr>\n",
       "      <th>7</th>\n",
       "      <td>foryoupage</td>\n",
       "      <td>56</td>\n",
       "      <td>0.0000</td>\n",
       "    </tr>\n",
       "    <tr>\n",
       "      <th>8</th>\n",
       "      <td>pet</td>\n",
       "      <td>55</td>\n",
       "      <td>0.0000</td>\n",
       "    </tr>\n",
       "    <tr>\n",
       "      <th>9</th>\n",
       "      <td>fypシ</td>\n",
       "      <td>49</td>\n",
       "      <td>0.0000</td>\n",
       "    </tr>\n",
       "  </tbody>\n",
       "</table>\n",
       "</div>"
      ],
      "text/plain": [
       "      hashtag  frequency   score\n",
       "0         fyp        258  0.0000\n",
       "1      foryou        176  0.0000\n",
       "2         cat        106  0.0000\n",
       "3       viral         85  0.0000\n",
       "4       funny         82  0.4404\n",
       "5        cute         69  0.4588\n",
       "6         dog         66  0.0000\n",
       "7  foryoupage         56  0.0000\n",
       "8         pet         55  0.0000\n",
       "9        fypシ         49  0.0000"
      ]
     },
     "execution_count": 15,
     "metadata": {},
     "output_type": "execute_result"
    }
   ],
   "source": [
    "ss_h = [SentimentIntensityAnalyzer().polarity_scores(h) for h in df[\"hashtag\"]]\n",
    "compound_h = [ss_h[i]['compound'] for i in range(len(ss_h))]\n",
    "df['score'] = compound_h\n",
    "df"
   ]
  },
  {
   "cell_type": "code",
   "execution_count": 27,
   "id": "846d418d-eb49-4dde-a0b9-61ef63dc9802",
   "metadata": {},
   "outputs": [],
   "source": [
    "import numpy as np\n",
    "import wordsegment\n",
    "from wordsegment import load, segment\n",
    "load()\n",
    "\n",
    "def clean_tiktok_df(tiktoks):\n",
    "    \n",
    "    #remove duplicates\n",
    "    dups = tiktoks['id'].duplicated(keep = 'last') #keep the most recent version of the tiktok\n",
    "    tiktoks = tiktoks[np.invert(dups)]\n",
    "    tiktoks = tiktoks.reset_index(drop = True)\n",
    "    \n",
    "    #remove rows with no video_title and no sound_transcribed\n",
    "    tiktoks = tiktoks[(tiktoks[\"sound_transcribed\"] != 'NA') | (tiktoks[\"video_title\"] != '')]\n",
    "    \n",
    "    #replace 'NA' in sound_transcribed with ''\n",
    "    tiktoks[\"sound_transcribed\"] = [sound if sound != 'NA' else '' for sound in tiktoks[\"sound_transcribed\"]]\n",
    "    tiktoks = tiktoks.reset_index(drop = True)\n",
    "    \n",
    "    #replace hashtag phrase with predicted phrase with spaces added\n",
    "    tiktoks['hashtags'] = [re.findall(r\"#(\\w+)\",x) for x in tiktoks['video_title'] ] #create col for list of hashtag phrases\n",
    "    tiktoks['predicted_hashtag_words'] = [segment(' '.join(x)) for x in tiktoks['hashtags']] #create col for list of predicted phrases of each hashtag\n",
    "    tiktoks['predicted_hashtag_words'] = [' '.join(x) for x in tiktoks['predicted_hashtag_words']] #list -> string\n",
    "    tiktoks['video_title'] = [re.sub(\"#[A-Za-z0-9_]+\",\"\", x) for x in tiktoks['video_title']] #remove hashtagged phrases from title\n",
    "    tiktoks['video_title'] = tiktoks['video_title'] + tiktoks['predicted_hashtag_words'] #new title where hashtag phrases are replaced with their predicted words\n",
    "   \n",
    "    #combine title and sound_transcribed\n",
    "    tiktoks['title_and_sound'] = tiktoks['video_title'] + ' ' + tiktoks['sound_transcribed']\n",
    "    return tiktoks"
   ]
  },
  {
   "cell_type": "code",
   "execution_count": 2,
   "id": "bda7818d-275e-4ea9-b323-780ec8f45c41",
   "metadata": {},
   "outputs": [],
   "source": [
    "def get_sentiment(tiktoks):\n",
    "    #combine title and sound_transcribed\n",
    "    tiktoks['title_and_sound'] = tiktoks['video_title'] + ' ' + tiktoks['sound_transcribed']\n",
    "    sid = SentimentIntensityAnalyzer()\n",
    "\n",
    "    tiktoks['Negative Sentiment'] = tiktoks['title_and_sound'].apply(lambda x: sid.polarity_scores(x)['neg'])\n",
    "    tiktoks['Neutral Sentiment'] = tiktoks['title_and_sound'].apply(lambda x: sid.polarity_scores(x)['neu'])\n",
    "    tiktoks['Positive Sentiment'] = tiktoks['title_and_sound'].apply(lambda x: sid.polarity_scores(x)['pos'])\n",
    "    tiktoks['Compound Sentiment'] = tiktoks['title_and_sound'].apply(lambda x: sid.polarity_scores(x)['compound'])\n",
    "    return tiktoks"
   ]
  },
  {
   "cell_type": "code",
   "execution_count": 17,
   "id": "c675adca-f50b-48f5-9d6f-046d2edf3966",
   "metadata": {},
   "outputs": [],
   "source": [
    "import collections\n",
    "def sent_scores(tiktoks):\n",
    "    ss = [SentimentIntensityAnalyzer().polarity_scores(text) for text in tiktoks['title_and_sound']]\n",
    "    add_dict = collections.Counter({'neg': 0.0, 'neu': 0.0, 'pos': 0.0, 'compound': 0.0})\n",
    "    # add up all the sentiment scores of all the tiktoks\n",
    "    for s in ss:\n",
    "        counter = collections.Counter(s)\n",
    "        add_dict += counter\n",
    "    dict_ss = dict(add_dict)\n",
    "    # take the average score\n",
    "    for k in dict_ss.keys():\n",
    "        dict_ss[k] = dict_ss[k]/len(ss)\n",
    "\n",
    "    return dict_ss"
   ]
  },
  {
   "cell_type": "code",
   "execution_count": 30,
   "id": "d15ece2e-2149-424a-921f-be193c055d13",
   "metadata": {},
   "outputs": [
    {
     "data": {
      "image/png": "[encoded data removed]",
      "text/plain": [
       "<Figure size 640x480 with 1 Axes>"
      ]
     },
     "metadata": {},
     "output_type": "display_data"
    }
   ],
   "source": [
    "test = tiktoks[:10]\n",
    "\n",
    "def make_piechart(tiktoks):\n",
    "    tiktoks = clean_tiktok_df(tiktoks)\n",
    "    dict_data = sent_scores(tiktoks).copy()\n",
    "    dict_data.pop('compound')\n",
    "    plt.pie(dict_data.values(), labels=dict_data.keys(), colors = ['blue', 'green', 'red'])\n",
    "    plt.show()\n",
    "    \n",
    "make_piechart(tiktoks)"
   ]
  },
  {
   "cell_type": "code",
   "execution_count": null,
   "id": "599f3e2d-e365-452d-acb6-4d06003bf365",
   "metadata": {},
   "outputs": [],
   "source": []
  }
 ],
 "metadata": {
  "kernelspec": {
   "display_name": "Python 3 (ipykernel)",
   "language": "python",
   "name": "python3"
  },
  "language_info": {
   "codemirror_mode": {
    "name": "ipython",
    "version": 3
   },
   "file_extension": ".py",
   "mimetype": "text/x-python",
   "name": "python",
   "nbconvert_exporter": "python",
   "pygments_lexer": "ipython3",
   "version": "3.8.12"
  }
 },
 "nbformat": 4,
 "nbformat_minor": 5
}
