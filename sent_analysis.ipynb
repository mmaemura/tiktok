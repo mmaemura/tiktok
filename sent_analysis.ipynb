{
 "cells": [
  {
   "cell_type": "code",
   "execution_count": 1,
   "id": "ca0f331b-d5cf-4016-81da-922ed3ada026",
   "metadata": {},
   "outputs": [],
   "source": [
    "import sqlite3\n",
    "import pandas as pd\n",
    "\n",
    "conn = sqlite3.connect(\"tiktok.db\")\n",
    "\n",
    "cmd = \\\n",
    "    f\"\"\"\n",
    "    SELECT video_title, sound_transcribed, upload_time, view\n",
    "    FROM tiktok\n",
    "    \"\"\" \n",
    "    \n",
    "tiktoks = pd.read_sql_query(cmd, conn)\n",
    "    \n",
    "conn.close()"
   ]
  },
  {
   "cell_type": "code",
   "execution_count": 2,
   "id": "9753499f-ae33-441a-922b-a84d6ce60c1d",
   "metadata": {},
   "outputs": [
    {
     "data": {
      "text/html": [
       "<div>\n",
       "<style scoped>\n",
       "    .dataframe tbody tr th:only-of-type {\n",
       "        vertical-align: middle;\n",
       "    }\n",
       "\n",
       "    .dataframe tbody tr th {\n",
       "        vertical-align: top;\n",
       "    }\n",
       "\n",
       "    .dataframe thead th {\n",
       "        text-align: right;\n",
       "    }\n",
       "</style>\n",
       "<table border=\"1\" class=\"dataframe\">\n",
       "  <thead>\n",
       "    <tr style=\"text-align: right;\">\n",
       "      <th></th>\n",
       "      <th>video_title</th>\n",
       "      <th>sound_transcribed</th>\n",
       "      <th>upload_time</th>\n",
       "      <th>view</th>\n",
       "    </tr>\n",
       "  </thead>\n",
       "  <tbody>\n",
       "    <tr>\n",
       "      <th>0</th>\n",
       "      <td>EXCUSE MI THIS FANSERVICE THO 😩 #fyp #bts #bts...</td>\n",
       "      <td>NA</td>\n",
       "      <td>https://v16-webapp.tiktok.com/c236514e9e9afb02...</td>\n",
       "      <td>63900000</td>\n",
       "    </tr>\n",
       "    <tr>\n",
       "      <th>1</th>\n",
       "      <td>🐈Are you envious? #fy #kitty #cat #love #kiss</td>\n",
       "      <td>NA</td>\n",
       "      <td>https://v16-webapp.tiktok.com/19acdfd3ecbceb5f...</td>\n",
       "      <td>5400000</td>\n",
       "    </tr>\n",
       "    <tr>\n",
       "      <th>2</th>\n",
       "      <td>Fyp</td>\n",
       "      <td>Bonanza</td>\n",
       "      <td>https://v16-webapp.tiktok.com/e4d4117e4cd54b88...</td>\n",
       "      <td>3800000</td>\n",
       "    </tr>\n",
       "    <tr>\n",
       "      <th>3</th>\n",
       "      <td>100% the truth! ❤️</td>\n",
       "      <td>beautiful</td>\n",
       "      <td>https://v16-webapp.tiktok.com/66467801dcb7df68...</td>\n",
       "      <td>37900000</td>\n",
       "    </tr>\n",
       "    <tr>\n",
       "      <th>4</th>\n",
       "      <td></td>\n",
       "      <td>NA</td>\n",
       "      <td>https://v16-webapp.tiktok.com/fd0801d14a758eef...</td>\n",
       "      <td>8300000</td>\n",
       "    </tr>\n",
       "  </tbody>\n",
       "</table>\n",
       "</div>"
      ],
      "text/plain": [
       "                                         video_title sound_transcribed  \\\n",
       "0  EXCUSE MI THIS FANSERVICE THO 😩 #fyp #bts #bts...                NA   \n",
       "1      🐈Are you envious? #fy #kitty #cat #love #kiss                NA   \n",
       "2                                                Fyp           Bonanza   \n",
       "3                                 100% the truth! ❤️         beautiful   \n",
       "4                                                                   NA   \n",
       "\n",
       "                                         upload_time      view  \n",
       "0  https://v16-webapp.tiktok.com/c236514e9e9afb02...  63900000  \n",
       "1  https://v16-webapp.tiktok.com/19acdfd3ecbceb5f...   5400000  \n",
       "2  https://v16-webapp.tiktok.com/e4d4117e4cd54b88...   3800000  \n",
       "3  https://v16-webapp.tiktok.com/66467801dcb7df68...  37900000  \n",
       "4  https://v16-webapp.tiktok.com/fd0801d14a758eef...   8300000  "
      ]
     },
     "execution_count": 2,
     "metadata": {},
     "output_type": "execute_result"
    }
   ],
   "source": [
    "tiktoks.head()"
   ]
  },
  {
   "cell_type": "code",
   "execution_count": 3,
   "id": "8197ec5e-ff0e-478f-a7be-064ce7df1436",
   "metadata": {},
   "outputs": [
    {
     "data": {
      "text/plain": [
       "1328"
      ]
     },
     "execution_count": 3,
     "metadata": {},
     "output_type": "execute_result"
    }
   ],
   "source": [
    "audio_tiktoks = tiktoks[tiktoks[\"sound_transcribed\"] != \"NA\"]\n",
    "audio_tiktoks.size"
   ]
  },
  {
   "cell_type": "code",
   "execution_count": 4,
   "id": "64f6fbaa-94ec-485a-8571-cf49d47e39d1",
   "metadata": {},
   "outputs": [
    {
     "data": {
      "text/plain": [
       "2                                                     Fyp\n",
       "3                                      100% the truth! ❤️\n",
       "7                                                        \n",
       "8       she really tried to kick us off the plane.😂😂 @...\n",
       "10             Roni does another TikTok #dance! #flipbook\n",
       "                              ...                        \n",
       "1083    Reply to @cajuncoonass337  #wafflehousewaitres...\n",
       "1093    Give your girl 😜 this 💄😜see what happens 😁#for...\n",
       "1094    You thought your boyfriend forgot about your a...\n",
       "1096    #pov: Your boyfriend finds out that you cheate...\n",
       "1098                                       #disco #dj #DJ\n",
       "Name: video_title, Length: 332, dtype: object"
      ]
     },
     "execution_count": 4,
     "metadata": {},
     "output_type": "execute_result"
    }
   ],
   "source": [
    "audio_tiktoks[\"video_title\"]"
   ]
  },
  {
   "cell_type": "code",
   "execution_count": 5,
   "id": "e2d4f7b4-34b4-4c6b-b04f-c1018dedff46",
   "metadata": {},
   "outputs": [],
   "source": [
    "from nltk.classify import NaiveBayesClassifier\n",
    "from nltk.corpus import subjectivity\n",
    "from nltk.sentiment import SentimentAnalyzer\n",
    "from nltk.sentiment.util import *"
   ]
  },
  {
   "cell_type": "code",
   "execution_count": 6,
   "id": "76b1e684-78ab-416d-a20b-0c98b6fca142",
   "metadata": {},
   "outputs": [
    {
     "name": "stdout",
     "output_type": "stream",
     "text": [
      "Fyp\n",
      "compound: 0.0, neg: 0.0, neu: 1.0, pos: 0.0, \n",
      "100% the truth! ❤️\n",
      "compound: 0.3802, neg: 0.0, neu: 0.536, pos: 0.464, \n",
      "\n",
      "compound: 0.0, neg: 0.0, neu: 0.0, pos: 0.0, \n",
      "she really tried to kick us off the plane.😂😂 @theskimaskgirl\n",
      "compound: 0.0, neg: 0.0, neu: 1.0, pos: 0.0, \n",
      "Roni does another TikTok #dance! #flipbook\n",
      "compound: 0.0, neg: 0.0, neu: 1.0, pos: 0.0, \n",
      "#cute #dog\n",
      "compound: 0.0, neg: 0.0, neu: 1.0, pos: 0.0, \n",
      "MANY PPL ASKED. <3 GTG TO SCHOOL #fyp #foryou #tysm #A+K\n",
      "compound: 0.4404, neg: 0.0, neu: 0.775, pos: 0.225, \n",
      "How Tiktok behind the scenes are… 😂 @coreyscherer\n",
      "compound: 0.0, neg: 0.0, neu: 1.0, pos: 0.0, \n",
      "He just want to hangout w me and all I do is bully him 😔 #foryou #fyp #baby #brother\n",
      "compound: -0.4404, neg: 0.173, neu: 0.757, pos: 0.07, \n",
      "#trending #fyp #manga #anime #killua #animetiktok\n",
      "compound: 0.0, neg: 0.0, neu: 1.0, pos: 0.0, \n"
     ]
    }
   ],
   "source": [
    "from nltk.sentiment.vader import SentimentIntensityAnalyzer\n",
    "for title in audio_tiktoks[\"video_title\"][:10]:\n",
    "    sid = SentimentIntensityAnalyzer()\n",
    "    print(title)\n",
    "    ss = sid.polarity_scores(title)\n",
    "    for k in sorted(ss):\n",
    "        print('{0}: {1}, '.format(k, ss[k]), end='')\n",
    "    print()"
   ]
  },
  {
   "cell_type": "code",
   "execution_count": 44,
   "id": "9a6859b6-0d01-425c-8efd-bea6cca39da4",
   "metadata": {},
   "outputs": [
    {
     "data": {
      "text/plain": [
       "{'neg': 0.0, 'neu': 1.0, 'pos': 0.0, 'compound': 0.0}"
      ]
     },
     "execution_count": 44,
     "metadata": {},
     "output_type": "execute_result"
    }
   ],
   "source": [
    "ss = [SentimentIntensityAnalyzer().polarity_scores(title) for title in audio_tiktoks[\"video_title\"]]\n",
    "ss[0]"
   ]
  },
  {
   "cell_type": "code",
   "execution_count": 45,
   "id": "0da1a87f-605d-4ab9-8f1c-1fa6538d5cda",
   "metadata": {},
   "outputs": [
    {
     "name": "stdout",
     "output_type": "stream",
     "text": [
      "{'neu': 272.90300000000013, 'pos': 21.861, 'compound': 25.401100000000003, 'neg': 6.236000000000001}\n"
     ]
    }
   ],
   "source": [
    "import collections\n",
    "\n",
    "add_dict = collections.Counter({'neu': 0.0, 'pos': 0.0, 'compound': 0.0, 'neg': 0.0})\n",
    "\n",
    "for s in ss:\n",
    "    counter = collections.Counter(s)\n",
    "    add_dict += counter\n",
    "    dict_ss = dict(add_dict)\n",
    "\n",
    "print(dict_ss)"
   ]
  },
  {
   "cell_type": "code",
   "execution_count": 46,
   "id": "c2dbbf60-ef9a-4dd8-ae47-2e38a17539a7",
   "metadata": {},
   "outputs": [
    {
     "data": {
      "image/png": "[encoded data removed]",
      "text/plain": [
       "<Figure size 200x200 with 1 Axes>"
      ]
     },
     "metadata": {},
     "output_type": "display_data"
    }
   ],
   "source": [
    "import matplotlib.pyplot as plt\n",
    "\n",
    "plt.pie(dict_ss.values(), labels=dict_ss.keys())\n",
    "plt.show()"
   ]
  },
  {
   "cell_type": "code",
   "execution_count": 81,
   "id": "8de3d72c-7dbf-4a68-8d6c-373f368f0a0d",
   "metadata": {},
   "outputs": [
    {
     "data": {
      "text/plain": [
       "[['fyp', 'bts', 'btsarmy', 'btsconcert2021', 'taehyung', 'ptdonstage', 'btsv'],\n",
       " ['fy', 'kitty', 'cat', 'love', 'kiss'],\n",
       " [],\n",
       " [],\n",
       " [],\n",
       " [],\n",
       " ['catsoftikok'],\n",
       " [],\n",
       " [],\n",
       " []]"
      ]
     },
     "execution_count": 81,
     "metadata": {},
     "output_type": "execute_result"
    }
   ],
   "source": [
    "def hashtag_extract(x):\n",
    "    hashtags = []\n",
    "    # Loop over the words in the tweet\n",
    "    for i in x:\n",
    "        ht = re.findall(r\"#(\\w+)\", i)\n",
    "        hashtags.append(ht)\n",
    "    return hashtags\n",
    "\n",
    "titles = tiktoks[\"video_title\"]\n",
    "hashtags = hashtag_extract(titles)\n",
    "hashtags[:10]"
   ]
  },
  {
   "cell_type": "code",
   "execution_count": 82,
   "id": "2c80383d-0398-4b69-b42d-76430302bc45",
   "metadata": {},
   "outputs": [
    {
     "data": {
      "text/plain": [
       "['fyp',\n",
       " 'bts',\n",
       " 'btsarmy',\n",
       " 'btsconcert2021',\n",
       " 'taehyung',\n",
       " 'ptdonstage',\n",
       " 'btsv',\n",
       " 'fy',\n",
       " 'kitty',\n",
       " 'cat']"
      ]
     },
     "execution_count": 82,
     "metadata": {},
     "output_type": "execute_result"
    }
   ],
   "source": [
    "hashtags = sum(hashtags, [])\n",
    "hashtags[:10]"
   ]
  },
  {
   "cell_type": "code",
   "execution_count": 106,
   "id": "2deb4940-6fb3-4445-bead-aa9e92ff3926",
   "metadata": {},
   "outputs": [
    {
     "data": {
      "text/html": [
       "<div>\n",
       "<style scoped>\n",
       "    .dataframe tbody tr th:only-of-type {\n",
       "        vertical-align: middle;\n",
       "    }\n",
       "\n",
       "    .dataframe tbody tr th {\n",
       "        vertical-align: top;\n",
       "    }\n",
       "\n",
       "    .dataframe thead th {\n",
       "        text-align: right;\n",
       "    }\n",
       "</style>\n",
       "<table border=\"1\" class=\"dataframe\">\n",
       "  <thead>\n",
       "    <tr style=\"text-align: right;\">\n",
       "      <th></th>\n",
       "      <th>hashtag</th>\n",
       "      <th>frequency</th>\n",
       "    </tr>\n",
       "  </thead>\n",
       "  <tbody>\n",
       "    <tr>\n",
       "      <th>0</th>\n",
       "      <td>fyp</td>\n",
       "      <td>220</td>\n",
       "    </tr>\n",
       "    <tr>\n",
       "      <th>1</th>\n",
       "      <td>foryou</td>\n",
       "      <td>148</td>\n",
       "    </tr>\n",
       "    <tr>\n",
       "      <th>2</th>\n",
       "      <td>cat</td>\n",
       "      <td>95</td>\n",
       "    </tr>\n",
       "    <tr>\n",
       "      <th>3</th>\n",
       "      <td>funny</td>\n",
       "      <td>75</td>\n",
       "    </tr>\n",
       "    <tr>\n",
       "      <th>4</th>\n",
       "      <td>viral</td>\n",
       "      <td>75</td>\n",
       "    </tr>\n",
       "    <tr>\n",
       "      <th>5</th>\n",
       "      <td>cute</td>\n",
       "      <td>58</td>\n",
       "    </tr>\n",
       "    <tr>\n",
       "      <th>6</th>\n",
       "      <td>dog</td>\n",
       "      <td>57</td>\n",
       "    </tr>\n",
       "    <tr>\n",
       "      <th>7</th>\n",
       "      <td>pet</td>\n",
       "      <td>51</td>\n",
       "    </tr>\n",
       "    <tr>\n",
       "      <th>8</th>\n",
       "      <td>foryoupage</td>\n",
       "      <td>49</td>\n",
       "    </tr>\n",
       "    <tr>\n",
       "      <th>9</th>\n",
       "      <td>fypシ</td>\n",
       "      <td>38</td>\n",
       "    </tr>\n",
       "  </tbody>\n",
       "</table>\n",
       "</div>"
      ],
      "text/plain": [
       "      hashtag  frequency\n",
       "0         fyp        220\n",
       "1      foryou        148\n",
       "2         cat         95\n",
       "3       funny         75\n",
       "4       viral         75\n",
       "5        cute         58\n",
       "6         dog         57\n",
       "7         pet         51\n",
       "8  foryoupage         49\n",
       "9        fypシ         38"
      ]
     },
     "execution_count": 106,
     "metadata": {},
     "output_type": "execute_result"
    }
   ],
   "source": [
    "import pandas as pd\n",
    "series = pd.Series(hashtags)\n",
    "freq = series.value_counts()\n",
    "df = pd.DataFrame(freq[:10]).reset_index()\n",
    "df.rename(columns={\"index\": \"hashtag\", 0: \"frequency\"})"
   ]
  },
  {
   "cell_type": "code",
   "execution_count": null,
   "id": "9e8d2022-b8f7-4299-a841-d789f2ee094c",
   "metadata": {},
   "outputs": [],
   "source": []
  }
 ],
 "metadata": {
  "kernelspec": {
   "display_name": "Python 3",
   "language": "python",
   "name": "python3"
  },
  "language_info": {
   "codemirror_mode": {
    "name": "ipython",
    "version": 3
   },
   "file_extension": ".py",
   "mimetype": "text/x-python",
   "name": "python",
   "nbconvert_exporter": "python",
   "pygments_lexer": "ipython3",
   "version": "3.7.11"
  }
 },
 "nbformat": 4,
 "nbformat_minor": 5
}
