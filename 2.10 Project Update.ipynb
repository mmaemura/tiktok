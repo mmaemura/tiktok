{
 "cells": [
  {
   "cell_type": "code",
   "execution_count": 41,
   "id": "ec3cde18",
   "metadata": {},
   "outputs": [],
   "source": [
    "import pandas as pd\n",
    "import sqlite3"
   ]
  },
  {
   "cell_type": "markdown",
   "id": "1d6b044c",
   "metadata": {},
   "source": [
    "# Accessing the Queried Database file"
   ]
  },
  {
   "cell_type": "code",
   "execution_count": 34,
   "id": "c62d6fcb",
   "metadata": {},
   "outputs": [],
   "source": [
    "conn = sqlite3.connect(\"test.db\")\n",
    "\n",
    "cmd = \\\n",
    "\"\"\"\n",
    "SELECT *\n",
    "FROM tiktok\n",
    "\"\"\"\n",
    "\n",
    "df = pd.read_sql_query(cmd, conn)\n",
    "\n",
    "conn.close()"
   ]
  },
  {
   "cell_type": "code",
   "execution_count": 39,
   "id": "216d1f13",
   "metadata": {},
   "outputs": [
    {
     "data": {
      "text/html": [
       "<div>\n",
       "<style scoped>\n",
       "    .dataframe tbody tr th:only-of-type {\n",
       "        vertical-align: middle;\n",
       "    }\n",
       "\n",
       "    .dataframe tbody tr th {\n",
       "        vertical-align: top;\n",
       "    }\n",
       "\n",
       "    .dataframe thead th {\n",
       "        text-align: right;\n",
       "    }\n",
       "</style>\n",
       "<table border=\"1\" class=\"dataframe\">\n",
       "  <thead>\n",
       "    <tr style=\"text-align: right;\">\n",
       "      <th></th>\n",
       "      <th>date_pulled</th>\n",
       "      <th>video_title</th>\n",
       "      <th>creator_nickname</th>\n",
       "      <th>sound_transcribed</th>\n",
       "    </tr>\n",
       "  </thead>\n",
       "  <tbody>\n",
       "    <tr>\n",
       "      <th>0</th>\n",
       "      <td>2022-02-10 12:15:05.438295</td>\n",
       "      <td>This is the best present 🎁 Santa could give.. ...</td>\n",
       "      <td>BADDIES ONLY</td>\n",
       "      <td>boyfriend</td>\n",
       "    </tr>\n",
       "    <tr>\n",
       "      <th>1</th>\n",
       "      <td>2022-02-10 12:15:07.910793</td>\n",
       "      <td>Follow my instagram : akamztweenty</td>\n",
       "      <td>Akamz</td>\n",
       "      <td>NA</td>\n",
       "    </tr>\n",
       "    <tr>\n",
       "      <th>2</th>\n",
       "      <td>2022-02-10 12:15:09.175711</td>\n",
       "      <td>EXCUSE MI THIS FANSERVICE THO 😩 #fyp #bts #bts...</td>\n",
       "      <td>𝙢𝙞𝙣𝙙𝙮 ☆彡</td>\n",
       "      <td>NA</td>\n",
       "    </tr>\n",
       "    <tr>\n",
       "      <th>3</th>\n",
       "      <td>2022-02-10 12:15:11.314537</td>\n",
       "      <td>This how we start off my sister’s day.</td>\n",
       "      <td>otakoyakisoba</td>\n",
       "      <td>I miss your dad so big</td>\n",
       "    </tr>\n",
       "  </tbody>\n",
       "</table>\n",
       "</div>"
      ],
      "text/plain": [
       "                  date_pulled  \\\n",
       "0  2022-02-10 12:15:05.438295   \n",
       "1  2022-02-10 12:15:07.910793   \n",
       "2  2022-02-10 12:15:09.175711   \n",
       "3  2022-02-10 12:15:11.314537   \n",
       "\n",
       "                                         video_title creator_nickname  \\\n",
       "0  This is the best present 🎁 Santa could give.. ...     BADDIES ONLY   \n",
       "1                 Follow my instagram : akamztweenty            Akamz   \n",
       "2  EXCUSE MI THIS FANSERVICE THO 😩 #fyp #bts #bts...         𝙢𝙞𝙣𝙙𝙮 ☆彡   \n",
       "3             This how we start off my sister’s day.    otakoyakisoba   \n",
       "\n",
       "        sound_transcribed  \n",
       "0               boyfriend  \n",
       "1                      NA  \n",
       "2                      NA  \n",
       "3  I miss your dad so big  "
      ]
     },
     "execution_count": 39,
     "metadata": {},
     "output_type": "execute_result"
    }
   ],
   "source": [
    "df[['date_pulled', 'video_title', 'creator_nickname', 'sound_transcribed']].iloc[0:4]"
   ]
  },
  {
   "cell_type": "markdown",
   "id": "81f33e61",
   "metadata": {},
   "source": [
    "# Checking the Transcribed Sound"
   ]
  },
  {
   "cell_type": "code",
   "execution_count": 40,
   "id": "8bf49725",
   "metadata": {},
   "outputs": [
    {
     "data": {
      "text/plain": [
       "'https://v16-webapp.tiktok.com/8ed8e1118310a2a13ff722c9bd13f8e1/6205c6af/video/tos/maliva/tos-maliva-ve-0068c799-us/0ee4fb19f8b643a28c6a488271e6212a/?a=1988&br=2926&bt=1463&cd=0%7C0%7C1%7C0&ch=0&cr=0&cs=0&cv=1&dr=0&ds=3&er=&ft=XOQ9-3E7nz7ThvjPpDXq&l=2022021020150401024502411218900D8D&lr=tiktok_m&mime_type=video_mp4&net=0&pl=0&qs=0&rc=Mzs0bDc6Zjd1OjMzZzczNEApOTs5Ojg5PGVkN2U8ZDlmZmc0MGFqcjRfYG5gLS1kMS9zczEuMzAvXjUyNC1hMC5eMmE6Yw%3D%3D&vl=&vr='"
      ]
     },
     "execution_count": 40,
     "metadata": {},
     "output_type": "execute_result"
    }
   ],
   "source": [
    "df['upload_time'][3]"
   ]
  }
 ],
 "metadata": {
  "kernelspec": {
   "display_name": "Python 3 (ipykernel)",
   "language": "python",
   "name": "python3"
  },
  "language_info": {
   "codemirror_mode": {
    "name": "ipython",
    "version": 3
   },
   "file_extension": ".py",
   "mimetype": "text/x-python",
   "name": "python",
   "nbconvert_exporter": "python",
   "pygments_lexer": "ipython3",
   "version": "3.8.12"
  }
 },
 "nbformat": 4,
 "nbformat_minor": 5
}
