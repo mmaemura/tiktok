{
 "cells": [
  {
   "cell_type": "code",
   "execution_count": 1,
   "id": "b9352cc0",
   "metadata": {},
   "outputs": [],
   "source": [
    "import sqlite3\n",
    "import pandas as pd\n",
    "import matplotlib.pyplot as plt\n",
    "from nltk.sentiment import SentimentAnalyzer\n",
    "from nltk.sentiment.util import *\n",
    "from nltk.sentiment.vader import SentimentIntensityAnalyzer\n",
    "import collections"
   ]
  },
  {
   "cell_type": "code",
   "execution_count": 2,
   "id": "73dbf0cf",
   "metadata": {},
   "outputs": [
    {
     "name": "stderr",
     "output_type": "stream",
     "text": [
      "[nltk_data] Downloading package vader_lexicon to\n",
      "[nltk_data]     /Users/emmabradley/nltk_data...\n",
      "[nltk_data]   Package vader_lexicon is already up-to-date!\n"
     ]
    },
    {
     "data": {
      "text/plain": [
       "True"
      ]
     },
     "execution_count": 2,
     "metadata": {},
     "output_type": "execute_result"
    }
   ],
   "source": [
    "import nltk\n",
    "nltk.download('vader_lexicon')"
   ]
  },
  {
   "cell_type": "code",
   "execution_count": 3,
   "id": "ee7f1160",
   "metadata": {},
   "outputs": [],
   "source": [
    "conn = sqlite3.connect(\"tiktok.db\")\n",
    "\n",
    "\n",
    "# get tik toks from past # of days\n",
    "cmd = \\\n",
    "    f\"\"\"\n",
    "    SELECT id, video_title, sound_transcribed, upload_time, view, date_pulled\n",
    "    FROM tiktok\n",
    "    \"\"\" \n",
    "\n",
    "tiktoks = pd.read_sql_query(cmd, conn)\n",
    "\n",
    "# close database\n",
    "conn.close()"
   ]
  },
  {
   "cell_type": "code",
   "execution_count": 4,
   "id": "9c3bd66a",
   "metadata": {},
   "outputs": [
    {
     "data": {
      "text/html": [
       "<div>\n",
       "<style scoped>\n",
       "    .dataframe tbody tr th:only-of-type {\n",
       "        vertical-align: middle;\n",
       "    }\n",
       "\n",
       "    .dataframe tbody tr th {\n",
       "        vertical-align: top;\n",
       "    }\n",
       "\n",
       "    .dataframe thead th {\n",
       "        text-align: right;\n",
       "    }\n",
       "</style>\n",
       "<table border=\"1\" class=\"dataframe\">\n",
       "  <thead>\n",
       "    <tr style=\"text-align: right;\">\n",
       "      <th></th>\n",
       "      <th>id</th>\n",
       "      <th>video_title</th>\n",
       "      <th>sound_transcribed</th>\n",
       "      <th>upload_time</th>\n",
       "      <th>view</th>\n",
       "      <th>date_pulled</th>\n",
       "    </tr>\n",
       "  </thead>\n",
       "  <tbody>\n",
       "    <tr>\n",
       "      <th>0</th>\n",
       "      <td>7037034323417107759</td>\n",
       "      <td>EXCUSE MI THIS FANSERVICE THO 😩 #fyp #bts #bts...</td>\n",
       "      <td>NA</td>\n",
       "      <td>https://v16-webapp.tiktok.com/c236514e9e9afb02...</td>\n",
       "      <td>63900000</td>\n",
       "      <td>2022-02-05 21:47:29.655314</td>\n",
       "    </tr>\n",
       "    <tr>\n",
       "      <th>1</th>\n",
       "      <td>7059020753978789166</td>\n",
       "      <td>🐈Are you envious? #fy #kitty #cat #love #kiss</td>\n",
       "      <td>NA</td>\n",
       "      <td>https://v16-webapp.tiktok.com/19acdfd3ecbceb5f...</td>\n",
       "      <td>5400000</td>\n",
       "      <td>2022-02-05 21:47:34.643344</td>\n",
       "    </tr>\n",
       "    <tr>\n",
       "      <th>2</th>\n",
       "      <td>7061272988615707950</td>\n",
       "      <td>Fyp</td>\n",
       "      <td>Bonanza</td>\n",
       "      <td>https://v16-webapp.tiktok.com/e4d4117e4cd54b88...</td>\n",
       "      <td>3800000</td>\n",
       "      <td>2022-02-05 21:47:36.679836</td>\n",
       "    </tr>\n",
       "    <tr>\n",
       "      <th>3</th>\n",
       "      <td>7039714932283362607</td>\n",
       "      <td>100% the truth! ❤️</td>\n",
       "      <td>beautiful</td>\n",
       "      <td>https://v16-webapp.tiktok.com/66467801dcb7df68...</td>\n",
       "      <td>37900000</td>\n",
       "      <td>2022-02-05 21:47:38.630341</td>\n",
       "    </tr>\n",
       "    <tr>\n",
       "      <th>4</th>\n",
       "      <td>7056048829749218607</td>\n",
       "      <td></td>\n",
       "      <td>NA</td>\n",
       "      <td>https://v16-webapp.tiktok.com/fd0801d14a758eef...</td>\n",
       "      <td>8300000</td>\n",
       "      <td>2022-02-05 21:47:44.502847</td>\n",
       "    </tr>\n",
       "  </tbody>\n",
       "</table>\n",
       "</div>"
      ],
      "text/plain": [
       "                    id                                        video_title  \\\n",
       "0  7037034323417107759  EXCUSE MI THIS FANSERVICE THO 😩 #fyp #bts #bts...   \n",
       "1  7059020753978789166      🐈Are you envious? #fy #kitty #cat #love #kiss   \n",
       "2  7061272988615707950                                                Fyp   \n",
       "3  7039714932283362607                                 100% the truth! ❤️   \n",
       "4  7056048829749218607                                                      \n",
       "\n",
       "  sound_transcribed                                        upload_time  \\\n",
       "0                NA  https://v16-webapp.tiktok.com/c236514e9e9afb02...   \n",
       "1                NA  https://v16-webapp.tiktok.com/19acdfd3ecbceb5f...   \n",
       "2           Bonanza  https://v16-webapp.tiktok.com/e4d4117e4cd54b88...   \n",
       "3         beautiful  https://v16-webapp.tiktok.com/66467801dcb7df68...   \n",
       "4                NA  https://v16-webapp.tiktok.com/fd0801d14a758eef...   \n",
       "\n",
       "       view                 date_pulled  \n",
       "0  63900000  2022-02-05 21:47:29.655314  \n",
       "1   5400000  2022-02-05 21:47:34.643344  \n",
       "2   3800000  2022-02-05 21:47:36.679836  \n",
       "3  37900000  2022-02-05 21:47:38.630341  \n",
       "4   8300000  2022-02-05 21:47:44.502847  "
      ]
     },
     "execution_count": 4,
     "metadata": {},
     "output_type": "execute_result"
    }
   ],
   "source": [
    "tiktoks.head()"
   ]
  },
  {
   "cell_type": "code",
   "execution_count": 5,
   "id": "7fdeaad1",
   "metadata": {},
   "outputs": [
    {
     "data": {
      "text/plain": [
       "810"
      ]
     },
     "execution_count": 5,
     "metadata": {},
     "output_type": "execute_result"
    }
   ],
   "source": [
    "audio_tiktoks = tiktoks[tiktoks[\"sound_transcribed\"] != \"NA\"]\n",
    "audio_tiktoks = audio_tiktoks.drop_duplicates(subset='id')\n",
    "audio_tiktoks.size"
   ]
  },
  {
   "cell_type": "code",
   "execution_count": 6,
   "id": "2cedbfac",
   "metadata": {},
   "outputs": [
    {
     "name": "stdout",
     "output_type": "stream",
     "text": [
      "Fyp\n",
      "compound: 0.0, neg: 0.0, neu: 1.0, pos: 0.0, \n",
      "100% the truth! ❤️\n",
      "compound: 0.3802, neg: 0.0, neu: 0.536, pos: 0.464, \n",
      "\n",
      "compound: 0.0, neg: 0.0, neu: 0.0, pos: 0.0, \n",
      "she really tried to kick us off the plane.😂😂 @theskimaskgirl\n",
      "compound: 0.0, neg: 0.0, neu: 1.0, pos: 0.0, \n",
      "Roni does another TikTok #dance! #flipbook\n",
      "compound: 0.0, neg: 0.0, neu: 1.0, pos: 0.0, \n",
      "#cute #dog\n",
      "compound: 0.0, neg: 0.0, neu: 1.0, pos: 0.0, \n",
      "MANY PPL ASKED. <3 GTG TO SCHOOL #fyp #foryou #tysm #A+K\n",
      "compound: 0.4404, neg: 0.0, neu: 0.775, pos: 0.225, \n",
      "How Tiktok behind the scenes are… 😂 @coreyscherer\n",
      "compound: 0.0, neg: 0.0, neu: 1.0, pos: 0.0, \n",
      "He just want to hangout w me and all I do is bully him 😔 #foryou #fyp #baby #brother\n",
      "compound: -0.4404, neg: 0.173, neu: 0.757, pos: 0.07, \n",
      "#trending #fyp #manga #anime #killua #animetiktok\n",
      "compound: 0.0, neg: 0.0, neu: 1.0, pos: 0.0, \n"
     ]
    }
   ],
   "source": [
    "for title in audio_tiktoks[\"video_title\"][:10]:\n",
    "    sid = SentimentIntensityAnalyzer()\n",
    "    print(title)\n",
    "    ss = sid.polarity_scores(title)\n",
    "    for k in sorted(ss):\n",
    "        print('{0}: {1}, '.format(k, ss[k]), end='')\n",
    "    print()"
   ]
  },
  {
   "cell_type": "code",
   "execution_count": 7,
   "id": "20e12ea5",
   "metadata": {},
   "outputs": [
    {
     "data": {
      "text/plain": [
       "{'neg': 0.0, 'neu': 1.0, 'pos': 0.0, 'compound': 0.0}"
      ]
     },
     "execution_count": 7,
     "metadata": {},
     "output_type": "execute_result"
    }
   ],
   "source": [
    "ss = [SentimentIntensityAnalyzer().polarity_scores(title) for title in audio_tiktoks[\"video_title\"]]\n",
    "ss[0]"
   ]
  },
  {
   "cell_type": "code",
   "execution_count": 8,
   "id": "c30c6b54",
   "metadata": {},
   "outputs": [
    {
     "data": {
      "text/plain": [
       "{'neu': 26.78975, 'pos': 2.42075, 'compound': 2.51145, 'neg': 0.78975}"
      ]
     },
     "execution_count": 8,
     "metadata": {},
     "output_type": "execute_result"
    }
   ],
   "source": [
    "add_dict = collections.Counter({'neu': 0.0, 'pos': 0.0, 'compound': 0.0, 'neg': 0.0})\n",
    "\n",
    "for s in ss:\n",
    "    counter = collections.Counter(s)\n",
    "    add_dict += counter\n",
    "    dict_ss = dict(add_dict)\n",
    "\n",
    "# take the average score\n",
    "for k in dict_ss.keys():\n",
    "    dict_ss[k] = dict_ss[k]/len(dict_ss)\n",
    "\n",
    "dict_ss"
   ]
  },
  {
   "cell_type": "code",
   "execution_count": 34,
   "id": "4fc07f8b",
   "metadata": {},
   "outputs": [
    {
     "data": {
      "image/png": "[encoded data removed]",
      "text/plain": [
       "<Figure size 432x288 with 1 Axes>"
      ]
     },
     "metadata": {},
     "output_type": "display_data"
    },
    {
     "data": {
      "text/plain": [
       "<Figure size 432x288 with 0 Axes>"
      ]
     },
     "metadata": {},
     "output_type": "display_data"
    }
   ],
   "source": [
    "dict_data = dict_ss.copy()\n",
    "dict_data.pop('compound')\n",
    "plot = plt.pie(dict_data.values(), labels=dict_data.keys())\n",
    "plt.show()\n",
    "plt.savefig('mypietest.png')"
   ]
  },
  {
   "cell_type": "code",
   "execution_count": 12,
   "id": "3b9064d8",
   "metadata": {},
   "outputs": [
    {
     "data": {
      "text/plain": [
       "tuple"
      ]
     },
     "execution_count": 12,
     "metadata": {},
     "output_type": "execute_result"
    }
   ],
   "source": [
    "type(plot)"
   ]
  },
  {
   "cell_type": "code",
   "execution_count": 13,
   "id": "61317ee5",
   "metadata": {},
   "outputs": [
    {
     "data": {
      "text/plain": [
       "2"
      ]
     },
     "execution_count": 13,
     "metadata": {},
     "output_type": "execute_result"
    }
   ],
   "source": [
    "len(plot)"
   ]
  },
  {
   "cell_type": "code",
   "execution_count": 36,
   "id": "dcf4baae",
   "metadata": {},
   "outputs": [
    {
     "data": {
      "text/plain": [
       "[<matplotlib.patches.Wedge at 0x7fded8f5a580>,\n",
       " <matplotlib.patches.Wedge at 0x7fded8f5a940>,\n",
       " <matplotlib.patches.Wedge at 0x7fded8f5ae20>]"
      ]
     },
     "execution_count": 36,
     "metadata": {},
     "output_type": "execute_result"
    }
   ],
   "source": [
    "plot[0]"
   ]
  },
  {
   "cell_type": "code",
   "execution_count": 15,
   "id": "96747f6f",
   "metadata": {},
   "outputs": [
    {
     "data": {
      "text/plain": [
       "[Text(-1.0384166798805563, 0.3628922690632063, 'neu'),\n",
       " Text(1.004889981771846, -0.4474328156657482, 'pos'),\n",
       " Text(1.0962404031404607, -0.09086791800432174, 'neg')]"
      ]
     },
     "execution_count": 15,
     "metadata": {},
     "output_type": "execute_result"
    }
   ],
   "source": [
    "plot[1]"
   ]
  },
  {
   "cell_type": "code",
   "execution_count": 30,
   "id": "60ca7f3a",
   "metadata": {},
   "outputs": [
    {
     "ename": "AttributeError",
     "evalue": "'tuple' object has no attribute 'savefig'",
     "output_type": "error",
     "traceback": [
      "\u001b[0;31m---------------------------------------------------------------------------\u001b[0m",
      "\u001b[0;31mAttributeError\u001b[0m                            Traceback (most recent call last)",
      "\u001b[0;32m/var/folders/dq/hnvtynkn1_39_ht_3rnbv2pc0000gp/T/ipykernel_83874/3919406163.py\u001b[0m in \u001b[0;36m<module>\u001b[0;34m\u001b[0m\n\u001b[0;32m----> 1\u001b[0;31m \u001b[0mplot\u001b[0m\u001b[0;34m.\u001b[0m\u001b[0msavefig\u001b[0m\u001b[0;34m(\u001b[0m\u001b[0;34m'mypietest.png'\u001b[0m\u001b[0;34m)\u001b[0m\u001b[0;34m\u001b[0m\u001b[0;34m\u001b[0m\u001b[0m\n\u001b[0m",
      "\u001b[0;31mAttributeError\u001b[0m: 'tuple' object has no attribute 'savefig'"
     ]
    }
   ],
   "source": [
    "plot.savefig('mypietest.png')"
   ]
  },
  {
   "cell_type": "code",
   "execution_count": null,
   "id": "7deb4e8c",
   "metadata": {},
   "outputs": [],
   "source": []
  },
  {
   "cell_type": "code",
   "execution_count": null,
   "id": "c173518f",
   "metadata": {},
   "outputs": [],
   "source": []
  }
 ],
 "metadata": {
  "kernelspec": {
   "display_name": "Python 3 (ipykernel)",
   "language": "python",
   "name": "python3"
  },
  "language_info": {
   "codemirror_mode": {
    "name": "ipython",
    "version": 3
   },
   "file_extension": ".py",
   "mimetype": "text/x-python",
   "name": "python",
   "nbconvert_exporter": "python",
   "pygments_lexer": "ipython3",
   "version": "3.8.12"
  }
 },
 "nbformat": 4,
 "nbformat_minor": 5
}
