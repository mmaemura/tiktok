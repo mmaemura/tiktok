{
 "cells": [
  {
   "cell_type": "code",
   "execution_count": null,
   "metadata": {},
   "outputs": [],
   "source": [
    "#pip install wordsegment"
   ]
  },
  {
   "cell_type": "code",
   "execution_count": 1,
   "metadata": {},
   "outputs": [],
   "source": [
    "import numpy as np\n",
    "import sqlite3\n",
    "import pandas as pd\n",
    "import re\n",
    "\n",
    "import wordsegment\n",
    "from wordsegment import load, segment\n",
    "load()\n",
    "\n",
    "from plotly import express as px"
   ]
  },
  {
   "cell_type": "code",
   "execution_count": 111,
   "metadata": {},
   "outputs": [],
   "source": [
    "conn = sqlite3.connect(\"tiktok.db\")\n",
    "\n",
    "cmd = \\\n",
    "    f\"\"\"\n",
    "    SELECT id, video_title, creator_nickname, upload_time, sound_transcribed, like, share, comment, view\n",
    "    FROM tiktok\n",
    "    \"\"\" \n",
    "    \n",
    "tiktoks = pd.read_sql_query(cmd, conn)\n",
    "    \n",
    "conn.close()"
   ]
  },
  {
   "cell_type": "code",
   "execution_count": 110,
   "metadata": {},
   "outputs": [],
   "source": [
    "def clean_tiktok_df(tiktoks):\n",
    "    \n",
    "    #fix column 'upload_time' -> 'video_url'\n",
    "    tiktoks = tiktoks.rename(columns = {'upload_time' : 'video_url'})\n",
    "    \n",
    "    #remove duplicates\n",
    "    dups = tiktoks['id'].duplicated(keep = 'last') #keep the most recent version of the tiktok\n",
    "    tiktoks = tiktoks[np.invert(dups)]\n",
    "    tiktoks = tiktoks.reset_index(drop = True)\n",
    "    \n",
    "    #remove rows with no video_title and no sound_transcribed\n",
    "    tiktoks = tiktoks[(tiktoks[\"sound_transcribed\"] != 'NA') | (tiktoks[\"video_title\"] != '')]\n",
    "    \n",
    "    #replace 'NA' in sound_transcribed with ''\n",
    "    tiktoks[\"sound_transcribed\"] = [sound if sound != 'NA' else '' for sound in tiktoks[\"sound_transcribed\"]]\n",
    "    tiktoks = tiktoks.reset_index(drop = True)\n",
    "    \n",
    "    #replace hashtag phrase with predicted phrase with spaces added\n",
    "    tiktoks['hashtags'] = [re.findall(r\"#(\\w+)\",x) for x in tiktoks['video_title'] ] #create col for list of hashtag phrases\n",
    "    tiktoks['predicted_hashtag_words'] = [segment(' '.join(x)) for x in tiktoks['hashtags']] #create col for list of predicted phrases of each hashtag\n",
    "    tiktoks['predicted_hashtag_words'] = [' '.join(x) for x in tiktoks['predicted_hashtag_words']] #list -> string\n",
    "    tiktoks['original_video_title'] = tiktoks['video_title'] #keep original title in new column\n",
    "    tiktoks['video_title'] = [re.sub(\"#[A-Za-z0-9_]+\",\"\", x) for x in tiktoks['video_title']] #remove hashtagged phrases from title\n",
    "    tiktoks['video_title'] = tiktoks['video_title'] + tiktoks['predicted_hashtag_words'] #new title where hashtag phrases are replaced with their predicted words\n",
    "    \n",
    "    return tiktoks"
   ]
  },
  {
   "cell_type": "code",
   "execution_count": 112,
   "metadata": {},
   "outputs": [],
   "source": [
    "tiktoks = clean_tiktok_df(tiktoks)"
   ]
  },
  {
   "cell_type": "code",
   "execution_count": 87,
   "metadata": {},
   "outputs": [
    {
     "data": {
      "text/html": [
       "<div>\n",
       "<style scoped>\n",
       "    .dataframe tbody tr th:only-of-type {\n",
       "        vertical-align: middle;\n",
       "    }\n",
       "\n",
       "    .dataframe tbody tr th {\n",
       "        vertical-align: top;\n",
       "    }\n",
       "\n",
       "    .dataframe thead th {\n",
       "        text-align: right;\n",
       "    }\n",
       "</style>\n",
       "<table border=\"1\" class=\"dataframe\">\n",
       "  <thead>\n",
       "    <tr style=\"text-align: right;\">\n",
       "      <th></th>\n",
       "      <th>id</th>\n",
       "      <th>video_title</th>\n",
       "      <th>creator_nickname</th>\n",
       "      <th>video_url</th>\n",
       "      <th>sound_transcribed</th>\n",
       "      <th>like</th>\n",
       "      <th>share</th>\n",
       "      <th>comment</th>\n",
       "      <th>view</th>\n",
       "      <th>hashtags</th>\n",
       "      <th>predicted_hashtag_words</th>\n",
       "    </tr>\n",
       "  </thead>\n",
       "  <tbody>\n",
       "    <tr>\n",
       "      <th>0</th>\n",
       "      <td>7061263400738802990</td>\n",
       "      <td>trending fyp manga anime kill ua anime ti...</td>\n",
       "      <td>K</td>\n",
       "      <td>https://v16-webapp.tiktok.com/3459683bb68c8979...</td>\n",
       "      <td>okay right</td>\n",
       "      <td>22000</td>\n",
       "      <td>319</td>\n",
       "      <td>97</td>\n",
       "      <td>91600</td>\n",
       "      <td>[]</td>\n",
       "      <td></td>\n",
       "    </tr>\n",
       "    <tr>\n",
       "      <th>1</th>\n",
       "      <td>7047633830370364719</td>\n",
       "      <td>Reply to @whosaleece N &lt;3</td>\n",
       "      <td>user</td>\n",
       "      <td>https://v16-webapp.tiktok.com/85adc4b700a00c26...</td>\n",
       "      <td></td>\n",
       "      <td>6500000</td>\n",
       "      <td>68800</td>\n",
       "      <td>157000</td>\n",
       "      <td>31600000</td>\n",
       "      <td>[]</td>\n",
       "      <td></td>\n",
       "    </tr>\n",
       "    <tr>\n",
       "      <th>2</th>\n",
       "      <td>7055138775889906991</td>\n",
       "      <td>Reply to @that_one_killer  Why does Adrian loo...</td>\n",
       "      <td>Nic Suarez</td>\n",
       "      <td>https://v16-webapp.tiktok.com/1fcb88b9fe227ed2...</td>\n",
       "      <td></td>\n",
       "      <td>537800</td>\n",
       "      <td>1123</td>\n",
       "      <td>2815</td>\n",
       "      <td>4800000</td>\n",
       "      <td>[]</td>\n",
       "      <td></td>\n",
       "    </tr>\n",
       "    <tr>\n",
       "      <th>3</th>\n",
       "      <td>7060751888899378478</td>\n",
       "      <td>Follow for more 😂❤️</td>\n",
       "      <td>Pain Ezra🔥</td>\n",
       "      <td>https://v16-webapp.tiktok.com/86345f8907915192...</td>\n",
       "      <td></td>\n",
       "      <td>19200</td>\n",
       "      <td>1872</td>\n",
       "      <td>6180</td>\n",
       "      <td>244000</td>\n",
       "      <td>[]</td>\n",
       "      <td></td>\n",
       "    </tr>\n",
       "    <tr>\n",
       "      <th>4</th>\n",
       "      <td>7048757416300645637</td>\n",
       "      <td>How 2022 started….</td>\n",
       "      <td>Gashi</td>\n",
       "      <td>https://v16-webapp.tiktok.com/fd08417e18500465...</td>\n",
       "      <td></td>\n",
       "      <td>6300000</td>\n",
       "      <td>168500</td>\n",
       "      <td>110700</td>\n",
       "      <td>52200000</td>\n",
       "      <td>[]</td>\n",
       "      <td></td>\n",
       "    </tr>\n",
       "    <tr>\n",
       "      <th>5</th>\n",
       "      <td>7059114604395482415</td>\n",
       "      <td>f naf vanny</td>\n",
       "      <td>Jake Fellman</td>\n",
       "      <td>https://v16-webapp.tiktok.com/374e04a7da44abc6...</td>\n",
       "      <td></td>\n",
       "      <td>567100</td>\n",
       "      <td>1645</td>\n",
       "      <td>4037</td>\n",
       "      <td>9400000</td>\n",
       "      <td>[]</td>\n",
       "      <td></td>\n",
       "    </tr>\n",
       "    <tr>\n",
       "      <th>6</th>\n",
       "      <td>7061443118813515054</td>\n",
       "      <td>February 9th game day .   winter olympics olym...</td>\n",
       "      <td>maddie_mastro</td>\n",
       "      <td>https://v16-webapp.tiktok.com/22a1f986f81857e5...</td>\n",
       "      <td></td>\n",
       "      <td>104100</td>\n",
       "      <td>167</td>\n",
       "      <td>495</td>\n",
       "      <td>1100000</td>\n",
       "      <td>[]</td>\n",
       "      <td></td>\n",
       "    </tr>\n",
       "    <tr>\n",
       "      <th>7</th>\n",
       "      <td>7060467798178286895</td>\n",
       "      <td>First qualies of the Games 🔥       fyp for you...</td>\n",
       "      <td>U.S. Ski &amp; Snowboard</td>\n",
       "      <td>https://v16-webapp.tiktok.com/d6764d781a9ed574...</td>\n",
       "      <td>good</td>\n",
       "      <td>271500</td>\n",
       "      <td>471</td>\n",
       "      <td>760</td>\n",
       "      <td>2600000</td>\n",
       "      <td>[]</td>\n",
       "      <td></td>\n",
       "    </tr>\n",
       "    <tr>\n",
       "      <th>8</th>\n",
       "      <td>7060861444266708271</td>\n",
       "      <td>When you make it to your second Olympics and y...</td>\n",
       "      <td>maddie_mastro</td>\n",
       "      <td>https://v16-webapp.tiktok.com/05d6d165a0289994...</td>\n",
       "      <td></td>\n",
       "      <td>39800</td>\n",
       "      <td>88</td>\n",
       "      <td>316</td>\n",
       "      <td>508700</td>\n",
       "      <td>[]</td>\n",
       "      <td></td>\n",
       "    </tr>\n",
       "    <tr>\n",
       "      <th>9</th>\n",
       "      <td>7042688768872123649</td>\n",
       "      <td>Frying Real Human Eggs 🍳    funny videos japan...</td>\n",
       "      <td>memes</td>\n",
       "      <td>https://v16-webapp.tiktok.com/05230af57fddf570...</td>\n",
       "      <td></td>\n",
       "      <td>1600000</td>\n",
       "      <td>38300</td>\n",
       "      <td>5649</td>\n",
       "      <td>38600000</td>\n",
       "      <td>[]</td>\n",
       "      <td></td>\n",
       "    </tr>\n",
       "  </tbody>\n",
       "</table>\n",
       "</div>"
      ],
      "text/plain": [
       "                    id                                        video_title  \\\n",
       "0  7061263400738802990       trending fyp manga anime kill ua anime ti...   \n",
       "1  7047633830370364719                          Reply to @whosaleece N <3   \n",
       "2  7055138775889906991  Reply to @that_one_killer  Why does Adrian loo...   \n",
       "3  7060751888899378478                                Follow for more 😂❤️   \n",
       "4  7048757416300645637                                 How 2022 started….   \n",
       "5  7059114604395482415                                        f naf vanny   \n",
       "6  7061443118813515054  February 9th game day .   winter olympics olym...   \n",
       "7  7060467798178286895  First qualies of the Games 🔥       fyp for you...   \n",
       "8  7060861444266708271  When you make it to your second Olympics and y...   \n",
       "9  7042688768872123649  Frying Real Human Eggs 🍳    funny videos japan...   \n",
       "\n",
       "       creator_nickname                                          video_url  \\\n",
       "0                     K  https://v16-webapp.tiktok.com/3459683bb68c8979...   \n",
       "1                  user  https://v16-webapp.tiktok.com/85adc4b700a00c26...   \n",
       "2            Nic Suarez  https://v16-webapp.tiktok.com/1fcb88b9fe227ed2...   \n",
       "3            Pain Ezra🔥  https://v16-webapp.tiktok.com/86345f8907915192...   \n",
       "4                 Gashi  https://v16-webapp.tiktok.com/fd08417e18500465...   \n",
       "5          Jake Fellman  https://v16-webapp.tiktok.com/374e04a7da44abc6...   \n",
       "6         maddie_mastro  https://v16-webapp.tiktok.com/22a1f986f81857e5...   \n",
       "7  U.S. Ski & Snowboard  https://v16-webapp.tiktok.com/d6764d781a9ed574...   \n",
       "8         maddie_mastro  https://v16-webapp.tiktok.com/05d6d165a0289994...   \n",
       "9                 memes  https://v16-webapp.tiktok.com/05230af57fddf570...   \n",
       "\n",
       "  sound_transcribed     like   share  comment      view hashtags  \\\n",
       "0        okay right    22000     319       97     91600       []   \n",
       "1                    6500000   68800   157000  31600000       []   \n",
       "2                     537800    1123     2815   4800000       []   \n",
       "3                      19200    1872     6180    244000       []   \n",
       "4                    6300000  168500   110700  52200000       []   \n",
       "5                     567100    1645     4037   9400000       []   \n",
       "6                     104100     167      495   1100000       []   \n",
       "7              good   271500     471      760   2600000       []   \n",
       "8                      39800      88      316    508700       []   \n",
       "9                    1600000   38300     5649  38600000       []   \n",
       "\n",
       "  predicted_hashtag_words  \n",
       "0                          \n",
       "1                          \n",
       "2                          \n",
       "3                          \n",
       "4                          \n",
       "5                          \n",
       "6                          \n",
       "7                          \n",
       "8                          \n",
       "9                          "
      ]
     },
     "execution_count": 87,
     "metadata": {},
     "output_type": "execute_result"
    }
   ],
   "source": [
    "tiktoks.head(10)"
   ]
  },
  {
   "cell_type": "code",
   "execution_count": 78,
   "metadata": {},
   "outputs": [
    {
     "data": {
      "text/plain": [
       "(389, 11)"
      ]
     },
     "execution_count": 78,
     "metadata": {},
     "output_type": "execute_result"
    }
   ],
   "source": [
    "tiktoks.shape"
   ]
  },
  {
   "cell_type": "code",
   "execution_count": 7,
   "metadata": {},
   "outputs": [
    {
     "name": "stdout",
     "output_type": "stream",
     "text": [
      "['fypbtsbtsarmybts', 'concert', '2021taehyungptdonstagebt', 'sv']\n",
      "['sinks', 'pet', 'ic', 'plumbers', 'of', 'tik', 'tok']\n",
      "['sephora', 'lip', 'looks']\n",
      "['singing', 'love', 'is', 'gone']\n"
     ]
    }
   ],
   "source": [
    "#examples of word segementing:\n",
    "print(segment('fyp bts btsarmy btsconcert2021 taehyung ptdonstage btsv')) #doesn't work that well here\n",
    "print(segment('sinkspetic plumbersoftiktok')) #doesn't work well on first hashtag, works well on second\n",
    "print(segment('SephoraLipLooks')) #works well\n",
    "print(segment('singing loveisgone')) #works well"
   ]
  },
  {
   "cell_type": "code",
   "execution_count": 228,
   "metadata": {},
   "outputs": [],
   "source": []
  },
  {
   "cell_type": "code",
   "execution_count": 234,
   "metadata": {},
   "outputs": [],
   "source": []
  },
  {
   "cell_type": "code",
   "execution_count": null,
   "metadata": {},
   "outputs": [],
   "source": []
  },
  {
   "cell_type": "code",
   "execution_count": null,
   "metadata": {},
   "outputs": [],
   "source": []
  },
  {
   "cell_type": "code",
   "execution_count": 168,
   "metadata": {},
   "outputs": [],
   "source": []
  },
  {
   "cell_type": "code",
   "execution_count": 227,
   "metadata": {},
   "outputs": [
    {
     "data": {
      "text/plain": [
       "['fypbtsbtsarmybts', 'concert', '2021taehyungptdonstagebt', 'sv']"
      ]
     },
     "execution_count": 227,
     "metadata": {},
     "output_type": "execute_result"
    }
   ],
   "source": [
    "segment('fyp bts btsarmy btsconcert2021 taehyung ptdonstage btsv')"
   ]
  },
  {
   "cell_type": "code",
   "execution_count": 171,
   "metadata": {},
   "outputs": [
    {
     "name": "stdout",
     "output_type": "stream",
     "text": [
      "{'neg': 0.0, 'neu': 1.0, 'pos': 0.0, 'compound': 0.0}\n",
      "{'neg': 0.0, 'neu': 1.0, 'pos': 0.0, 'compound': 0.0}\n"
     ]
    }
   ],
   "source": []
  },
  {
   "cell_type": "markdown",
   "metadata": {},
   "source": [
    "# Sentiment Analysis"
   ]
  },
  {
   "cell_type": "code",
   "execution_count": 16,
   "metadata": {},
   "outputs": [],
   "source": [
    "#pip install vaderSentiment\n",
    "from vaderSentiment.vaderSentiment import SentimentIntensityAnalyzer"
   ]
  },
  {
   "cell_type": "code",
   "execution_count": null,
   "metadata": {},
   "outputs": [],
   "source": []
  },
  {
   "cell_type": "code",
   "execution_count": 23,
   "metadata": {},
   "outputs": [],
   "source": [
    "from vaderSentiment.vaderSentiment import SentimentIntensityAnalyzer\n",
    "from nltk.classify import NaiveBayesClassifier\n",
    "from nltk.corpus import subjectivity\n",
    "from nltk.sentiment import SentimentAnalyzer\n",
    "from nltk.sentiment.util import *\n",
    "\n",
    "def get_sentiment(tiktoks):\n",
    "    #combine title and sound_transcribed\n",
    "    tiktoks['title_and_sound'] = tiktoks['video_title'] + ' ' + tiktoks['sound_transcribed']\n",
    "    sid = SentimentIntensityAnalyzer()\n",
    "\n",
    "    tiktoks['Negative Sentiment'] = tiktoks['title_and_sound'].apply(lambda x: sid.polarity_scores(x)['neg'])\n",
    "    tiktoks['Neutral Sentiment'] = tiktoks['title_and_sound'].apply(lambda x: sid.polarity_scores(x)['neu'])\n",
    "    tiktoks['Positive Sentiment'] = tiktoks['title_and_sound'].apply(lambda x: sid.polarity_scores(x)['pos'])\n",
    "    tiktoks['Compound Sentiment'] = tiktoks['title_and_sound'].apply(lambda x: sid.polarity_scores(x)['compound'])\n",
    "    return tiktoks\n"
   ]
  },
  {
   "cell_type": "code",
   "execution_count": 113,
   "metadata": {},
   "outputs": [],
   "source": [
    "tiktoks = get_sentiment(tiktoks)"
   ]
  },
  {
   "cell_type": "code",
   "execution_count": 10,
   "metadata": {},
   "outputs": [
    {
     "data": {
      "text/html": [
       "<div>\n",
       "<style scoped>\n",
       "    .dataframe tbody tr th:only-of-type {\n",
       "        vertical-align: middle;\n",
       "    }\n",
       "\n",
       "    .dataframe tbody tr th {\n",
       "        vertical-align: top;\n",
       "    }\n",
       "\n",
       "    .dataframe thead th {\n",
       "        text-align: right;\n",
       "    }\n",
       "</style>\n",
       "<table border=\"1\" class=\"dataframe\">\n",
       "  <thead>\n",
       "    <tr style=\"text-align: right;\">\n",
       "      <th></th>\n",
       "      <th>id</th>\n",
       "      <th>video_title</th>\n",
       "      <th>creator_nickname</th>\n",
       "      <th>sound_transcribed</th>\n",
       "      <th>like</th>\n",
       "      <th>share</th>\n",
       "      <th>comment</th>\n",
       "      <th>view</th>\n",
       "      <th>hashtags</th>\n",
       "      <th>predicted_hashtag_words</th>\n",
       "      <th>title_and_sound</th>\n",
       "      <th>Negative Sentiment</th>\n",
       "      <th>Neutral Sentiment</th>\n",
       "      <th>Positive Sentiment</th>\n",
       "      <th>Compound Sentiment</th>\n",
       "    </tr>\n",
       "  </thead>\n",
       "  <tbody>\n",
       "    <tr>\n",
       "      <th>0</th>\n",
       "      <td>7061263400738802990</td>\n",
       "      <td>trending fyp manga anime kill ua anime ti...</td>\n",
       "      <td>K</td>\n",
       "      <td>okay right</td>\n",
       "      <td>22000</td>\n",
       "      <td>319</td>\n",
       "      <td>97</td>\n",
       "      <td>91600</td>\n",
       "      <td>[trending, fyp, manga, anime, killua, animetik...</td>\n",
       "      <td>trending fyp manga anime kill ua anime tik tok</td>\n",
       "      <td>trending fyp manga anime kill ua anime ti...</td>\n",
       "      <td>0.301</td>\n",
       "      <td>0.577</td>\n",
       "      <td>0.122</td>\n",
       "      <td>-0.5859</td>\n",
       "    </tr>\n",
       "    <tr>\n",
       "      <th>1</th>\n",
       "      <td>7047633830370364719</td>\n",
       "      <td>Reply to @whosaleece N &lt;3</td>\n",
       "      <td>user</td>\n",
       "      <td></td>\n",
       "      <td>6500000</td>\n",
       "      <td>68800</td>\n",
       "      <td>157000</td>\n",
       "      <td>31600000</td>\n",
       "      <td>[]</td>\n",
       "      <td></td>\n",
       "      <td>Reply to @whosaleece N &lt;3</td>\n",
       "      <td>0.000</td>\n",
       "      <td>0.508</td>\n",
       "      <td>0.492</td>\n",
       "      <td>0.4404</td>\n",
       "    </tr>\n",
       "    <tr>\n",
       "      <th>2</th>\n",
       "      <td>7055138775889906991</td>\n",
       "      <td>Reply to @that_one_killer  Why does Adrian loo...</td>\n",
       "      <td>Nic Suarez</td>\n",
       "      <td></td>\n",
       "      <td>537800</td>\n",
       "      <td>1123</td>\n",
       "      <td>2815</td>\n",
       "      <td>4800000</td>\n",
       "      <td>[trend, brother, edit, mirror, CloseYourRings,...</td>\n",
       "      <td>trend brother edit mirror close your rings not...</td>\n",
       "      <td>Reply to @that_one_killer  Why does Adrian loo...</td>\n",
       "      <td>0.000</td>\n",
       "      <td>1.000</td>\n",
       "      <td>0.000</td>\n",
       "      <td>0.0000</td>\n",
       "    </tr>\n",
       "    <tr>\n",
       "      <th>3</th>\n",
       "      <td>7060751888899378478</td>\n",
       "      <td>Follow for more 😂❤️</td>\n",
       "      <td>Pain Ezra🔥</td>\n",
       "      <td></td>\n",
       "      <td>19200</td>\n",
       "      <td>1872</td>\n",
       "      <td>6180</td>\n",
       "      <td>244000</td>\n",
       "      <td>[]</td>\n",
       "      <td></td>\n",
       "      <td>Follow for more 😂❤️</td>\n",
       "      <td>0.000</td>\n",
       "      <td>1.000</td>\n",
       "      <td>0.000</td>\n",
       "      <td>0.0000</td>\n",
       "    </tr>\n",
       "    <tr>\n",
       "      <th>4</th>\n",
       "      <td>7048757416300645637</td>\n",
       "      <td>How 2022 started….</td>\n",
       "      <td>Gashi</td>\n",
       "      <td></td>\n",
       "      <td>6300000</td>\n",
       "      <td>168500</td>\n",
       "      <td>110700</td>\n",
       "      <td>52200000</td>\n",
       "      <td>[]</td>\n",
       "      <td></td>\n",
       "      <td>How 2022 started….</td>\n",
       "      <td>0.000</td>\n",
       "      <td>1.000</td>\n",
       "      <td>0.000</td>\n",
       "      <td>0.0000</td>\n",
       "    </tr>\n",
       "    <tr>\n",
       "      <th>5</th>\n",
       "      <td>7059114604395482415</td>\n",
       "      <td>f naf vanny</td>\n",
       "      <td>Jake Fellman</td>\n",
       "      <td></td>\n",
       "      <td>567100</td>\n",
       "      <td>1645</td>\n",
       "      <td>4037</td>\n",
       "      <td>9400000</td>\n",
       "      <td>[FNaF, Vanny]</td>\n",
       "      <td>f naf vanny</td>\n",
       "      <td>f naf vanny</td>\n",
       "      <td>0.000</td>\n",
       "      <td>1.000</td>\n",
       "      <td>0.000</td>\n",
       "      <td>0.0000</td>\n",
       "    </tr>\n",
       "    <tr>\n",
       "      <th>6</th>\n",
       "      <td>7061443118813515054</td>\n",
       "      <td>February 9th game day .   winter olympics olym...</td>\n",
       "      <td>maddie_mastro</td>\n",
       "      <td></td>\n",
       "      <td>104100</td>\n",
       "      <td>167</td>\n",
       "      <td>495</td>\n",
       "      <td>1100000</td>\n",
       "      <td>[winterolympics, olympicspirit, womeninsports]</td>\n",
       "      <td>winter olympics olympic spirit women in sports</td>\n",
       "      <td>February 9th game day .   winter olympics olym...</td>\n",
       "      <td>0.000</td>\n",
       "      <td>0.855</td>\n",
       "      <td>0.145</td>\n",
       "      <td>0.1779</td>\n",
       "    </tr>\n",
       "    <tr>\n",
       "      <th>7</th>\n",
       "      <td>7060467798178286895</td>\n",
       "      <td>First qualies of the Games 🔥       fyp for you...</td>\n",
       "      <td>U.S. Ski &amp; Snowboard</td>\n",
       "      <td>good</td>\n",
       "      <td>271500</td>\n",
       "      <td>471</td>\n",
       "      <td>760</td>\n",
       "      <td>2600000</td>\n",
       "      <td>[fyp, foryou, skitok, beijing2022, DuetDoWet, ...</td>\n",
       "      <td>fyp for you ski to kbeijing2022duetdowet winte...</td>\n",
       "      <td>First qualies of the Games 🔥       fyp for you...</td>\n",
       "      <td>0.000</td>\n",
       "      <td>0.828</td>\n",
       "      <td>0.172</td>\n",
       "      <td>0.4404</td>\n",
       "    </tr>\n",
       "    <tr>\n",
       "      <th>8</th>\n",
       "      <td>7060861444266708271</td>\n",
       "      <td>When you make it to your second Olympics and y...</td>\n",
       "      <td>maddie_mastro</td>\n",
       "      <td></td>\n",
       "      <td>39800</td>\n",
       "      <td>88</td>\n",
       "      <td>316</td>\n",
       "      <td>508700</td>\n",
       "      <td>[winterolympics, olympicspirit]</td>\n",
       "      <td>winter olympics olympic spirit</td>\n",
       "      <td>When you make it to your second Olympics and y...</td>\n",
       "      <td>0.000</td>\n",
       "      <td>0.850</td>\n",
       "      <td>0.150</td>\n",
       "      <td>0.4019</td>\n",
       "    </tr>\n",
       "    <tr>\n",
       "      <th>9</th>\n",
       "      <td>7042688768872123649</td>\n",
       "      <td>Frying Real Human Eggs 🍳    funny videos japan...</td>\n",
       "      <td>memes</td>\n",
       "      <td></td>\n",
       "      <td>1600000</td>\n",
       "      <td>38300</td>\n",
       "      <td>5649</td>\n",
       "      <td>38600000</td>\n",
       "      <td>[funnyvideos, japan, comedy, viral, amazing]</td>\n",
       "      <td>funny videos japan comedy viral amazing</td>\n",
       "      <td>Frying Real Human Eggs 🍳    funny videos japan...</td>\n",
       "      <td>0.000</td>\n",
       "      <td>0.432</td>\n",
       "      <td>0.568</td>\n",
       "      <td>0.8481</td>\n",
       "    </tr>\n",
       "  </tbody>\n",
       "</table>\n",
       "</div>"
      ],
      "text/plain": [
       "                    id                                        video_title  \\\n",
       "0  7061263400738802990       trending fyp manga anime kill ua anime ti...   \n",
       "1  7047633830370364719                          Reply to @whosaleece N <3   \n",
       "2  7055138775889906991  Reply to @that_one_killer  Why does Adrian loo...   \n",
       "3  7060751888899378478                                Follow for more 😂❤️   \n",
       "4  7048757416300645637                                 How 2022 started….   \n",
       "5  7059114604395482415                                        f naf vanny   \n",
       "6  7061443118813515054  February 9th game day .   winter olympics olym...   \n",
       "7  7060467798178286895  First qualies of the Games 🔥       fyp for you...   \n",
       "8  7060861444266708271  When you make it to your second Olympics and y...   \n",
       "9  7042688768872123649  Frying Real Human Eggs 🍳    funny videos japan...   \n",
       "\n",
       "       creator_nickname sound_transcribed     like   share  comment      view  \\\n",
       "0                     K        okay right    22000     319       97     91600   \n",
       "1                  user                    6500000   68800   157000  31600000   \n",
       "2            Nic Suarez                     537800    1123     2815   4800000   \n",
       "3            Pain Ezra🔥                      19200    1872     6180    244000   \n",
       "4                 Gashi                    6300000  168500   110700  52200000   \n",
       "5          Jake Fellman                     567100    1645     4037   9400000   \n",
       "6         maddie_mastro                     104100     167      495   1100000   \n",
       "7  U.S. Ski & Snowboard              good   271500     471      760   2600000   \n",
       "8         maddie_mastro                      39800      88      316    508700   \n",
       "9                 memes                    1600000   38300     5649  38600000   \n",
       "\n",
       "                                            hashtags  \\\n",
       "0  [trending, fyp, manga, anime, killua, animetik...   \n",
       "1                                                 []   \n",
       "2  [trend, brother, edit, mirror, CloseYourRings,...   \n",
       "3                                                 []   \n",
       "4                                                 []   \n",
       "5                                      [FNaF, Vanny]   \n",
       "6     [winterolympics, olympicspirit, womeninsports]   \n",
       "7  [fyp, foryou, skitok, beijing2022, DuetDoWet, ...   \n",
       "8                    [winterolympics, olympicspirit]   \n",
       "9       [funnyvideos, japan, comedy, viral, amazing]   \n",
       "\n",
       "                             predicted_hashtag_words  \\\n",
       "0     trending fyp manga anime kill ua anime tik tok   \n",
       "1                                                      \n",
       "2  trend brother edit mirror close your rings not...   \n",
       "3                                                      \n",
       "4                                                      \n",
       "5                                        f naf vanny   \n",
       "6     winter olympics olympic spirit women in sports   \n",
       "7  fyp for you ski to kbeijing2022duetdowet winte...   \n",
       "8                     winter olympics olympic spirit   \n",
       "9            funny videos japan comedy viral amazing   \n",
       "\n",
       "                                     title_and_sound  Negative Sentiment  \\\n",
       "0       trending fyp manga anime kill ua anime ti...               0.301   \n",
       "1                         Reply to @whosaleece N <3                0.000   \n",
       "2  Reply to @that_one_killer  Why does Adrian loo...               0.000   \n",
       "3                               Follow for more 😂❤️                0.000   \n",
       "4                                How 2022 started….                0.000   \n",
       "5                                       f naf vanny                0.000   \n",
       "6  February 9th game day .   winter olympics olym...               0.000   \n",
       "7  First qualies of the Games 🔥       fyp for you...               0.000   \n",
       "8  When you make it to your second Olympics and y...               0.000   \n",
       "9  Frying Real Human Eggs 🍳    funny videos japan...               0.000   \n",
       "\n",
       "   Neutral Sentiment  Positive Sentiment  Compound Sentiment  \n",
       "0              0.577               0.122             -0.5859  \n",
       "1              0.508               0.492              0.4404  \n",
       "2              1.000               0.000              0.0000  \n",
       "3              1.000               0.000              0.0000  \n",
       "4              1.000               0.000              0.0000  \n",
       "5              1.000               0.000              0.0000  \n",
       "6              0.855               0.145              0.1779  \n",
       "7              0.828               0.172              0.4404  \n",
       "8              0.850               0.150              0.4019  \n",
       "9              0.432               0.568              0.8481  "
      ]
     },
     "execution_count": 10,
     "metadata": {},
     "output_type": "execute_result"
    }
   ],
   "source": [
    "tiktoks.head(10)"
   ]
  },
  {
   "cell_type": "code",
   "execution_count": 92,
   "metadata": {},
   "outputs": [
    {
     "data": {
      "text/plain": [
       "389"
      ]
     },
     "execution_count": 92,
     "metadata": {},
     "output_type": "execute_result"
    }
   ],
   "source": [
    "tiktoks.shape[0]"
   ]
  },
  {
   "cell_type": "code",
   "execution_count": 114,
   "metadata": {},
   "outputs": [
    {
     "data": {
      "application/vnd.plotly.v1+json": {
       "config": {
        "plotlyServerURL": "https://plot.ly"
       },
       "data": [
        {
         "customdata": [
          [
           0.577,
           -0.5859,
           22000,
           "okay right"
          ],
          [
           0.58,
           0.4404,
           6500000,
           ""
          ],
          [
           1,
           0,
           537800,
           ""
          ],
          [
           0.573,
           0.3892,
           19200,
           ""
          ],
          [
           1,
           0,
           6300000,
           ""
          ],
          [
           1,
           0,
           567100,
           ""
          ],
          [
           0.866,
           0.1779,
           104100,
           ""
          ],
          [
           0.725,
           0.128,
           271500,
           "good"
          ],
          [
           0.856,
           0.4019,
           39800,
           ""
          ],
          [
           0.465,
           0.8481,
           1600000,
           ""
          ],
          [
           0.341,
           -0.8934,
           552500,
           ""
          ],
          [
           0.781,
           -0.1725,
           1000000,
           ""
          ],
          [
           0.743,
           0.9086,
           337400,
           "everyone get ready for February 5th because February 5th is National shower with a Friend Day"
          ],
          [
           0.627,
           0.7579,
           24600,
           "Bonanza"
          ],
          [
           0.526,
           -0.4019,
           2200000,
           ""
          ],
          [
           1,
           0,
           23100,
           "get abujudeh"
          ],
          [
           0.491,
           0.7003,
           25700,
           ""
          ],
          [
           0.641,
           0.4215,
           5300000,
           ""
          ],
          [
           0.814,
           0.4404,
           191800,
           ""
          ],
          [
           0.815,
           0.3612,
           2025,
           "get abujudeh"
          ],
          [
           0.726,
           -0.2648,
           678800,
           "promise you will always be there in the world"
          ],
          [
           0.749,
           0.4404,
           1100000,
           "do you got games on your phone"
          ],
          [
           0.69,
           -0.2023,
           3800000,
           "cell phone call"
          ],
          [
           1,
           0,
           3100000,
           ""
          ],
          [
           1,
           0,
           1800000,
           ""
          ],
          [
           1,
           0,
           1900000,
           "Bubba Bubba Bubba"
          ],
          [
           1,
           0,
           1300000,
           ""
          ],
          [
           0.478,
           -0.891,
           660900,
           ""
          ],
          [
           0.473,
           0.8074,
           4200000,
           "I want someone to love me I need"
          ],
          [
           1,
           0,
           1600000,
           ""
          ],
          [
           1,
           0,
           1900000,
           "are you going to"
          ],
          [
           1,
           0,
           371800,
           ""
          ],
          [
           0.653,
           0.8777,
           3300000,
           ""
          ],
          [
           0.862,
           0.4939,
           267800,
           ""
          ],
          [
           1,
           0,
           428600,
           ""
          ],
          [
           0.515,
           -0.682,
           36600,
           "if you want to stop me you're going to have to f******"
          ],
          [
           0.39,
           0.4438,
           9800000,
           "oh my God what is that what is that"
          ],
          [
           1,
           0,
           55700,
           ""
          ],
          [
           0.868,
           -0.4927,
           235500,
           ""
          ],
          [
           0.323,
           0.6369,
           892300,
           ""
          ],
          [
           0.818,
           0.4404,
           700000,
           "agonistic Graham"
          ],
          [
           1,
           0,
           1300000,
           "figurehead"
          ],
          [
           0.639,
           0.7775,
           840700,
           ""
          ],
          [
           1,
           0,
           2900000,
           "what the hell's up with his door"
          ],
          [
           1,
           0,
           291000,
           ""
          ],
          [
           1,
           0,
           740400,
           ""
          ],
          [
           0.709,
           -0.4767,
           82200,
           ""
          ],
          [
           0.742,
           0.8074,
           116700,
           ""
          ],
          [
           0.744,
           -0.4767,
           54700,
           "Atlanta one"
          ],
          [
           0.718,
           0.4939,
           3300000,
           "as cracked and eggs I might as well just give it to my coat it might as well just go to good causes seriously there's no way get away from the eggs now"
          ],
          [
           0.711,
           0.6705,
           641300,
           "yeah yeah well I'm the potato"
          ],
          [
           1,
           0,
           342700,
           ""
          ],
          [
           1,
           0,
           3486,
           ""
          ],
          [
           1,
           0,
           3000000,
           "Giannis antetokounmpo"
          ],
          [
           0.822,
           0.0772,
           127000,
           ""
          ],
          [
           0.694,
           -0.6367,
           95900,
           "repeat after me I am a rage-filled cupcake and I'm not going to let anyone f*** with me today"
          ],
          [
           1,
           0,
           218300,
           "I need to move"
          ],
          [
           1,
           0,
           189200,
           ""
          ],
          [
           1,
           0,
           8400000,
           ""
          ],
          [
           0.539,
           0.9022,
           3000000,
           "is only one"
          ],
          [
           0.714,
           -0.0516,
           945000,
           ""
          ],
          [
           0.714,
           0.7906,
           4400000,
           "be math girl wanted to join the mile-high club and tell me being merciful Lord I am I placed"
          ],
          [
           0.508,
           0.9096,
           18600,
           "any weeny teeny weeny shriveled little short dick man don't don't don't don't don't don't"
          ],
          [
           0.73,
           0.5707,
           4500000,
           "I never been with a baddie"
          ],
          [
           0.744,
           0.1739,
           142800,
           ""
          ],
          [
           0.762,
           0.3612,
           3400000,
           "it's going to be like your father"
          ],
          [
           0.395,
           0.91,
           2100000,
           ""
          ],
          [
           0.619,
           -0.5719,
           1400000,
           ""
          ],
          [
           0.625,
           0.4588,
           7600000,
           ""
          ],
          [
           1,
           0,
           465300,
           ""
          ],
          [
           0.459,
           0.68,
           2200000,
           ""
          ],
          [
           0.77,
           0.2716,
           5500000,
           "f*** you my child is completely fine"
          ],
          [
           0.732,
           0.5106,
           1200000,
           ""
          ],
          [
           0.469,
           0.7777,
           2700000,
           ""
          ],
          [
           1,
           0,
           53400,
           "tell me"
          ],
          [
           0.792,
           0.6369,
           2400000,
           "you're done you're done"
          ],
          [
           1,
           0,
           4000000,
           ""
          ],
          [
           1,
           0,
           1100000,
           ""
          ],
          [
           1,
           0,
           1700000,
           ""
          ],
          [
           0.619,
           -0.6486,
           946200,
           ""
          ],
          [
           0.635,
           0.3182,
           5600000,
           ""
          ],
          [
           0.758,
           0.2023,
           7900000,
           "bark at your dog"
          ],
          [
           1,
           0,
           1300000,
           ""
          ],
          [
           0.556,
           0.4939,
           197600,
           ""
          ],
          [
           1,
           0,
           9200000,
           ""
          ],
          [
           0.922,
           -0.3182,
           1100000,
           "hi you show my boys lost the fidget"
          ],
          [
           1,
           0,
           179800,
           ""
          ],
          [
           1,
           0,
           666400,
           ""
          ],
          [
           1,
           0,
           460100,
           ""
          ],
          [
           1,
           0,
           1500000,
           ""
          ],
          [
           0.525,
           -0.5472,
           109000,
           ""
          ],
          [
           1,
           0,
           1100000,
           "Bonanza"
          ],
          [
           0.522,
           0.6597,
           242500,
           ""
          ],
          [
           0.667,
           0.4404,
           449900,
           ""
          ],
          [
           1,
           0,
           3800000,
           ""
          ],
          [
           1,
           0,
           566000,
           "talk about everybody then wonder why your stomach won't go down without a belly full of business"
          ],
          [
           1,
           0,
           98500,
           ""
          ],
          [
           0.263,
           0.4215,
           608700,
           ""
          ],
          [
           1,
           0,
           2000000,
           ""
          ],
          [
           0.68,
           0.5106,
           929200,
           ""
          ],
          [
           0.741,
           -0.8442,
           665900,
           ""
          ],
          [
           0.913,
           -0.2942,
           2100000,
           ""
          ],
          [
           1,
           0,
           386700,
           ""
          ],
          [
           0.645,
           0.3802,
           3200000,
           ""
          ],
          [
           0.625,
           0.6808,
           561200,
           ""
          ],
          [
           1,
           0,
           140500,
           "hold on"
          ],
          [
           0.496,
           -0.8203,
           15100000,
           ""
          ],
          [
           0.806,
           -0.34,
           303400,
           ""
          ],
          [
           0.833,
           -0.296,
           1600000,
           "I was being talked everything that's it"
          ],
          [
           0.629,
           0.7579,
           615000,
           "that was good"
          ],
          [
           0.882,
           -0.25,
           4800000,
           "what the f*** what the f***"
          ],
          [
           0.712,
           0.4404,
           2400000,
           "but I can't bring myself to swimwear"
          ],
          [
           1,
           0,
           1500000,
           "so I can make it just call me so I can get it just before you call me so I can call me so I can get it"
          ],
          [
           0.814,
           0.4404,
           268400,
           ""
          ],
          [
           1,
           0,
           1500000,
           ""
          ],
          [
           1,
           0,
           2400000,
           "you're done you're done"
          ],
          [
           1,
           0,
           1200000,
           "Ramada"
          ],
          [
           0.824,
           0.4767,
           2500000,
           ""
          ],
          [
           0.379,
           0.9694,
           143200,
           "girlfriends and they best friends I love it when they French kiss I love it when they French kiss"
          ],
          [
           0.377,
           0.5106,
           2100000,
           ""
          ],
          [
           0.706,
           0.6331,
           1300000,
           ""
          ],
          [
           0.507,
           0.3612,
           1200000,
           ""
          ],
          [
           0.45,
           0.7506,
           205400,
           "what happened to you I lost my best friend I want you here"
          ],
          [
           1,
           0,
           475300,
           ""
          ],
          [
           1,
           0,
           4300000,
           ""
          ],
          [
           1,
           0,
           636100,
           ""
          ],
          [
           1,
           0,
           2700000,
           ""
          ],
          [
           0.659,
           0.4404,
           4700000,
           ""
          ],
          [
           0.848,
           0.3612,
           71700,
           "Bonanza"
          ],
          [
           1,
           0,
           3700000,
           ""
          ],
          [
           0.899,
           -0.2263,
           7,
           "forget my name"
          ],
          [
           1,
           0,
           1400000,
           "to take a look"
          ],
          [
           1,
           0,
           14900000,
           "Boonton Pizza"
          ],
          [
           0.504,
           0.9153,
           268400,
           "oh yeah yeah one tonight"
          ],
          [
           0.658,
           0.8098,
           927000,
           ""
          ],
          [
           1,
           0,
           3100000,
           ""
          ],
          [
           0.617,
           0.4767,
           3100000,
           ""
          ],
          [
           0.775,
           -0.2023,
           892700,
           "ready to see this look on my face this will always mean it's time to shut up"
          ],
          [
           0.328,
           0.9432,
           412100,
           ""
          ],
          [
           0.513,
           0.4404,
           3700000,
           ""
          ],
          [
           0.727,
           0.4588,
           1200000,
           ""
          ],
          [
           1,
           0,
           1100000,
           ""
          ],
          [
           0.818,
           0.4404,
           3800000,
           ""
          ],
          [
           0.815,
           0.0258,
           209700,
           ""
          ],
          [
           0.833,
           -0.1531,
           24500000,
           "bark at your dog"
          ],
          [
           0.176,
           0.9565,
           3400000,
           "try"
          ],
          [
           1,
           0,
           38900,
           ""
          ],
          [
           1,
           0,
           489700,
           "palisades college to get more knowledge boys go"
          ],
          [
           0.798,
           0.8625,
           1200000,
           "who was brand new F150"
          ],
          [
           0.889,
           0.3612,
           4500000,
           "I really don't know a big deal though"
          ],
          [
           0.494,
           0.9858,
           6400000,
           ""
          ],
          [
           0.69,
           -0.6486,
           1500000,
           "I'm at an all-time low low low"
          ],
          [
           1,
           0,
           3300000,
           ""
          ],
          [
           1,
           0,
           436900,
           ""
          ],
          [
           0.688,
           0.4062,
           916300,
           ""
          ],
          [
           0.693,
           0.6563,
           75600,
           "why you got to be so cute don't you know I can't resist you"
          ],
          [
           1,
           0,
           1200000,
           ""
          ],
          [
           0.69,
           -0.6917,
           8000000,
           "first let me hop out the motherfuking Porsche owned that ass don't sit like a horse"
          ],
          [
           1,
           0,
           284500,
           "Jeepers Creepers"
          ],
          [
           0.716,
           -0.2263,
           4100000,
           "this is the cutest thing my brother has done done crying when I pick him up"
          ],
          [
           1,
           0,
           11700000,
           ""
          ],
          [
           0.456,
           0.8977,
           340400,
           ""
          ],
          [
           1,
           0,
           6000000,
           ""
          ],
          [
           0.542,
           0.8689,
           1700000,
           "don't make my boyfriend or child see this"
          ],
          [
           0.695,
           0.8748,
           276900,
           "not much much much much much much much much much"
          ],
          [
           1,
           0,
           10800000,
           ""
          ],
          [
           1,
           0,
           383600,
           "Baja Burrito"
          ],
          [
           1,
           0,
           2800000,
           ""
          ],
          [
           0.515,
           0.2263,
           640600,
           ""
          ],
          [
           0.505,
           0.9735,
           2100000,
           ""
          ],
          [
           0.737,
           0.8519,
           8600000,
           ""
          ],
          [
           0.312,
           0.9118,
           44500,
           ""
          ],
          [
           1,
           0,
           10700000,
           ""
          ],
          [
           1,
           0,
           198500,
           "ja ja ja"
          ],
          [
           0,
           0.296,
           7800000,
           ""
          ],
          [
           0.721,
           0.8519,
           2500000,
           ""
          ],
          [
           1,
           0,
           1400000,
           "vegetable"
          ],
          [
           0.854,
           0.4404,
           11600000,
           ""
          ],
          [
           0.625,
           0.9274,
           12000000,
           ""
          ],
          [
           0.538,
           0.7184,
           14300000,
           ""
          ],
          [
           0.63,
           0.8553,
           63100,
           "wow"
          ],
          [
           1,
           0,
           1100000,
           "what's up"
          ],
          [
           1,
           0,
           422900,
           "Drake All My Life man"
          ],
          [
           0.559,
           0.0258,
           2600000,
           ""
          ],
          [
           0.712,
           0.3182,
           64800,
           ""
          ],
          [
           1,
           0,
           126900,
           ""
          ],
          [
           0.671,
           0.6597,
           104300,
           ""
          ],
          [
           0.338,
           0.8689,
           596500,
           ""
          ],
          [
           1,
           0,
           172900,
           "let me tell you why"
          ],
          [
           0.721,
           -0.7351,
           65800,
           ""
          ],
          [
           1,
           0,
           3800000,
           ""
          ],
          [
           1,
           0,
           3700000,
           "lendup"
          ],
          [
           0.86,
           -0.3818,
           57700,
           "come outside there's a f****** moose with Buffalo with some stitches fight with a f****** going on"
          ],
          [
           1,
           0,
           5000000,
           ""
          ],
          [
           1,
           0,
           4100000,
           ""
          ],
          [
           0.417,
           0.5267,
           331200,
           ""
          ],
          [
           1,
           0,
           390700,
           ""
          ],
          [
           1,
           0,
           618500,
           "Minecraft"
          ],
          [
           0.854,
           0.2617,
           520700,
           "I know we're just friends but"
          ],
          [
           0.425,
           0.9517,
           3400000,
           "ucpath encino Pinocchio"
          ],
          [
           1,
           0,
           467000,
           "Idaho"
          ],
          [
           0.846,
           -0.4767,
           1000000,
           "how much is it at 12"
          ],
          [
           0.613,
           0.7845,
           78700,
           "when the movie starts your boyfriend"
          ],
          [
           1,
           0,
           680200,
           ""
          ],
          [
           0.662,
           0,
           3600000,
           ""
          ],
          [
           1,
           0,
           4400000,
           "don't don't don't don't don't don't don't don't don't don't don't don't"
          ],
          [
           1,
           0,
           1700000,
           ""
          ],
          [
           1,
           0,
           6300000,
           ""
          ],
          [
           1,
           0,
           3000000,
           ""
          ],
          [
           0.403,
           0.3979,
           952800,
           ""
          ],
          [
           0.69,
           0.8481,
           47800,
           "bring us here now"
          ],
          [
           0.864,
           -0.296,
           383800,
           ""
          ],
          [
           0.678,
           0.9146,
           355700,
           "find a Best pest control by rats"
          ],
          [
           0.718,
           0.3182,
           663500,
           ""
          ],
          [
           0.508,
           0.9118,
           2900000,
           ""
          ],
          [
           1,
           0,
           305100,
           ""
          ],
          [
           0.511,
           0.7717,
           2600000,
           "thank you for the happiest year of my life"
          ],
          [
           0.305,
           0.7096,
           1100000,
           ""
          ],
          [
           0.529,
           -0.296,
           1500000,
           ""
          ],
          [
           0.462,
           0.8126,
           2000000,
           ""
          ],
          [
           1,
           0,
           1200000,
           ""
          ],
          [
           0.33,
           0.9761,
           752500,
           ""
          ],
          [
           1,
           0,
           2800000,
           "Bonanza"
          ],
          [
           0.843,
           0.2617,
           932300,
           "I know we're just friends but"
          ],
          [
           0.831,
           0.6705,
           1700000,
           ""
          ],
          [
           0.707,
           -0.3595,
           113700,
           "income tax"
          ],
          [
           1,
           0,
           2600000,
           ""
          ],
          [
           0.392,
           0.8516,
           327600,
           "kisses"
          ],
          [
           0.679,
           0.6908,
           9200000,
           ""
          ],
          [
           1,
           0,
           299000,
           ""
          ],
          [
           0.373,
           0.6486,
           285600,
           ""
          ],
          [
           0.737,
           0.3612,
           70400,
           ""
          ],
          [
           0.688,
           0.8979,
           1800000,
           "final brain cell"
          ],
          [
           0.408,
           0.8271,
           1100000,
           ""
          ],
          [
           1,
           0,
           457200,
           ""
          ],
          [
           0.408,
           0.4404,
           292300,
           ""
          ],
          [
           0.728,
           0.5204,
           405000,
           ""
          ],
          [
           0.851,
           0.4215,
           1500000,
           "booba booba booba booba booba booba booba Papu Papu Papu"
          ],
          [
           0.697,
           0.1877,
           3400000,
           ""
          ],
          [
           1,
           0,
           2300000,
           "YouTube"
          ],
          [
           1,
           0,
           71600,
           ""
          ],
          [
           0.476,
           0.4404,
           1600000,
           ""
          ],
          [
           0.709,
           -0.5719,
           409900,
           ""
          ],
          [
           0.814,
           -0.0258,
           5900000,
           "actually it's alright because translated f*** you actually means I'll do it I don't know"
          ],
          [
           1,
           0,
           7325,
           ""
          ],
          [
           0.299,
           0.9538,
           787500,
           ""
          ],
          [
           0.853,
           -0.4767,
           1400000,
           ""
          ],
          [
           1,
           0,
           833300,
           ""
          ],
          [
           1,
           0,
           4300000,
           ""
          ],
          [
           1,
           0,
           3600000,
           ""
          ],
          [
           0.771,
           0.7717,
           796000,
           ""
          ],
          [
           0.584,
           0.4404,
           111300,
           ""
          ],
          [
           0.896,
           0.5106,
           773600,
           "call me mullet Daddy what the f***"
          ],
          [
           0.916,
           0.3919,
           1600000,
           "I always will till the end of time I will change my mind"
          ],
          [
           0.926,
           -0.5106,
           2700000,
           "I always will till the end of time I will change my mind"
          ],
          [
           1,
           0,
           58200,
           ""
          ],
          [
           0.769,
           0.4019,
           1400000,
           ""
          ],
          [
           0.649,
           0.4019,
           5500000,
           ""
          ],
          [
           0.709,
           0.2617,
           253200,
           "I know we're just friends but"
          ],
          [
           0.681,
           0.7269,
           2500000,
           ""
          ],
          [
           1,
           0,
           545200,
           ""
          ],
          [
           1,
           0,
           2600000,
           "download download up up"
          ],
          [
           0.659,
           0.4404,
           6500000,
           "aww"
          ],
          [
           0.714,
           0.4215,
           451300,
           ""
          ],
          [
           1,
           0,
           29700000,
           ""
          ],
          [
           1,
           0,
           2100000,
           ""
          ],
          [
           0.823,
           0.6249,
           1900000,
           "systembuild you don't get to pick and choose different awesome bigger boobs if my acid product"
          ],
          [
           1,
           0,
           612100,
           ""
          ],
          [
           1,
           0,
           1400000,
           ""
          ],
          [
           1,
           0,
           112000,
           ""
          ],
          [
           0.792,
           -0.2732,
           1600000,
           ""
          ],
          [
           1,
           0,
           15900000,
           "don't don't don't don't don't don't don't don't don't don't don't don't"
          ],
          [
           0.407,
           0.8074,
           566300,
           ""
          ],
          [
           0.417,
           0.498,
           12200000,
           ""
          ],
          [
           0.783,
           0.3612,
           217800,
           ""
          ],
          [
           0.586,
           0.7964,
           565000,
           "diabetes w7y I love sausages"
          ],
          [
           0.404,
           0.7096,
           1900000,
           ""
          ],
          [
           0.706,
           -0.4003,
           372500,
           ""
          ],
          [
           0.733,
           -0.69,
           1900000,
           ""
          ],
          [
           0.505,
           0.2732,
           389200,
           ""
          ],
          [
           1,
           0,
           301500,
           "I never been with a baddie"
          ],
          [
           1,
           0,
           3000000,
           ""
          ],
          [
           0.818,
           -0.25,
           480200,
           ""
          ],
          [
           1,
           0,
           45300,
           ""
          ],
          [
           0.542,
           0.5228,
           41100,
           ""
          ],
          [
           0.656,
           0.6369,
           336700,
           ""
          ],
          [
           0.775,
           0.2584,
           13400,
           "send this to someone you don't want to lose"
          ],
          [
           1,
           0,
           5300000,
           ""
          ],
          [
           0.759,
           0.4404,
           1800000,
           ""
          ],
          [
           0.594,
           0.8271,
           14700,
           ""
          ],
          [
           0.694,
           0.3094,
           564200,
           ""
          ],
          [
           0.679,
           0.6369,
           19100,
           ""
          ],
          [
           0.619,
           0.6486,
           217700,
           ""
          ],
          [
           0.484,
           0.7506,
           2000000,
           ""
          ],
          [
           0.418,
           0.91,
           1200000,
           ""
          ],
          [
           0.328,
           0.4215,
           14100000,
           "Bonanza"
          ],
          [
           0.45,
           0.9383,
           2700000,
           ""
          ],
          [
           0.478,
           0.946,
           3643,
           ""
          ],
          [
           0.315,
           0.0772,
           2100000,
           ""
          ],
          [
           0.45,
           0.7506,
           834000,
           "what happened to you I lost my best friend I want you here"
          ],
          [
           0.705,
           0.7964,
           2600000,
           "boyfriend"
          ],
          [
           1,
           0,
           3200000,
           "we have come to my attention that y'all think I have on my teeth"
          ],
          [
           0.79,
           0.4926,
           723400,
           ""
          ],
          [
           1,
           0,
           2600000,
           ""
          ],
          [
           0.89,
           -0.1531,
           2700000,
           "I miss your dad so big"
          ],
          [
           1,
           0,
           6600000,
           ""
          ],
          [
           1,
           0,
           1500000,
           ""
          ],
          [
           1,
           0,
           2600000,
           ""
          ],
          [
           0.39,
           0.9337,
           5700000,
           "you are my best friend my only this make me happy"
          ],
          [
           1,
           0,
           7900000,
           ""
          ],
          [
           1,
           0,
           1700000,
           ""
          ],
          [
           1,
           0,
           2800000,
           ""
          ],
          [
           0.39,
           0.9337,
           415900,
           "you are my best friend my only this make me happy"
          ],
          [
           0.381,
           0.7574,
           4900000,
           "beautiful"
          ],
          [
           0.833,
           0.4588,
           211800,
           "booba booba booba booba booba booba booba Papu Papu Papu"
          ],
          [
           0.561,
           0.2023,
           337400,
           ""
          ],
          [
           1,
           0,
           4100000,
           "you used to call me on my cell phone"
          ],
          [
           1,
           0,
           13500000,
           "Bonanza"
          ],
          [
           1,
           0,
           8400000,
           ""
          ],
          [
           0.436,
           0.5974,
           421600,
           ""
          ],
          [
           0.678,
           0.4404,
           1900000,
           ""
          ],
          [
           1,
           0,
           542900,
           ""
          ],
          [
           0.488,
           0.6369,
           653800,
           ""
          ],
          [
           1,
           0,
           117200,
           ""
          ],
          [
           0,
           0.4588,
           468100,
           ""
          ],
          [
           0.445,
           0.9287,
           641100,
           ""
          ],
          [
           0.717,
           -0.128,
           1300000,
           ""
          ],
          [
           0.616,
           0.6808,
           513800,
           ""
          ],
          [
           0.608,
           0.5574,
           183700,
           ""
          ],
          [
           0.25,
           0.4588,
           5200000,
           ""
          ],
          [
           0.8,
           0.3612,
           2000000,
           ""
          ],
          [
           0.884,
           0.4404,
           1400000,
           "why"
          ],
          [
           1,
           0,
           6900000,
           ""
          ],
          [
           0.781,
           -0.0516,
           1300000,
           ""
          ],
          [
           0.566,
           0.3182,
           4800000,
           ""
          ],
          [
           0.882,
           -0.1531,
           5700000,
           "El Pepe"
          ],
          [
           0.667,
           0.91,
           1800000,
           ""
          ],
          [
           1,
           0,
           242600,
           ""
          ],
          [
           0.658,
           0.854,
           25200,
           ""
          ],
          [
           0.729,
           0.8764,
           1100000,
           "I'm sorry don't leave me I need you here with me now don't say that"
          ],
          [
           0.704,
           0.6369,
           4000000,
           ""
          ],
          [
           0.643,
           0.5574,
           597100,
           ""
          ],
          [
           0.611,
           0.891,
           1300000,
           ""
          ],
          [
           0.873,
           -0.4404,
           1400000,
           "the Cabanas"
          ],
          [
           1,
           0,
           1300000,
           "can I have one"
          ],
          [
           0.472,
           0.9042,
           15200000,
           ""
          ],
          [
           0.445,
           0.7245,
           3300000,
           "lightspeed"
          ],
          [
           1,
           0,
           1200000,
           "email"
          ],
          [
           0.6,
           0.7783,
           3700000,
           "McDonald's"
          ],
          [
           1,
           0,
           1700000,
           ""
          ],
          [
           1,
           0,
           1300000,
           "movies in the body everybody would update and I get a half a mil for my Pikachu"
          ],
          [
           1,
           0,
           1900000,
           ""
          ],
          [
           1,
           0,
           1900000,
           "Pikachu"
          ],
          [
           0.814,
           -0.1531,
           1300000,
           "window falling down"
          ],
          [
           0.823,
           0.8074,
           2100000,
           "lukebergs I will go in the forest and find a Lab dog at lick Doug's so much Landon art"
          ],
          [
           0.824,
           0.4588,
           97700,
           "pokecito"
          ],
          [
           0.433,
           0.9601,
           1800000,
           "3821 honey a strawberry"
          ],
          [
           1,
           0,
           353800,
           ""
          ],
          [
           1,
           0,
           1400000,
           ""
          ],
          [
           0.624,
           0.946,
           745700,
           "wow"
          ],
          [
           1,
           0,
           715200,
           ""
          ],
          [
           1,
           0,
           297100,
           ""
          ],
          [
           0.677,
           0.4939,
           79600,
           "Basin me for the week"
          ],
          [
           0.747,
           -0.2577,
           2000000,
           ""
          ],
          [
           1,
           0,
           1700000,
           ""
          ],
          [
           0.789,
           0.34,
           317500,
           ""
          ],
          [
           1,
           0,
           191500,
           ""
          ],
          [
           0.685,
           -0.0173,
           11400000,
           ""
          ],
          [
           0.901,
           0.5106,
           2500000,
           ""
          ],
          [
           0.545,
           -0.3612,
           2800000,
           ""
          ],
          [
           0.8,
           0.6705,
           1100000,
           ""
          ],
          [
           0.767,
           0.2263,
           297900,
           "Robinson"
          ],
          [
           0.83,
           0.7479,
           16600,
           ""
          ],
          [
           0.427,
           0.9442,
           286200,
           "hi babe I love you have a good day"
          ],
          [
           1,
           0,
           4900000,
           "Nigerian food"
          ],
          [
           0.69,
           0.6696,
           2600000,
           ""
          ],
          [
           1,
           0,
           143300,
           ""
          ],
          [
           0.688,
           0.0516,
           177000,
           "somebody wants told me the world"
          ],
          [
           0.776,
           0.128,
           1400000,
           ""
          ],
          [
           0.667,
           0.0258,
           1600000,
           ""
          ],
          [
           0.611,
           -0.6249,
           54500,
           ""
          ],
          [
           0.71,
           0.3818,
           862200,
           "I don't need money man I don't need cash because anything I need and starting bad badass"
          ],
          [
           0.749,
           -0.1984,
           256400,
           ""
          ],
          [
           0.89,
           0.4939,
           709700,
           "my fish's 11th hour to get up and see what is happening outside their tank"
          ],
          [
           0.717,
           0.8306,
           947900,
           ""
          ],
          [
           0.781,
           -0.2732,
           201400,
           "I don't need money man I don't need cash because anything I need and starting bad badass"
          ],
          [
           1,
           0,
           3400000,
           ""
          ],
          [
           0.4,
           0.91,
           533500,
           ""
          ],
          [
           0.531,
           0.891,
           47900,
           ""
          ]
         ],
         "hovertemplate": "<b>%{hovertext}</b><br><br>Positive Sentiment=%{x}<br>Negative Sentiment=%{y}<br>like=%{customdata[2]}<br>Neutral Sentiment=%{customdata[0]}<br>Compound Sentiment=%{marker.color}<br>sound_transcribed=%{customdata[3]}<extra></extra>",
         "hovertext": [
          "#trending #fyp #manga #anime #killua #animetiktok",
          "Reply to @whosaleece N <3",
          "Reply to @that_one_killer  Why does Adrian look cooler than me in this tho... @thaflex #trend #brother #edit #mirror #CloseYourRings #notviral",
          "Follow for more 😂❤️",
          "How 2022 started….",
          "#FNaF #Vanny",
          "February 9th game day . #winterolympics #olympicspirit #womeninsports",
          "First qualies of the Games 🔥 #fyp #foryou #skitok #beijing2022 #DuetDoWet #winterolympics #moguls",
          "When you make it to your second Olympics and you are that much closer to achieving your dream ❤️ #winterolympics #olympicspirit",
          "Frying Real Human Eggs 🍳#funnyvideos #japan #comedy #viral #amazing",
          "#WINWIN 😭😭😭😭😭",
          "She really went hard at the end",
          "FEBRUARY 5TH, GET READY! #february5th #nationalshowerwithafriendday #nationaldaynathanday #fyp #blowthisup #xyzbca #viral",
          "shake your body like a belly dancer💞🔥#taeedits #Korean #kpopedits #kpopfyp #foryoupage #btsarmyforever #ThinkBigOwnBigger #bighit_entertainment",
          "It’s all your fault",
          "GETS? #jernics #nicsqtam143 #nicsorense #fypシ゚viral #fyppppppppppppppppppppppp #fypdongggggggg #fyppppppppppppppppppppppp",
          "وله اینه چی حالی اس 😂😂",
          "15k likes and i’ll do it",
          "Little Harley gave us the biggest yawn from the tiniest little mouth 😂 #goldendoodles #fyp #ITriedItIPrimedIt #puppyyawn",
          "#uncledrewbelike #irving2 #PaintYourChristmas #kyrieirving11",
          "one more day 😭 #taehyung",
          "THE SMACKING JUST BE TEW MUCH😂 #fyp #fueyruss",
          "I think my phone is broken✨ @moncler #monclergenius",
          "#germanshepard",
          "request ni ano",
          "",
          "19.33 #fyp #foryoupage #anyageraldineee #keanuagl",
          "SADDEST DAY OF MY LIFE….THIS IS REAL…PLEASE HELP 😭😭😭 @looseanchor @chris.tracy @Lovensky Pierval",
          "I wish you could hear their laughs 😭",
          "I’m toxic",
          "#chiguagua #dog",
          "trend?#preset5mb #fyp #fypシ",
          "Confident clothes need confident people!##fyp #foryou #followme #girls #follovers #clothes #👍👍👍👍",
          "4Y4NK M4N4 $1H? 🗿🤬🥵✌🏻🥺📸",
          "#kimtaehyung #btsarmy",
          "hell hath no fury like Ruth #ozark",
          "TAG A BAD BITCH!!😂💖 insp by: @𝓈 #badb #selflove #winterbreak",
          "【ASMR】ついに鼓膜まで指先が届いた！濃厚な耳オイルマッサージ（両耳同時 / 日本語字幕） #asmr #asmrtiktoks #asmralice #asmrvideo #earcleaning #asmrmassage #音フェチ",
          "what's the au that came to your mind & what's the most painful line from it? #jungwon #enhypenau #twtau #alternateuniverse #enhypen",
          "#puppy #puppylove",
          "MANY PPL ASKED. <3 GTG TO SCHOOL #fyp #foryou #tysm #A+K",
          "Go little Rockstar. #familyfarm #YerAWizard",
          "#enhypen all looks so good but their tallest tho | #ni_ki #sunghoon | 80k followers!!! Thank you!",
          "",
          "@brycehall comes and goes",
          "#animalesquecomenhierba #animalesgraciosos #niña #mariuanos #fyp #parati",
          "Come & go #mil #motherinlaw #onlydaughterinlaw #married #motherinlawproblems #motherinlawlove #milnightmare #daughterinlawissues #motherinlawfromhell",
          "Sip, Bo le pertenece a Eleanor ahorita. 🥰 #locurasdevero #humor #risa #broma #chiste #papa #familia #amor #Bo #hija @paulinarubioficial #paulinarubio",
          "say rip before you scroll #sad #rip #fyp",
          "",
          "I’m a 🥔 #englishbulldog #fyp #englishbulldogpuppy #englishbulldogsoftiktok #tiktokbully",
          "Te pasa lo mismo??#yubranluna #riesiempre",
          "Reply to @me_r.o.p 🥺",
          "",
          "#hellishotchallenge #rip #cashapp13plus #MyBrawlSuper #fypシ",
          "#dontletanyone #happyday #ragefilledcupcake #yourfriendsbelike #tickingtimebomb #raptorking #kingoftheraptors",
          "#presetsecretぎ",
          "katamu pacarmu cuma satu 🗿#indrapreset",
          "Who did thisss",
          "Get one for memories😍link in bio#light #heart #beautiful",
          "#yes #DIYwithBlock #DuetDoWet #28DaysOfEucerin #YerAWizard #RufflesOwnYourRidges #fyp #bigfoot #bigfootspotted",
          "she really tried to kick us off the plane.😂😂 @theskimaskgirl",
          "#funny #funny_video582 #amazing #haha #😂 #foryou",
          "Reply to @remmusfive yay! #fyp",
          "Who taught them that style 😳😭 ! CHINEKE ! Tag a friend and say nothing #foryoupage",
          "Papaccine Alfredo.",
          "#funny #foryou #funny_video582 #😂 #haha #amazing #mouse #pet",
          "The end of times #apocalypse #meteor #horror",
          "#cat #catsoftiktok #cute",
          "The sound my lips make. #lips #asmr",
          "MERCH OUT NOW :) thank you to those who’ve been supporting! 😭",
          "#pennywise",
          "The taste should be very unique.#toys #usa #funtoys",
          "Happy almost new year! #EveryKiss #YerAWizard",
          "The new elevator boys 😉",
          "I love hot fries #youredone #arab #tiktokarab #middleeastern #fyp",
          "Reply to @not.important.xo the end says it all🥲 #tufting #rugtok #fyp",
          "^_^",
          "NOOOOOOOOOOOOOO",
          "#greenscreenvideo killer.#cat #cats #fyy #fyp #foryou #fyfyfyfyfyfyfyfyfyfyfyfyfyfyfyfyfyfy",
          "#feels #ceilingfanceo 🏝",
          "lol he was def concerned #barkatyourdogchallenge #dogofticktok #confused #fypシ #doglover",
          "Duck army",
          "Guess what’s in my hand?",
          "Reply to @a82_a11.2020  first riceart vs. now #riceart",
          "away game tings🏀, #touchingmywilly #broski #bustrip #basketballgame #fyp #dtaemovement #trend #viral #willy",
          "#liiusion you re right.",
          "Reply to @beasteater",
          "#huawei #ZTE #oppo #samsung",
          "dc: @Ben Calleja",
          "No one likes this kind of work,right?",
          "Fyp",
          "#makeup #MACChallengeAccepted #satisfying #skincare #fypシ #doctor",
          "I’m sorry babe 🥵🤣 #fyp #tiktok #foru",
          "They Can’t Break You 🥺",
          "#lillezyv #fypシ",
          "#samsung",
          "💋",
          "Srivalli❤️ #tiktok #trending #trendingsong #trendy #trend #dancevideo   ❤️",
          "are you free on february 14th? 😏",
          "Here are the Do’s and Don’t’s of Neck Cracking 🥵😱 #neckpain #neckcrack #LearnOnTikTok #GetAdjustedNow #NYCchiro",
          "Flash flood in a subway station! 😵 📍Studio Tour, Universal Studios Hollywood.  #flashflood ##subwayflood #universalstudios #universalstudioshollywood",
          "#hanfu汉服 #Hanfu #fyp #hanfu汉服",
          "Poor boy! 😅🥺 #funny #viral #parentsoftiktok #toddler #fyp #foryoupage",
          "Funnier each time I watch it 😂 #turndownforwhat #dancingqueen",
          "#qoutes849",
          "he felt so bad 😭 #dogchallenge #fyp #dogreaction",
          "warrior princess - set info on my instagram ❤️‍🔥",
          "no way this is real",
          "@txbooo filmed a behind the scenes of this video hahaha",
          "Icicle gonna make me act up 😰",
          "Now im singing it for him 😂😂",
          "gusto ko lang naman mag tiktok @ranzkyle",
          "volvimos Pa🥵🤡🤡😂#luislaboriel #fansdedilson #doninseguridades IG: Dilsonlimaoficial🇸🇻🥺🔥🇸🇻🇸🇻🇸🇻",
          "#fyp #foryou #gaming #setupgaming #viral #fortnite #valorant #rocketleague #callofduty",
          "All the time @noordabashh",
          "LIMARIBOOO #fyp #foryou #foryoupage",
          "Reply to @braydon717  Feel free to leave questions or requests below #entdoctor #earcamera #earwaxremoval #medtok #medstudent #earwax",
          "",
          "This is fun",
          "Gatito !!! 😍🥺 al fin !",
          "Don’t sit by me on the plane 😭😭😂😂😂 #fyp #foryoupage",
          "",
          "Butterfly🦋",
          "#PoppyPlaytime #HuggyWuggy",
          "Baby baby baby #catsoftiktok",
          "The whole village is watching#fyp",
          "The show must go on 😂 #fypシ #la",
          "#jake with this fit will be the end of me | #enhypen",
          "Song name is pipeline funk#fyp #saxophone🎷",
          "Most people are saying this wrong… are you saying it in either of these ways?",
          "@sbymissflawless_ @sasbeautyofficial_",
          "Same girl, same. 🍕 #firstbite #fyp #pizzababy",
          "#budweiserzero #downsyndromerocks💛💙 #iowa #mickeymouse",
          "NOT GEORGE! 😭 #fyp #minecraft #foryou #taylorswift #GivingSzn #TheSplashDance #please #piggy #rexzilla",
          "Don’t let your girlfriend or kids see this😳#fyp #demonslayer",
          "follow for more.(credit@armonie2002)#humour #tiktok #fyp #pourtoi #husky #monloulou",
          "😠 #rapunzel#cosplay#disney",
          "Amazing!😱#foryou #art #cool #beautyhacks #tipsforgirls #idea #beautiful #amazing #creative #foryoupage",
          "Beat the @jaguars 😂",
          "Who wants duoduo cute hat 👒🐱",
          "Why is it so quiet?",
          "A, B, C, D Cat #catsoftiktok #funny #viral #cats #trending #fypシ",
          "Why do you have to cut it off?#fyp #foryou #following #foryoupage #hairs #hair #share #hairstyle #hotpot #haircut",
          "#barkatyourdogchallenge Yoshi wants all the smoke😂",
          "yeah yeah 💗💚💛 #triangle",
          "BRO?!!",
          "",
          "Brand new Air Fork ones 🍴👟 been waitin 🤣🤣🤣 @Vietcious #nike #airforce #vietnam #duma #yeezy",
          "I just wanted to do an eyeliner tut 😃",
          "Be careful it’s getting slippery out 😂😂😂😂😂😂😂🤣🤣🤣🤣🤦🏾‍♂️ #fyp #foryou #viral",
          "#ad Dragon king and Custom sea#ad #fyp#feliznavidad",
          "Letter j<3 #j #fyp",
          "#一首歌一个故事#你能不能不要离开我 #蓝兰 #音乐现场   #livemusic #foryou",
          "Hello,my little baby 😎",
          "Why you gotta be so cute? 😭🐰 #bunny #fyp #viral",
          "#fyp #viral #snake  what you think?",
          "yuhhhhh 🕺🏻✨🔥 (dc : @mulehango)",
          "#_sofficial #anime",
          "He just want to hangout w me and all I do is bully him 😔 #foryou #fyp #baby #brother",
          "pov: peter parker is late to the trend #spiderman #edit #vfx",
          "Let's find the highlights!😂😂😂#animals #monkey #funny #foryou",
          "Answer @cranky_crab",
          "The best gift for your boyfriend or child.🥳🥳#foryou #fyp #toygun #softbulletgun #armyfan",
          "So funny #riteshdesmukh #geneliadsouza #mastibollywood #AlaskaAirCAREoke #mkblogger #SoFiBreakUpChallenge #desifun",
          "Reply to @julia_pagliarulo",
          "",
          "cursed #thanksgiving day parade",
          "Lol. 😂#tiktokប្រឹក្សាយោបល់",
          "#laugh #smail #funny #jackychan #funnyy #funnyvideo #🤣🤣🤣 #funnyvideos #fun #🤣",
          "#animal #cats #dogs #wee #animals #pets #funny #weee #fypage #dog #Wee #cat #pet #🤣🤣🤣",
          "#funny #😂 #lol #funny_v7 #foryou #haha #amazing",
          "It’s been a while since I’ve woken Zion #zion #tiger #ITriedItIPrimedIt #fyp",
          "#oppo #huawei #samsung #vivo",
          "Ok",
          "#dog #dogs #cat #Wee #cats #weee #animals #funny #pets #animal #pet #wee #🤣🤣🤣",
          "🐶💨 #corgiracing #corgirace #eatyourvegetables #fyp",
          "Reply to @why_.do_i._do_.this_ Dad is certified 🧛‍♂️ #vampire #tvd #trend #dad #MacysGiftTok #notviral",
          "Reply to @balsam.al  this took so long but here we go 😄 #dad #trend #edit #MyBrawlSuper #notviral",
          "the fact that my camera is working perfectly fine-",
          "What girl doesn’t like this!?🤪 #girlfriend #boyfriend #couples #viral #fyp #fypシ #girls #target #shopping #kiss",
          "Gotta get them neck scratches! #redangus #cattle #ranching #babycalf #farmanimals #westernphotography #ranchphotography",
          "#anime #juliusnovachrono #hisoka #bakugo #gojo #onisqd",
          "Ayooo😭. Tag a friend and say nothing",
          "Her exact perspective 😭 #waterfowlhunter #duckhunting #floodedtimber #drake #woodduck #like #fypシ #mississippi #duckcall #tiktokfunny",
          "#scenery",
          "Call me 🤙🏻 #KAIA_PH #KAIATok",
          "merry Christmas everyone lol #merrychristmas #animation #dance",
          "#bblreverse",
          "Bet he’ll go to sleep next time 😭😭 #mikeruga #babymomma",
          "How to take Pics when traveling #phonephotography #iphone13 #photopose #photoposes #howtopose #posepractice #lacma #losangeles #foryoupage #foryou #fy #losangeleslife",
          "#fyp",
          "",
          "#dog #pet #fypシ #cat #fyp",
          "Follow my instagram : akamztweenty",
          "🤣🤣🤣🔥🔥🔥",
          "My mom went to space 💀",
          "",
          "Give this to you my bestie#foryou",
          "Pinocchio challenge with the kiddo 😂😂😂 #pinocchio #challenge #kids #funnyvideos #funny #funnyvideo #parents",
          "oops 😏",
          "#stitch with @sofia_shepherd  mine is broken 🤦🏽‍♀️",
          "#CapCut Happy Valentine’s Day 💕#fyp #foryou #couples #valentinesday",
          "#chickennuggets #foodtiktok #homemadefood #heathyrecipes #foodyclub #RufflesOwnYourRidges",
          "#faceoff #therock #jojosbizarreadventure #fyp #foryou",
          "That’s what you do during snowing time",
          "#deepsea #benthos #Magical #squid",
          "Reply to @dietitian.em.b",
          "#anime #animeedit #animetiktok #fyp",
          "He was so excited to play😭",
          "For your #Superbowl #halftimeshow  By popular request: #thebelt 😂 #fyp #LaysGoldenDuet #AVrboForTogether #parents #kingsandqueens #couplecomedy #kids",
          "when she does to mexico in december✅ #nosidewalks #mexico #fyp",
          "Calling out all Targets, Sams Clubs, and other Walmart😈 Who want smoke with OGP??😈😈 #whowantsmokewithme🔥  #foryoupage #walmart  #fyb #ogp",
          "State of the art motorcycle🤣😂#funny",
          "Hey, guys.Can you be better than him? Let's try.#cat #cute #funny #catlover #foryou #fyp",
          "You guys asked did I deliver? #sail #kale #ITriedItIPrimedIt",
          "",
          "🐈Are you envious? #fy #kitty #cat #love #kiss",
          "im dead HAHAH 😗🧟‍♂️😗🧟‍♀️ #allofusaredead #korean #netflix #지금우리학교는 #fyp",
          "sorry😂#catsoftiktok #funnycat #funnycat #foryou",
          "Weeeeeewooooo!",
          "Do you love them #cat #catlover #catsoftiktok #cute #pet #petlover #funny #funnyvideo #animallover",
          "#satisfying #foryou #fyp 🌵🌵🌵🌵",
          "All for you, bestie #foryou",
          "Dear,the store is new,all the seasonal trends,have it you can be as handsome as me come to my store to see it #clothersmens #mensfashiontips #cool",
          "Stop eating.it’s on my head!",
          "#fireworks",
          "Thank you so much for being my friend!",
          "We tried lol 😂 #fyp #viral #baby #mommydaughter #fypシ #trending #foryou #foryoupage",
          "@twistedpennywise 🤡💀 #avemoves #dance #trend dc @Ben Calleja",
          "#badday #funny #haha #viral #😂 #fyp #foryou",
          "Why doesn’t anyone like it?#cat #kitty #pet",
          "and someone was trying to flash me her beans#cat #cat #cute #PetOfTiktok #somebody #catsoftiktok #love #petlover #pet #funny #petsoftiktok",
          "#fyp #funnyvideos #funnytiktok #cat #kitty #funny",
          "#drawing #painting #simplestrokes",
          "Form getting better",
          "who’s your favorite? 1,2,3,4? 🌎 @nate_wyatt @itaintokbro @nickaufmann",
          "How many likes you see now? 🤍",
          "now im not shy 💀",
          "#michaeljackson #tiktok",
          "| #enhypen #jake",
          "People say this uniform strikes fear in their hearts. #Peacemaker #RingLightChallenge #JohnCena #FallonTonight",
          "follow for more ⚠️ #fyp #xyzbca #viral #horror",
          "#memes #fyp #lowqualitymemes",
          "#hanisam #fypシ #newyork #hazzyyWazzyy",
          "#funny #😂 #foryou #lol #amazing #funnyvideos #haha #pet #cat",
          "I never knew I needed this in my life until now 😭🐓 #7LittleJohnstons #TLC",
          "#onlyinwalmart🤣",
          "Lipstick chateau 와인빛 color💰💄🍷🌀🐻#Lotto #카이 #KAI #엑소 #EXO #weareoneEXO",
          "#lifehacks #foryou",
          "Principal Castar and Grace James did this in two try’s, and Landon had practiced all week and still messed up. 🤣  Tune in Monday for a new ep. of @cwallamerican #PrincipalCarter #GraceJames #AllAmerican #DanceChallenge #ForgetMeNots",
          "THEY BE SO MUSTY😂 #fyp #fueyruss",
          "Give your girl 😜 this 💄😜see what happens 😁#foryou #fyp #lipstick #aobenz #makeup #lipstickchallenge #lipstickshow",
          "You thought your boyfriend forgot about your anniversity but he does something surprising on the stage. #pov",
          "#pov: Your boyfriend finds out that you cheated on him and instead of putting you down on stage, he does something different… #foryoupage #foryou #fyp",
          "#tiktok #tiger",
          "#notebook #diy #foryou #tutorial #handcraft #interesting #handmade #fyp #paper",
          "Dance party #catsoftikok",
          "",
          "My guy thought his life was over 😂💀  tag a friend and say nothing #foryoupage",
          "Follow my instagram : akamztweenty",
          "this took sooo long to film! can this go viral? 🤩❤️ #fyp #foryou #foryoupage #volleyball #aesthetic #viral",
          "How Tiktok behind the scenes are… 😂 @coreyscherer",
          "#cat #FFXmasSwitch #catsoftiktok #WhenRiftanSays #fypage",
          "A video from a few years back while down in Antarctica.#golittlerockstar",
          "#dragon #ocean #deepsea #benthos #Magical #fish",
          "#foryou #slimes #fypシ",
          "#cat #kitty #pet #cat #MyAncestryStory #NBCAnnieLive",
          "oh u wanna touch my alien? @C-Lo @Q Park",
          "Hair twister can twist in seconds #fyp #hairtwister #hairtwist #gadget",
          "Put on headphones #capcut #viral #fyp #videoedit",
          "@eviemareee #dog #2022 #dance #twerk",
          "Let’s go 🥰",
          "Nothing like a warm bath 🐒😊",
          "Why tf did my face twitch like that? #fyp #parati",
          "Mom is all about that troll life. 😂",
          "#cat #cute #funny #pet #foryou",
          "Shit slapppp! Mad good. It look like Tuna I know. #farmerinthedeli #nyc #brooklyn #ITriedItIPrimedIt #latenightsnack #openlatenyc #openlatenights #DisneyPlusVoices",
          "Neck Hump? Try this & share with someone that needs it! #neckhump #hunchback #neckpain #backpain #healthtok #learnontiktok #spinehealth #healthtips",
          "Sweet boy still misses his dad though",
          "",
          "🥀",
          "#angrydad #busstop #part1 #fyp . (Not related to me just stuck at bus stop",
          "Reply to @sexrethulaanmo (kahit Crdts Lang mga bebs!!)#tenderjuicyfam #jmsalitics #foryou #fypシ",
          "Everyday should feel this good",
          "#ColorCustomizer #xyzbca #givewithallyourheart",
          "#foryou #SephoraLipLooks",
          "#cat",
          "i can still hear the “RAAH” after 😂 #tiktoktrendorigins #oldtrend #elizabethgillies",
          "Literally I don’t know why I can’t 😂😂😂#fyp #foryou #viraltokish #followmebet",
          "Ummm May I Help You?? #noseydog #puppy #fyp #pitbullsoftiktok #puppiesoftiktok #7weeks",
          "#slaychallenge what do you think, did I slay? 😉 #fyp #cashapp13plus #MyBrawlSuper",
          "#followmyig💕 #editme💕",
          "Save the rabbit #fyp #foryou #save #animals",
          "…So funny😂😂#foryou #catlover #catsoftiktok #funny #love #lmao #fypシ",
          "like honestly | discord in bio",
          "Don't mess with mother😂#foryou #catsoftiktok #catlover #funny #petlover #fypシ",
          "Follow Your Dreams ♥️♥️♥️ #fyp #fypシ゚viral #foryou #viral #malakharmain @malak_harmain",
          "Smile Cat 💀 #smilecat #horror #creepy",
          "",
          "This is the best present 🎁 Santa could give.. @babe #foryou #viral #fyp #foryoupage",
          "Reply to @cajuncoonass337  #wafflehousewaitress #wafflehouse",
          "What’s your fave travel food 🤔? I’ll ❤️ mine in comments!",
          "Dc: @juliabritzz_ @gabylopesof",
          "This how we start off my sister’s day.",
          "#PoppyPlaytime #HuggyWuggy",
          "Melting 🍭 #asmr",
          "When that  chicken hittin  🐥 👀",
          "#cute #dog",
          "Points made",
          "Rate 1-10 🥺",
          "#FNaF #Vanny",
          "#cute #dog",
          "100% the truth! ❤️",
          "#satisfying #idea #foryou #food #fyp",
          "What the end #fyp #foryou #respect #tiktokusa #likeaboss #boss #wtf",
          "#FNaF #Vanny",
          "Roni does another TikTok #dance! #flipbook",
          "Indiana Jones",
          "it’s way more fun!",
          "There’s always that ONE girl😳😂 @lexibrookerivera @themermaidscale",
          "#fyp #Hanfu #hanfu汉服",
          "The love of the world",
          "| #heeseung #enhypen",
          "#cute",
          "The way cats greet each other❤️     #cat #tailheart #love #cutepetshow #fyp",
          "That had to hurt‼️🤯 #viral #prank #funny #fyp #foryourpage #tiktok",
          "Watch the end #likeaboss #boss #respect #fyp #tiktokusa #wtf #foryou",
          "falling in love #slowed🎧 #alightmotion  #lyrics #fypシ #mjlyrics4",
          "#cute #dog",
          "Which one do you like?#harrypotter #hermionegranger#dracomalfoy",
          "#stitch with @lilbeetlejuicelil I guess it was a good thing showing her that😉#CloseYourRings #ArbysDiabloDare #fyp",
          "#OMG #foryoupage #foryou #fyp",
          "40 Poker Chip Bottle Challenge with my sword #かわいい #kawaii #trickshot",
          "#lIIusionism #liiusion please believe your eyes.",
          "Your 1st @ has a crush on you 😳 #fypシ",
          "#wee #animal #pets #dog #pet #cats #viral #🤣🤣🤣 #weee #animals #Wee #cat #dogs #funny",
          "#hanfu汉服 #fyp #Hanfu",
          "my cousin - “wait is that you” me - “no that’s shrek”. really boosted my confidence 😁",
          "Tom sings “love is gone” 😻😻 #talkingtom #loveisgone #fypシ #foryou",
          "She caught me off guard 🙈 #singing #loveisgone",
          "A lovely idea #idea #diy #trick #diy  #learnontiktok #khabylame_jp #foryou",
          "Why can’t I run fast?😭🐻#foryou #fyp #viral #viralvideo #xyzbca #funnymoments #Naughtybear #funnyvideos #cutebear #Bear #girls #cute #🐻 #funny",
          "#DIYwithBlock #FYP #DuetDoWet #compas #28DaysOfEucerin #televisapresenta #DONCHUYIN #ultimahora #toxicas #elcovi",
          "",
          "Best Caption Wins 🏆 #zoomies #fyp #cuteness #narutorun #wrinkletheduck",
          "#CapCut #fyp #stickman  Blue💙🙂",
          "Y me levanto en la mañana a las 7am a salí a trabajar 🎶 #ymelevantoenlamañana #fyp #miceoftiktok",
          "Raise your hand if you were fooled 😈🙋🏽 #trend #dad #1980 #notviral",
          "muốn lé luôn",
          "#disco #dj #DJ",
          "#weddingdress #bridal",
          "(*•̀ᴗ•́*)و✧ #shinobu #anime #customshoes #demonslayer",
          "2022 and 24 hours 👀",
          "🐞 #labdug #godnit #godnitfreds #forst #forestgump #proudmama #gottastartsomewhere #GiveWithAllYourHeart",
          "Ya se armo😈#vaselina#newtrend#parati#fyp",
          "Happy Valentines Day Lynja Turtles 🥰🥰",
          "#samsung #oppo #huawei #iphone",
          "#guitar #learnwithtiktok",
          "That’s enough for the whole family 🤣🤣🤣 #ThatLittlePuff #puffknowsbetter #AVrboForTogether",
          "#scenery",
          "#craft #DIY #handmade",
          "#tinastacks #wegrowingnocap #studcomedy #lesbiansover30 #lesbiansoftiktok🏳️‍🌈 #studsoftiktok",
          "IM SORRY IM DONE 💀📞",
          "Movie time 🙈#fyp #4u #viral #couples #cat #foryou",
          "Somewhere on the Finger Lakes #blackfridayadventures #upstateNY",
          "#ocean #whale #dolphin #shark #fish",
          "EXCUSE MI THIS FANSERVICE THO 😩 #fyp #bts #btsarmy #btsconcert2021 #taehyung #ptdonstage #btsv",
          "You asked for more…here we goooooo #yovip #letskickit #oldschool #StepandFlex #relationshipgoals #myman #FritoLayRickRoll #letsgobrandon #werenewhere",
          "sun explosion 💥 #sun",
          "ABOWWW #skitok #ski #skier #girlswhoshred #skiergirl #girlswhoski #wintersports #winteraesthetic #freeski #abow #aboww",
          "الاغنيه ادمان❤️‍🔥 مش عم تتطلع من راسي😪😂#أم_غمازة🙊🖤 #الدرعاوية👑 #جيش_وي_وي #اناقه #اظافر #مناكير #اغاني #tiktok #ترندات",
          "#letrip💨💨💨 #PawlidayPics #gasalot #justgas #fartsalot #itsjustair #fartsalot #laughter #imme #sowhat #itsfunny",
          "U make me giggle ☺️ #hifriend",
          "Dc: @Matt",
          "Corgi races are the best! #corgiracing #corgiraces #corgis #fyp",
          "I just wanted to go fishing",
          "She still alive #malinois #crazyforfetch",
          "Reply to @serynaurfuturewifee incase you missed this one🔠🎉 #foryou #thetiktokdrummer",
          "Please make it stop #ftm #firsttimemom #softspot #baby",
          "This is insane 🔥 #edmmusic #electronicmusic #edmvibes",
          "d joke. need ko money now HAHAHAHAHAHA #mobilecinematography #tiktok #ph #rawr #boi #fypシ #trend #like",
          "WHY YALL DO THIS ? 😭😂 (Follow us on Instagram) link in bio ! #fyp #foryou #xyzbca #couples this is a skit !",
          "#fishtower #goldfish #fishtok #peaceful #pond #pondtok #filetofish",
          "I got this…No problem!!!#SephoraLipLooks #TeamUSATryout #PepsiApplePieChallenge #cat #catsoftiktok #catlovers #gingercat #ginger #houdini #Houdini #cute #fyp #foryou #foryoupage #fypシ #DuetDoWet #funnyvideo",
          "tried the most softest look kSKSKSKS",
          "#sinkseptic #plumbersoftiktok #septiclife",
          "#drinklocal #drinkinggame #drinkchallenge #shots #drinktime #LoveIsLove #comedychallenge",
          "Soo #satisfyingvideo from @Decompression at night #hudabeauty #foryou #xyzbca #skincare #beauty"
         ],
         "legendgroup": "",
         "marker": {
          "color": [
           -0.5859,
           0.4404,
           0,
           0.3892,
           0,
           0,
           0.1779,
           0.128,
           0.4019,
           0.8481,
           -0.8934,
           -0.1725,
           0.9086,
           0.7579,
           -0.4019,
           0,
           0.7003,
           0.4215,
           0.4404,
           0.3612,
           -0.2648,
           0.4404,
           -0.2023,
           0,
           0,
           0,
           0,
           -0.891,
           0.8074,
           0,
           0,
           0,
           0.8777,
           0.4939,
           0,
           -0.682,
           0.4438,
           0,
           -0.4927,
           0.6369,
           0.4404,
           0,
           0.7775,
           0,
           0,
           0,
           -0.4767,
           0.8074,
           -0.4767,
           0.4939,
           0.6705,
           0,
           0,
           0,
           0.0772,
           -0.6367,
           0,
           0,
           0,
           0.9022,
           -0.0516,
           0.7906,
           0.9096,
           0.5707,
           0.1739,
           0.3612,
           0.91,
           -0.5719,
           0.4588,
           0,
           0.68,
           0.2716,
           0.5106,
           0.7777,
           0,
           0.6369,
           0,
           0,
           0,
           -0.6486,
           0.3182,
           0.2023,
           0,
           0.4939,
           0,
           -0.3182,
           0,
           0,
           0,
           0,
           -0.5472,
           0,
           0.6597,
           0.4404,
           0,
           0,
           0,
           0.4215,
           0,
           0.5106,
           -0.8442,
           -0.2942,
           0,
           0.3802,
           0.6808,
           0,
           -0.8203,
           -0.34,
           -0.296,
           0.7579,
           -0.25,
           0.4404,
           0,
           0.4404,
           0,
           0,
           0,
           0.4767,
           0.9694,
           0.5106,
           0.6331,
           0.3612,
           0.7506,
           0,
           0,
           0,
           0,
           0.4404,
           0.3612,
           0,
           -0.2263,
           0,
           0,
           0.9153,
           0.8098,
           0,
           0.4767,
           -0.2023,
           0.9432,
           0.4404,
           0.4588,
           0,
           0.4404,
           0.0258,
           -0.1531,
           0.9565,
           0,
           0,
           0.8625,
           0.3612,
           0.9858,
           -0.6486,
           0,
           0,
           0.4062,
           0.6563,
           0,
           -0.6917,
           0,
           -0.2263,
           0,
           0.8977,
           0,
           0.8689,
           0.8748,
           0,
           0,
           0,
           0.2263,
           0.9735,
           0.8519,
           0.9118,
           0,
           0,
           0.296,
           0.8519,
           0,
           0.4404,
           0.9274,
           0.7184,
           0.8553,
           0,
           0,
           0.0258,
           0.3182,
           0,
           0.6597,
           0.8689,
           0,
           -0.7351,
           0,
           0,
           -0.3818,
           0,
           0,
           0.5267,
           0,
           0,
           0.2617,
           0.9517,
           0,
           -0.4767,
           0.7845,
           0,
           0,
           0,
           0,
           0,
           0,
           0.3979,
           0.8481,
           -0.296,
           0.9146,
           0.3182,
           0.9118,
           0,
           0.7717,
           0.7096,
           -0.296,
           0.8126,
           0,
           0.9761,
           0,
           0.2617,
           0.6705,
           -0.3595,
           0,
           0.8516,
           0.6908,
           0,
           0.6486,
           0.3612,
           0.8979,
           0.8271,
           0,
           0.4404,
           0.5204,
           0.4215,
           0.1877,
           0,
           0,
           0.4404,
           -0.5719,
           -0.0258,
           0,
           0.9538,
           -0.4767,
           0,
           0,
           0,
           0.7717,
           0.4404,
           0.5106,
           0.3919,
           -0.5106,
           0,
           0.4019,
           0.4019,
           0.2617,
           0.7269,
           0,
           0,
           0.4404,
           0.4215,
           0,
           0,
           0.6249,
           0,
           0,
           0,
           -0.2732,
           0,
           0.8074,
           0.498,
           0.3612,
           0.7964,
           0.7096,
           -0.4003,
           -0.69,
           0.2732,
           0,
           0,
           -0.25,
           0,
           0.5228,
           0.6369,
           0.2584,
           0,
           0.4404,
           0.8271,
           0.3094,
           0.6369,
           0.6486,
           0.7506,
           0.91,
           0.4215,
           0.9383,
           0.946,
           0.0772,
           0.7506,
           0.7964,
           0,
           0.4926,
           0,
           -0.1531,
           0,
           0,
           0,
           0.9337,
           0,
           0,
           0,
           0.9337,
           0.7574,
           0.4588,
           0.2023,
           0,
           0,
           0,
           0.5974,
           0.4404,
           0,
           0.6369,
           0,
           0.4588,
           0.9287,
           -0.128,
           0.6808,
           0.5574,
           0.4588,
           0.3612,
           0.4404,
           0,
           -0.0516,
           0.3182,
           -0.1531,
           0.91,
           0,
           0.854,
           0.8764,
           0.6369,
           0.5574,
           0.891,
           -0.4404,
           0,
           0.9042,
           0.7245,
           0,
           0.7783,
           0,
           0,
           0,
           0,
           -0.1531,
           0.8074,
           0.4588,
           0.9601,
           0,
           0,
           0.946,
           0,
           0,
           0.4939,
           -0.2577,
           0,
           0.34,
           0,
           -0.0173,
           0.5106,
           -0.3612,
           0.6705,
           0.2263,
           0.7479,
           0.9442,
           0,
           0.6696,
           0,
           0.0516,
           0.128,
           0.0258,
           -0.6249,
           0.3818,
           -0.1984,
           0.4939,
           0.8306,
           -0.2732,
           0,
           0.91,
           0.891
          ],
          "coloraxis": "coloraxis",
          "size": [
           22000,
           6500000,
           537800,
           19200,
           6300000,
           567100,
           104100,
           271500,
           39800,
           1600000,
           552500,
           1000000,
           337400,
           24600,
           2200000,
           23100,
           25700,
           5300000,
           191800,
           2025,
           678800,
           1100000,
           3800000,
           3100000,
           1800000,
           1900000,
           1300000,
           660900,
           4200000,
           1600000,
           1900000,
           371800,
           3300000,
           267800,
           428600,
           36600,
           9800000,
           55700,
           235500,
           892300,
           700000,
           1300000,
           840700,
           2900000,
           291000,
           740400,
           82200,
           116700,
           54700,
           3300000,
           641300,
           342700,
           3486,
           3000000,
           127000,
           95900,
           218300,
           189200,
           8400000,
           3000000,
           945000,
           4400000,
           18600,
           4500000,
           142800,
           3400000,
           2100000,
           1400000,
           7600000,
           465300,
           2200000,
           5500000,
           1200000,
           2700000,
           53400,
           2400000,
           4000000,
           1100000,
           1700000,
           946200,
           5600000,
           7900000,
           1300000,
           197600,
           9200000,
           1100000,
           179800,
           666400,
           460100,
           1500000,
           109000,
           1100000,
           242500,
           449900,
           3800000,
           566000,
           98500,
           608700,
           2000000,
           929200,
           665900,
           2100000,
           386700,
           3200000,
           561200,
           140500,
           15100000,
           303400,
           1600000,
           615000,
           4800000,
           2400000,
           1500000,
           268400,
           1500000,
           2400000,
           1200000,
           2500000,
           143200,
           2100000,
           1300000,
           1200000,
           205400,
           475300,
           4300000,
           636100,
           2700000,
           4700000,
           71700,
           3700000,
           7,
           1400000,
           14900000,
           268400,
           927000,
           3100000,
           3100000,
           892700,
           412100,
           3700000,
           1200000,
           1100000,
           3800000,
           209700,
           24500000,
           3400000,
           38900,
           489700,
           1200000,
           4500000,
           6400000,
           1500000,
           3300000,
           436900,
           916300,
           75600,
           1200000,
           8000000,
           284500,
           4100000,
           11700000,
           340400,
           6000000,
           1700000,
           276900,
           10800000,
           383600,
           2800000,
           640600,
           2100000,
           8600000,
           44500,
           10700000,
           198500,
           7800000,
           2500000,
           1400000,
           11600000,
           12000000,
           14300000,
           63100,
           1100000,
           422900,
           2600000,
           64800,
           126900,
           104300,
           596500,
           172900,
           65800,
           3800000,
           3700000,
           57700,
           5000000,
           4100000,
           331200,
           390700,
           618500,
           520700,
           3400000,
           467000,
           1000000,
           78700,
           680200,
           3600000,
           4400000,
           1700000,
           6300000,
           3000000,
           952800,
           47800,
           383800,
           355700,
           663500,
           2900000,
           305100,
           2600000,
           1100000,
           1500000,
           2000000,
           1200000,
           752500,
           2800000,
           932300,
           1700000,
           113700,
           2600000,
           327600,
           9200000,
           299000,
           285600,
           70400,
           1800000,
           1100000,
           457200,
           292300,
           405000,
           1500000,
           3400000,
           2300000,
           71600,
           1600000,
           409900,
           5900000,
           7325,
           787500,
           1400000,
           833300,
           4300000,
           3600000,
           796000,
           111300,
           773600,
           1600000,
           2700000,
           58200,
           1400000,
           5500000,
           253200,
           2500000,
           545200,
           2600000,
           6500000,
           451300,
           29700000,
           2100000,
           1900000,
           612100,
           1400000,
           112000,
           1600000,
           15900000,
           566300,
           12200000,
           217800,
           565000,
           1900000,
           372500,
           1900000,
           389200,
           301500,
           3000000,
           480200,
           45300,
           41100,
           336700,
           13400,
           5300000,
           1800000,
           14700,
           564200,
           19100,
           217700,
           2000000,
           1200000,
           14100000,
           2700000,
           3643,
           2100000,
           834000,
           2600000,
           3200000,
           723400,
           2600000,
           2700000,
           6600000,
           1500000,
           2600000,
           5700000,
           7900000,
           1700000,
           2800000,
           415900,
           4900000,
           211800,
           337400,
           4100000,
           13500000,
           8400000,
           421600,
           1900000,
           542900,
           653800,
           117200,
           468100,
           641100,
           1300000,
           513800,
           183700,
           5200000,
           2000000,
           1400000,
           6900000,
           1300000,
           4800000,
           5700000,
           1800000,
           242600,
           25200,
           1100000,
           4000000,
           597100,
           1300000,
           1400000,
           1300000,
           15200000,
           3300000,
           1200000,
           3700000,
           1700000,
           1300000,
           1900000,
           1900000,
           1300000,
           2100000,
           97700,
           1800000,
           353800,
           1400000,
           745700,
           715200,
           297100,
           79600,
           2000000,
           1700000,
           317500,
           191500,
           11400000,
           2500000,
           2800000,
           1100000,
           297900,
           16600,
           286200,
           4900000,
           2600000,
           143300,
           177000,
           1400000,
           1600000,
           54500,
           862200,
           256400,
           709700,
           947900,
           201400,
           3400000,
           533500,
           47900
          ],
          "sizemin": 3,
          "sizemode": "area",
          "sizeref": 297000,
          "symbol": "circle"
         },
         "mode": "markers",
         "name": "",
         "orientation": "v",
         "showlegend": false,
         "type": "scatter",
         "x": [
          0.122,
          0.42,
          0,
          0.272,
          0,
          0,
          0.134,
          0.15,
          0.144,
          0.535,
          0.13,
          0,
          0.257,
          0.262,
          0,
          0,
          0.339,
          0.359,
          0.124,
          0.185,
          0.111,
          0.167,
          0.132,
          0,
          0,
          0,
          0,
          0.103,
          0.415,
          0,
          0,
          0,
          0.347,
          0.138,
          0,
          0.158,
          0.333,
          0,
          0,
          0.677,
          0.182,
          0,
          0.361,
          0,
          0,
          0,
          0.106,
          0.258,
          0,
          0.182,
          0.289,
          0,
          0,
          0,
          0.178,
          0.111,
          0,
          0,
          0,
          0.461,
          0.138,
          0.206,
          0.379,
          0.27,
          0.141,
          0.238,
          0.53,
          0,
          0.375,
          0,
          0.399,
          0.23,
          0.268,
          0.531,
          0,
          0.208,
          0,
          0,
          0,
          0,
          0.365,
          0.155,
          0,
          0.444,
          0,
          0,
          0,
          0,
          0,
          0,
          0,
          0,
          0.478,
          0.237,
          0,
          0,
          0,
          0.737,
          0,
          0.32,
          0,
          0,
          0,
          0.23,
          0.29,
          0,
          0.072,
          0,
          0,
          0.371,
          0,
          0.18,
          0,
          0.124,
          0,
          0,
          0,
          0.129,
          0.621,
          0.623,
          0.294,
          0.241,
          0.435,
          0,
          0,
          0,
          0,
          0.228,
          0.152,
          0,
          0,
          0,
          0,
          0.496,
          0.342,
          0,
          0.383,
          0.097,
          0.525,
          0.325,
          0.273,
          0,
          0.182,
          0.094,
          0.068,
          0.824,
          0,
          0,
          0.202,
          0.111,
          0.382,
          0,
          0,
          0,
          0.312,
          0.214,
          0,
          0.069,
          0,
          0.143,
          0,
          0.391,
          0,
          0.344,
          0.305,
          0,
          0,
          0,
          0.289,
          0.495,
          0.263,
          0.603,
          0,
          0,
          1,
          0.279,
          0,
          0.146,
          0.375,
          0.462,
          0.37,
          0,
          0,
          0.224,
          0.183,
          0,
          0.329,
          0.662,
          0,
          0,
          0,
          0,
          0,
          0,
          0,
          0.333,
          0,
          0,
          0.146,
          0.46,
          0,
          0,
          0.307,
          0,
          0.169,
          0,
          0,
          0,
          0,
          0.388,
          0.264,
          0,
          0.281,
          0.177,
          0.492,
          0,
          0.489,
          0.534,
          0.218,
          0.403,
          0,
          0.67,
          0,
          0.157,
          0.169,
          0,
          0,
          0.608,
          0.249,
          0,
          0.402,
          0.263,
          0.312,
          0.592,
          0,
          0.592,
          0.272,
          0.149,
          0.303,
          0,
          0,
          0.315,
          0,
          0.09,
          0,
          0.638,
          0,
          0,
          0,
          0,
          0.185,
          0.277,
          0.104,
          0.084,
          0,
          0,
          0.231,
          0.351,
          0.291,
          0.251,
          0,
          0,
          0.228,
          0.286,
          0,
          0,
          0.177,
          0,
          0,
          0,
          0,
          0,
          0.593,
          0.358,
          0.217,
          0.335,
          0.596,
          0.127,
          0.065,
          0.303,
          0,
          0,
          0,
          0,
          0.458,
          0.344,
          0.146,
          0,
          0.16,
          0.271,
          0.193,
          0.321,
          0.381,
          0.516,
          0.46,
          0.451,
          0.493,
          0.522,
          0.394,
          0.435,
          0.295,
          0,
          0.21,
          0,
          0,
          0,
          0,
          0,
          0.61,
          0,
          0,
          0,
          0.61,
          0.619,
          0.167,
          0.262,
          0,
          0,
          0,
          0.564,
          0.215,
          0,
          0.512,
          0,
          1,
          0.555,
          0.13,
          0.384,
          0.284,
          0.75,
          0.2,
          0.116,
          0,
          0.102,
          0.434,
          0,
          0.333,
          0,
          0.342,
          0.243,
          0.296,
          0.271,
          0.321,
          0,
          0,
          0.528,
          0.439,
          0,
          0.313,
          0,
          0,
          0,
          0,
          0,
          0.177,
          0.176,
          0.567,
          0,
          0,
          0.376,
          0,
          0,
          0.241,
          0,
          0,
          0.211,
          0,
          0.155,
          0.099,
          0,
          0.2,
          0.115,
          0.17,
          0.573,
          0,
          0.31,
          0,
          0.163,
          0.123,
          0.17,
          0,
          0.194,
          0.102,
          0.11,
          0.229,
          0.089,
          0,
          0.6,
          0.469
         ],
         "xaxis": "x",
         "y": [
          0.301,
          0,
          0,
          0.155,
          0,
          0,
          0,
          0.124,
          0,
          0,
          0.529,
          0.219,
          0,
          0.112,
          0.474,
          0,
          0.17,
          0,
          0.062,
          0,
          0.163,
          0.084,
          0.178,
          0,
          0,
          0,
          0,
          0.419,
          0.113,
          0,
          0,
          0,
          0,
          0,
          0,
          0.327,
          0.276,
          0,
          0.132,
          0,
          0,
          0,
          0,
          0,
          0,
          0,
          0.185,
          0,
          0.256,
          0.1,
          0,
          0,
          0,
          0,
          0,
          0.194,
          0,
          0,
          0,
          0,
          0.148,
          0.08,
          0.114,
          0,
          0.115,
          0,
          0.075,
          0.381,
          0,
          0,
          0.142,
          0,
          0,
          0,
          0,
          0,
          0,
          0,
          0,
          0.381,
          0,
          0.087,
          0,
          0,
          0,
          0.078,
          0,
          0,
          0,
          0,
          0.475,
          0,
          0,
          0.096,
          0,
          0,
          0,
          0,
          0,
          0,
          0.259,
          0.087,
          0,
          0.125,
          0.085,
          0,
          0.433,
          0.194,
          0.167,
          0,
          0.118,
          0.109,
          0,
          0.062,
          0,
          0,
          0,
          0.047,
          0,
          0,
          0,
          0.252,
          0.115,
          0,
          0,
          0,
          0,
          0.114,
          0,
          0,
          0.101,
          0,
          0,
          0,
          0,
          0,
          0,
          0.128,
          0.146,
          0.162,
          0,
          0,
          0,
          0.09,
          0.099,
          0,
          0,
          0,
          0,
          0,
          0.124,
          0.31,
          0,
          0,
          0,
          0.093,
          0,
          0.24,
          0,
          0.141,
          0,
          0.153,
          0,
          0.113,
          0,
          0,
          0,
          0,
          0.196,
          0,
          0,
          0.085,
          0,
          0,
          0,
          0,
          0,
          0,
          0,
          0,
          0,
          0,
          0,
          0.217,
          0.105,
          0,
          0,
          0,
          0,
          0.279,
          0,
          0,
          0.14,
          0,
          0,
          0.25,
          0,
          0,
          0,
          0.115,
          0,
          0.154,
          0.08,
          0,
          0.169,
          0,
          0,
          0,
          0,
          0.208,
          0.045,
          0.136,
          0.042,
          0.105,
          0,
          0,
          0,
          0.16,
          0.253,
          0.134,
          0,
          0,
          0,
          0,
          0,
          0.293,
          0,
          0,
          0.072,
          0,
          0.224,
          0,
          0,
          0,
          0,
          0,
          0,
          0,
          0,
          0,
          0,
          0.209,
          0.291,
          0.095,
          0,
          0.063,
          0.147,
          0,
          0,
          0,
          0.044,
          0.139,
          0,
          0,
          0.074,
          0,
          0,
          0,
          0,
          0.068,
          0,
          0,
          0.114,
          0,
          0,
          0,
          0,
          0,
          0,
          0,
          0.208,
          0,
          0,
          0.225,
          0,
          0.079,
          0,
          0.167,
          0.202,
          0.192,
          0,
          0,
          0.182,
          0,
          0,
          0,
          0.079,
          0,
          0.08,
          0.135,
          0.113,
          0,
          0,
          0,
          0.122,
          0.221,
          0.057,
          0,
          0.291,
          0.115,
          0,
          0,
          0,
          0,
          0.11,
          0,
          0,
          0,
          0,
          0,
          0,
          0,
          0,
          0,
          0,
          0.178,
          0,
          0,
          0,
          0,
          0.107,
          0,
          0,
          0,
          0,
          0,
          0.152,
          0,
          0.108,
          0,
          0,
          0,
          0,
          0.117,
          0,
          0.118,
          0,
          0,
          0,
          0.028,
          0,
          0.086,
          0.068,
          0.127,
          0,
          0,
          0.117,
          0,
          0.087,
          0,
          0,
          0,
          0,
          0.186,
          0,
          0,
          0,
          0,
          0,
          0,
          0,
          0,
          0.083,
          0.253,
          0,
          0,
          0,
          0.16,
          0,
          0.455,
          0,
          0.118,
          0,
          0,
          0,
          0,
          0,
          0.15,
          0.1,
          0.163,
          0.389,
          0.096,
          0.149,
          0,
          0.054,
          0.13,
          0,
          0,
          0
         ],
         "yaxis": "y"
        }
       ],
       "layout": {
        "coloraxis": {
         "cmax": 1.1,
         "cmin": -1.1,
         "colorbar": {
          "title": {
           "text": "Compound Sentiment"
          }
         },
         "colorscale": [
          [
           0,
           "rgb(255,0,80)"
          ],
          [
           0.5,
           "rgb(255,255,255)"
          ],
          [
           1,
           "rgb(0,242,234)"
          ]
         ]
        },
        "height": 600,
        "legend": {
         "itemsizing": "constant",
         "tracegroupgap": 0
        },
        "margin": {
         "t": 60
        },
        "template": {
         "data": {
          "bar": [
           {
            "error_x": {
             "color": "#f2f5fa"
            },
            "error_y": {
             "color": "#f2f5fa"
            },
            "marker": {
             "line": {
              "color": "rgb(17,17,17)",
              "width": 0.5
             },
             "pattern": {
              "fillmode": "overlay",
              "size": 10,
              "solidity": 0.2
             }
            },
            "type": "bar"
           }
          ],
          "barpolar": [
           {
            "marker": {
             "line": {
              "color": "rgb(17,17,17)",
              "width": 0.5
             },
             "pattern": {
              "fillmode": "overlay",
              "size": 10,
              "solidity": 0.2
             }
            },
            "type": "barpolar"
           }
          ],
          "carpet": [
           {
            "aaxis": {
             "endlinecolor": "#A2B1C6",
             "gridcolor": "#506784",
             "linecolor": "#506784",
             "minorgridcolor": "#506784",
             "startlinecolor": "#A2B1C6"
            },
            "baxis": {
             "endlinecolor": "#A2B1C6",
             "gridcolor": "#506784",
             "linecolor": "#506784",
             "minorgridcolor": "#506784",
             "startlinecolor": "#A2B1C6"
            },
            "type": "carpet"
           }
          ],
          "choropleth": [
           {
            "colorbar": {
             "outlinewidth": 0,
             "ticks": ""
            },
            "type": "choropleth"
           }
          ],
          "contour": [
           {
            "colorbar": {
             "outlinewidth": 0,
             "ticks": ""
            },
            "colorscale": [
             [
              0,
              "#0d0887"
             ],
             [
              0.1111111111111111,
              "#46039f"
             ],
             [
              0.2222222222222222,
              "#7201a8"
             ],
             [
              0.3333333333333333,
              "#9c179e"
             ],
             [
              0.4444444444444444,
              "#bd3786"
             ],
             [
              0.5555555555555556,
              "#d8576b"
             ],
             [
              0.6666666666666666,
              "#ed7953"
             ],
             [
              0.7777777777777778,
              "#fb9f3a"
             ],
             [
              0.8888888888888888,
              "#fdca26"
             ],
             [
              1,
              "#f0f921"
             ]
            ],
            "type": "contour"
           }
          ],
          "contourcarpet": [
           {
            "colorbar": {
             "outlinewidth": 0,
             "ticks": ""
            },
            "type": "contourcarpet"
           }
          ],
          "heatmap": [
           {
            "colorbar": {
             "outlinewidth": 0,
             "ticks": ""
            },
            "colorscale": [
             [
              0,
              "#0d0887"
             ],
             [
              0.1111111111111111,
              "#46039f"
             ],
             [
              0.2222222222222222,
              "#7201a8"
             ],
             [
              0.3333333333333333,
              "#9c179e"
             ],
             [
              0.4444444444444444,
              "#bd3786"
             ],
             [
              0.5555555555555556,
              "#d8576b"
             ],
             [
              0.6666666666666666,
              "#ed7953"
             ],
             [
              0.7777777777777778,
              "#fb9f3a"
             ],
             [
              0.8888888888888888,
              "#fdca26"
             ],
             [
              1,
              "#f0f921"
             ]
            ],
            "type": "heatmap"
           }
          ],
          "heatmapgl": [
           {
            "colorbar": {
             "outlinewidth": 0,
             "ticks": ""
            },
            "colorscale": [
             [
              0,
              "#0d0887"
             ],
             [
              0.1111111111111111,
              "#46039f"
             ],
             [
              0.2222222222222222,
              "#7201a8"
             ],
             [
              0.3333333333333333,
              "#9c179e"
             ],
             [
              0.4444444444444444,
              "#bd3786"
             ],
             [
              0.5555555555555556,
              "#d8576b"
             ],
             [
              0.6666666666666666,
              "#ed7953"
             ],
             [
              0.7777777777777778,
              "#fb9f3a"
             ],
             [
              0.8888888888888888,
              "#fdca26"
             ],
             [
              1,
              "#f0f921"
             ]
            ],
            "type": "heatmapgl"
           }
          ],
          "histogram": [
           {
            "marker": {
             "pattern": {
              "fillmode": "overlay",
              "size": 10,
              "solidity": 0.2
             }
            },
            "type": "histogram"
           }
          ],
          "histogram2d": [
           {
            "colorbar": {
             "outlinewidth": 0,
             "ticks": ""
            },
            "colorscale": [
             [
              0,
              "#0d0887"
             ],
             [
              0.1111111111111111,
              "#46039f"
             ],
             [
              0.2222222222222222,
              "#7201a8"
             ],
             [
              0.3333333333333333,
              "#9c179e"
             ],
             [
              0.4444444444444444,
              "#bd3786"
             ],
             [
              0.5555555555555556,
              "#d8576b"
             ],
             [
              0.6666666666666666,
              "#ed7953"
             ],
             [
              0.7777777777777778,
              "#fb9f3a"
             ],
             [
              0.8888888888888888,
              "#fdca26"
             ],
             [
              1,
              "#f0f921"
             ]
            ],
            "type": "histogram2d"
           }
          ],
          "histogram2dcontour": [
           {
            "colorbar": {
             "outlinewidth": 0,
             "ticks": ""
            },
            "colorscale": [
             [
              0,
              "#0d0887"
             ],
             [
              0.1111111111111111,
              "#46039f"
             ],
             [
              0.2222222222222222,
              "#7201a8"
             ],
             [
              0.3333333333333333,
              "#9c179e"
             ],
             [
              0.4444444444444444,
              "#bd3786"
             ],
             [
              0.5555555555555556,
              "#d8576b"
             ],
             [
              0.6666666666666666,
              "#ed7953"
             ],
             [
              0.7777777777777778,
              "#fb9f3a"
             ],
             [
              0.8888888888888888,
              "#fdca26"
             ],
             [
              1,
              "#f0f921"
             ]
            ],
            "type": "histogram2dcontour"
           }
          ],
          "mesh3d": [
           {
            "colorbar": {
             "outlinewidth": 0,
             "ticks": ""
            },
            "type": "mesh3d"
           }
          ],
          "parcoords": [
           {
            "line": {
             "colorbar": {
              "outlinewidth": 0,
              "ticks": ""
             }
            },
            "type": "parcoords"
           }
          ],
          "pie": [
           {
            "automargin": true,
            "type": "pie"
           }
          ],
          "scatter": [
           {
            "marker": {
             "line": {
              "color": "#283442"
             }
            },
            "type": "scatter"
           }
          ],
          "scatter3d": [
           {
            "line": {
             "colorbar": {
              "outlinewidth": 0,
              "ticks": ""
             }
            },
            "marker": {
             "colorbar": {
              "outlinewidth": 0,
              "ticks": ""
             }
            },
            "type": "scatter3d"
           }
          ],
          "scattercarpet": [
           {
            "marker": {
             "colorbar": {
              "outlinewidth": 0,
              "ticks": ""
             }
            },
            "type": "scattercarpet"
           }
          ],
          "scattergeo": [
           {
            "marker": {
             "colorbar": {
              "outlinewidth": 0,
              "ticks": ""
             }
            },
            "type": "scattergeo"
           }
          ],
          "scattergl": [
           {
            "marker": {
             "line": {
              "color": "#283442"
             }
            },
            "type": "scattergl"
           }
          ],
          "scattermapbox": [
           {
            "marker": {
             "colorbar": {
              "outlinewidth": 0,
              "ticks": ""
             }
            },
            "type": "scattermapbox"
           }
          ],
          "scatterpolar": [
           {
            "marker": {
             "colorbar": {
              "outlinewidth": 0,
              "ticks": ""
             }
            },
            "type": "scatterpolar"
           }
          ],
          "scatterpolargl": [
           {
            "marker": {
             "colorbar": {
              "outlinewidth": 0,
              "ticks": ""
             }
            },
            "type": "scatterpolargl"
           }
          ],
          "scatterternary": [
           {
            "marker": {
             "colorbar": {
              "outlinewidth": 0,
              "ticks": ""
             }
            },
            "type": "scatterternary"
           }
          ],
          "surface": [
           {
            "colorbar": {
             "outlinewidth": 0,
             "ticks": ""
            },
            "colorscale": [
             [
              0,
              "#0d0887"
             ],
             [
              0.1111111111111111,
              "#46039f"
             ],
             [
              0.2222222222222222,
              "#7201a8"
             ],
             [
              0.3333333333333333,
              "#9c179e"
             ],
             [
              0.4444444444444444,
              "#bd3786"
             ],
             [
              0.5555555555555556,
              "#d8576b"
             ],
             [
              0.6666666666666666,
              "#ed7953"
             ],
             [
              0.7777777777777778,
              "#fb9f3a"
             ],
             [
              0.8888888888888888,
              "#fdca26"
             ],
             [
              1,
              "#f0f921"
             ]
            ],
            "type": "surface"
           }
          ],
          "table": [
           {
            "cells": {
             "fill": {
              "color": "#506784"
             },
             "line": {
              "color": "rgb(17,17,17)"
             }
            },
            "header": {
             "fill": {
              "color": "#2a3f5f"
             },
             "line": {
              "color": "rgb(17,17,17)"
             }
            },
            "type": "table"
           }
          ]
         },
         "layout": {
          "annotationdefaults": {
           "arrowcolor": "#f2f5fa",
           "arrowhead": 0,
           "arrowwidth": 1
          },
          "autotypenumbers": "strict",
          "coloraxis": {
           "colorbar": {
            "outlinewidth": 0,
            "ticks": ""
           }
          },
          "colorscale": {
           "diverging": [
            [
             0,
             "#8e0152"
            ],
            [
             0.1,
             "#c51b7d"
            ],
            [
             0.2,
             "#de77ae"
            ],
            [
             0.3,
             "#f1b6da"
            ],
            [
             0.4,
             "#fde0ef"
            ],
            [
             0.5,
             "#f7f7f7"
            ],
            [
             0.6,
             "#e6f5d0"
            ],
            [
             0.7,
             "#b8e186"
            ],
            [
             0.8,
             "#7fbc41"
            ],
            [
             0.9,
             "#4d9221"
            ],
            [
             1,
             "#276419"
            ]
           ],
           "sequential": [
            [
             0,
             "#0d0887"
            ],
            [
             0.1111111111111111,
             "#46039f"
            ],
            [
             0.2222222222222222,
             "#7201a8"
            ],
            [
             0.3333333333333333,
             "#9c179e"
            ],
            [
             0.4444444444444444,
             "#bd3786"
            ],
            [
             0.5555555555555556,
             "#d8576b"
            ],
            [
             0.6666666666666666,
             "#ed7953"
            ],
            [
             0.7777777777777778,
             "#fb9f3a"
            ],
            [
             0.8888888888888888,
             "#fdca26"
            ],
            [
             1,
             "#f0f921"
            ]
           ],
           "sequentialminus": [
            [
             0,
             "#0d0887"
            ],
            [
             0.1111111111111111,
             "#46039f"
            ],
            [
             0.2222222222222222,
             "#7201a8"
            ],
            [
             0.3333333333333333,
             "#9c179e"
            ],
            [
             0.4444444444444444,
             "#bd3786"
            ],
            [
             0.5555555555555556,
             "#d8576b"
            ],
            [
             0.6666666666666666,
             "#ed7953"
            ],
            [
             0.7777777777777778,
             "#fb9f3a"
            ],
            [
             0.8888888888888888,
             "#fdca26"
            ],
            [
             1,
             "#f0f921"
            ]
           ]
          },
          "colorway": [
           "#636efa",
           "#EF553B",
           "#00cc96",
           "#ab63fa",
           "#FFA15A",
           "#19d3f3",
           "#FF6692",
           "#B6E880",
           "#FF97FF",
           "#FECB52"
          ],
          "font": {
           "color": "#f2f5fa"
          },
          "geo": {
           "bgcolor": "rgb(17,17,17)",
           "lakecolor": "rgb(17,17,17)",
           "landcolor": "rgb(17,17,17)",
           "showlakes": true,
           "showland": true,
           "subunitcolor": "#506784"
          },
          "hoverlabel": {
           "align": "left"
          },
          "hovermode": "closest",
          "mapbox": {
           "style": "dark"
          },
          "paper_bgcolor": "rgb(17,17,17)",
          "plot_bgcolor": "rgb(17,17,17)",
          "polar": {
           "angularaxis": {
            "gridcolor": "#506784",
            "linecolor": "#506784",
            "ticks": ""
           },
           "bgcolor": "rgb(17,17,17)",
           "radialaxis": {
            "gridcolor": "#506784",
            "linecolor": "#506784",
            "ticks": ""
           }
          },
          "scene": {
           "xaxis": {
            "backgroundcolor": "rgb(17,17,17)",
            "gridcolor": "#506784",
            "gridwidth": 2,
            "linecolor": "#506784",
            "showbackground": true,
            "ticks": "",
            "zerolinecolor": "#C8D4E3"
           },
           "yaxis": {
            "backgroundcolor": "rgb(17,17,17)",
            "gridcolor": "#506784",
            "gridwidth": 2,
            "linecolor": "#506784",
            "showbackground": true,
            "ticks": "",
            "zerolinecolor": "#C8D4E3"
           },
           "zaxis": {
            "backgroundcolor": "rgb(17,17,17)",
            "gridcolor": "#506784",
            "gridwidth": 2,
            "linecolor": "#506784",
            "showbackground": true,
            "ticks": "",
            "zerolinecolor": "#C8D4E3"
           }
          },
          "shapedefaults": {
           "line": {
            "color": "#f2f5fa"
           }
          },
          "sliderdefaults": {
           "bgcolor": "#C8D4E3",
           "bordercolor": "rgb(17,17,17)",
           "borderwidth": 1,
           "tickwidth": 0
          },
          "ternary": {
           "aaxis": {
            "gridcolor": "#506784",
            "linecolor": "#506784",
            "ticks": ""
           },
           "baxis": {
            "gridcolor": "#506784",
            "linecolor": "#506784",
            "ticks": ""
           },
           "bgcolor": "rgb(17,17,17)",
           "caxis": {
            "gridcolor": "#506784",
            "linecolor": "#506784",
            "ticks": ""
           }
          },
          "title": {
           "x": 0.05
          },
          "updatemenudefaults": {
           "bgcolor": "#506784",
           "borderwidth": 0
          },
          "xaxis": {
           "automargin": true,
           "gridcolor": "#283442",
           "linecolor": "#506784",
           "ticks": "",
           "title": {
            "standoff": 15
           },
           "zerolinecolor": "#283442",
           "zerolinewidth": 2
          },
          "yaxis": {
           "automargin": true,
           "gridcolor": "#283442",
           "linecolor": "#506784",
           "ticks": "",
           "title": {
            "standoff": 15
           },
           "zerolinecolor": "#283442",
           "zerolinewidth": 2
          }
         }
        },
        "width": 800,
        "xaxis": {
         "anchor": "y",
         "domain": [
          0,
          1
         ],
         "title": {
          "text": "Positive Sentiment"
         }
        },
        "yaxis": {
         "anchor": "x",
         "domain": [
          0,
          1
         ],
         "title": {
          "text": "Negative Sentiment"
         }
        }
       }
      },
      "text/html": [
       "<div>                            <div id=\"be50d173-d2f3-4d45-920b-487e78e6c8ee\" class=\"plotly-graph-div\" style=\"height:600px; width:800px;\"></div>            <script type=\"text/javascript\">                require([\"plotly\"], function(Plotly) {                    window.PLOTLYENV=window.PLOTLYENV || {};                                    if (document.getElementById(\"be50d173-d2f3-4d45-920b-487e78e6c8ee\")) {                    Plotly.newPlot(                        \"be50d173-d2f3-4d45-920b-487e78e6c8ee\",                        [{\"customdata\":[[0.577,-0.5859,22000,\"okay right\"],[0.58,0.4404,6500000,\"\"],[1.0,0.0,537800,\"\"],[0.573,0.3892,19200,\"\"],[1.0,0.0,6300000,\"\"],[1.0,0.0,567100,\"\"],[0.866,0.1779,104100,\"\"],[0.725,0.128,271500,\"good\"],[0.856,0.4019,39800,\"\"],[0.465,0.8481,1600000,\"\"],[0.341,-0.8934,552500,\"\"],[0.781,-0.1725,1000000,\"\"],[0.743,0.9086,337400,\"everyone get ready for February 5th because February 5th is National shower with a Friend Day\"],[0.627,0.7579,24600,\"Bonanza\"],[0.526,-0.4019,2200000,\"\"],[1.0,0.0,23100,\"get abujudeh\"],[0.491,0.7003,25700,\"\"],[0.641,0.4215,5300000,\"\"],[0.814,0.4404,191800,\"\"],[0.815,0.3612,2025,\"get abujudeh\"],[0.726,-0.2648,678800,\"promise you will always be there in the world\"],[0.749,0.4404,1100000,\"do you got games on your phone\"],[0.69,-0.2023,3800000,\"cell phone call\"],[1.0,0.0,3100000,\"\"],[1.0,0.0,1800000,\"\"],[1.0,0.0,1900000,\"Bubba Bubba Bubba\"],[1.0,0.0,1300000,\"\"],[0.478,-0.891,660900,\"\"],[0.473,0.8074,4200000,\"I want someone to love me I need\"],[1.0,0.0,1600000,\"\"],[1.0,0.0,1900000,\"are you going to\"],[1.0,0.0,371800,\"\"],[0.653,0.8777,3300000,\"\"],[0.862,0.4939,267800,\"\"],[1.0,0.0,428600,\"\"],[0.515,-0.682,36600,\"if you want to stop me you're going to have to f******\"],[0.39,0.4438,9800000,\"oh my God what is that what is that\"],[1.0,0.0,55700,\"\"],[0.868,-0.4927,235500,\"\"],[0.323,0.6369,892300,\"\"],[0.818,0.4404,700000,\"agonistic Graham\"],[1.0,0.0,1300000,\"figurehead\"],[0.639,0.7775,840700,\"\"],[1.0,0.0,2900000,\"what the hell's up with his door\"],[1.0,0.0,291000,\"\"],[1.0,0.0,740400,\"\"],[0.709,-0.4767,82200,\"\"],[0.742,0.8074,116700,\"\"],[0.744,-0.4767,54700,\"Atlanta one\"],[0.718,0.4939,3300000,\"as cracked and eggs I might as well just give it to my coat it might as well just go to good causes seriously there's no way get away from the eggs now\"],[0.711,0.6705,641300,\"yeah yeah well I'm the potato\"],[1.0,0.0,342700,\"\"],[1.0,0.0,3486,\"\"],[1.0,0.0,3000000,\"Giannis antetokounmpo\"],[0.822,0.0772,127000,\"\"],[0.694,-0.6367,95900,\"repeat after me I am a rage-filled cupcake and I'm not going to let anyone f*** with me today\"],[1.0,0.0,218300,\"I need to move\"],[1.0,0.0,189200,\"\"],[1.0,0.0,8400000,\"\"],[0.539,0.9022,3000000,\"is only one\"],[0.714,-0.0516,945000,\"\"],[0.714,0.7906,4400000,\"be math girl wanted to join the mile-high club and tell me being merciful Lord I am I placed\"],[0.508,0.9096,18600,\"any weeny teeny weeny shriveled little short dick man don't don't don't don't don't don't\"],[0.73,0.5707,4500000,\"I never been with a baddie\"],[0.744,0.1739,142800,\"\"],[0.762,0.3612,3400000,\"it's going to be like your father\"],[0.395,0.91,2100000,\"\"],[0.619,-0.5719,1400000,\"\"],[0.625,0.4588,7600000,\"\"],[1.0,0.0,465300,\"\"],[0.459,0.68,2200000,\"\"],[0.77,0.2716,5500000,\"f*** you my child is completely fine\"],[0.732,0.5106,1200000,\"\"],[0.469,0.7777,2700000,\"\"],[1.0,0.0,53400,\"tell me\"],[0.792,0.6369,2400000,\"you're done you're done\"],[1.0,0.0,4000000,\"\"],[1.0,0.0,1100000,\"\"],[1.0,0.0,1700000,\"\"],[0.619,-0.6486,946200,\"\"],[0.635,0.3182,5600000,\"\"],[0.758,0.2023,7900000,\"bark at your dog\"],[1.0,0.0,1300000,\"\"],[0.556,0.4939,197600,\"\"],[1.0,0.0,9200000,\"\"],[0.922,-0.3182,1100000,\"hi you show my boys lost the fidget\"],[1.0,0.0,179800,\"\"],[1.0,0.0,666400,\"\"],[1.0,0.0,460100,\"\"],[1.0,0.0,1500000,\"\"],[0.525,-0.5472,109000,\"\"],[1.0,0.0,1100000,\"Bonanza\"],[0.522,0.6597,242500,\"\"],[0.667,0.4404,449900,\"\"],[1.0,0.0,3800000,\"\"],[1.0,0.0,566000,\"talk about everybody then wonder why your stomach won't go down without a belly full of business\"],[1.0,0.0,98500,\"\"],[0.263,0.4215,608700,\"\"],[1.0,0.0,2000000,\"\"],[0.68,0.5106,929200,\"\"],[0.741,-0.8442,665900,\"\"],[0.913,-0.2942,2100000,\"\"],[1.0,0.0,386700,\"\"],[0.645,0.3802,3200000,\"\"],[0.625,0.6808,561200,\"\"],[1.0,0.0,140500,\"hold on\"],[0.496,-0.8203,15100000,\"\"],[0.806,-0.34,303400,\"\"],[0.833,-0.296,1600000,\"I was being talked everything that's it\"],[0.629,0.7579,615000,\"that was good\"],[0.882,-0.25,4800000,\"what the f*** what the f***\"],[0.712,0.4404,2400000,\"but I can't bring myself to swimwear\"],[1.0,0.0,1500000,\"so I can make it just call me so I can get it just before you call me so I can call me so I can get it\"],[0.814,0.4404,268400,\"\"],[1.0,0.0,1500000,\"\"],[1.0,0.0,2400000,\"you're done you're done\"],[1.0,0.0,1200000,\"Ramada\"],[0.824,0.4767,2500000,\"\"],[0.379,0.9694,143200,\"girlfriends and they best friends I love it when they French kiss I love it when they French kiss\"],[0.377,0.5106,2100000,\"\"],[0.706,0.6331,1300000,\"\"],[0.507,0.3612,1200000,\"\"],[0.45,0.7506,205400,\"what happened to you I lost my best friend I want you here\"],[1.0,0.0,475300,\"\"],[1.0,0.0,4300000,\"\"],[1.0,0.0,636100,\"\"],[1.0,0.0,2700000,\"\"],[0.659,0.4404,4700000,\"\"],[0.848,0.3612,71700,\"Bonanza\"],[1.0,0.0,3700000,\"\"],[0.899,-0.2263,7,\"forget my name\"],[1.0,0.0,1400000,\"to take a look\"],[1.0,0.0,14900000,\"Boonton Pizza\"],[0.504,0.9153,268400,\"oh yeah yeah one tonight\"],[0.658,0.8098,927000,\"\"],[1.0,0.0,3100000,\"\"],[0.617,0.4767,3100000,\"\"],[0.775,-0.2023,892700,\"ready to see this look on my face this will always mean it's time to shut up\"],[0.328,0.9432,412100,\"\"],[0.513,0.4404,3700000,\"\"],[0.727,0.4588,1200000,\"\"],[1.0,0.0,1100000,\"\"],[0.818,0.4404,3800000,\"\"],[0.815,0.0258,209700,\"\"],[0.833,-0.1531,24500000,\"bark at your dog\"],[0.176,0.9565,3400000,\"try\"],[1.0,0.0,38900,\"\"],[1.0,0.0,489700,\"palisades college to get more knowledge boys go\"],[0.798,0.8625,1200000,\"who was brand new F150\"],[0.889,0.3612,4500000,\"I really don't know a big deal though\"],[0.494,0.9858,6400000,\"\"],[0.69,-0.6486,1500000,\"I'm at an all-time low low low\"],[1.0,0.0,3300000,\"\"],[1.0,0.0,436900,\"\"],[0.688,0.4062,916300,\"\"],[0.693,0.6563,75600,\"why you got to be so cute don't you know I can't resist you\"],[1.0,0.0,1200000,\"\"],[0.69,-0.6917,8000000,\"first let me hop out the motherfuking Porsche owned that ass don't sit like a horse\"],[1.0,0.0,284500,\"Jeepers Creepers\"],[0.716,-0.2263,4100000,\"this is the cutest thing my brother has done done crying when I pick him up\"],[1.0,0.0,11700000,\"\"],[0.456,0.8977,340400,\"\"],[1.0,0.0,6000000,\"\"],[0.542,0.8689,1700000,\"don't make my boyfriend or child see this\"],[0.695,0.8748,276900,\"not much much much much much much much much much\"],[1.0,0.0,10800000,\"\"],[1.0,0.0,383600,\"Baja Burrito\"],[1.0,0.0,2800000,\"\"],[0.515,0.2263,640600,\"\"],[0.505,0.9735,2100000,\"\"],[0.737,0.8519,8600000,\"\"],[0.312,0.9118,44500,\"\"],[1.0,0.0,10700000,\"\"],[1.0,0.0,198500,\"ja ja ja\"],[0.0,0.296,7800000,\"\"],[0.721,0.8519,2500000,\"\"],[1.0,0.0,1400000,\"vegetable\"],[0.854,0.4404,11600000,\"\"],[0.625,0.9274,12000000,\"\"],[0.538,0.7184,14300000,\"\"],[0.63,0.8553,63100,\"wow\"],[1.0,0.0,1100000,\"what's up\"],[1.0,0.0,422900,\"Drake All My Life man\"],[0.559,0.0258,2600000,\"\"],[0.712,0.3182,64800,\"\"],[1.0,0.0,126900,\"\"],[0.671,0.6597,104300,\"\"],[0.338,0.8689,596500,\"\"],[1.0,0.0,172900,\"let me tell you why\"],[0.721,-0.7351,65800,\"\"],[1.0,0.0,3800000,\"\"],[1.0,0.0,3700000,\"lendup\"],[0.86,-0.3818,57700,\"come outside there's a f****** moose with Buffalo with some stitches fight with a f****** going on\"],[1.0,0.0,5000000,\"\"],[1.0,0.0,4100000,\"\"],[0.417,0.5267,331200,\"\"],[1.0,0.0,390700,\"\"],[1.0,0.0,618500,\"Minecraft\"],[0.854,0.2617,520700,\"I know we're just friends but\"],[0.425,0.9517,3400000,\"ucpath encino Pinocchio\"],[1.0,0.0,467000,\"Idaho\"],[0.846,-0.4767,1000000,\"how much is it at 12\"],[0.613,0.7845,78700,\"when the movie starts your boyfriend\"],[1.0,0.0,680200,\"\"],[0.662,0.0,3600000,\"\"],[1.0,0.0,4400000,\"don't don't don't don't don't don't don't don't don't don't don't don't\"],[1.0,0.0,1700000,\"\"],[1.0,0.0,6300000,\"\"],[1.0,0.0,3000000,\"\"],[0.403,0.3979,952800,\"\"],[0.69,0.8481,47800,\"bring us here now\"],[0.864,-0.296,383800,\"\"],[0.678,0.9146,355700,\"find a Best pest control by rats\"],[0.718,0.3182,663500,\"\"],[0.508,0.9118,2900000,\"\"],[1.0,0.0,305100,\"\"],[0.511,0.7717,2600000,\"thank you for the happiest year of my life\"],[0.305,0.7096,1100000,\"\"],[0.529,-0.296,1500000,\"\"],[0.462,0.8126,2000000,\"\"],[1.0,0.0,1200000,\"\"],[0.33,0.9761,752500,\"\"],[1.0,0.0,2800000,\"Bonanza\"],[0.843,0.2617,932300,\"I know we're just friends but\"],[0.831,0.6705,1700000,\"\"],[0.707,-0.3595,113700,\"income tax\"],[1.0,0.0,2600000,\"\"],[0.392,0.8516,327600,\"kisses\"],[0.679,0.6908,9200000,\"\"],[1.0,0.0,299000,\"\"],[0.373,0.6486,285600,\"\"],[0.737,0.3612,70400,\"\"],[0.688,0.8979,1800000,\"final brain cell\"],[0.408,0.8271,1100000,\"\"],[1.0,0.0,457200,\"\"],[0.408,0.4404,292300,\"\"],[0.728,0.5204,405000,\"\"],[0.851,0.4215,1500000,\"booba booba booba booba booba booba booba Papu Papu Papu\"],[0.697,0.1877,3400000,\"\"],[1.0,0.0,2300000,\"YouTube\"],[1.0,0.0,71600,\"\"],[0.476,0.4404,1600000,\"\"],[0.709,-0.5719,409900,\"\"],[0.814,-0.0258,5900000,\"actually it's alright because translated f*** you actually means I'll do it I don't know\"],[1.0,0.0,7325,\"\"],[0.299,0.9538,787500,\"\"],[0.853,-0.4767,1400000,\"\"],[1.0,0.0,833300,\"\"],[1.0,0.0,4300000,\"\"],[1.0,0.0,3600000,\"\"],[0.771,0.7717,796000,\"\"],[0.584,0.4404,111300,\"\"],[0.896,0.5106,773600,\"call me mullet Daddy what the f***\"],[0.916,0.3919,1600000,\"I always will till the end of time I will change my mind\"],[0.926,-0.5106,2700000,\"I always will till the end of time I will change my mind\"],[1.0,0.0,58200,\"\"],[0.769,0.4019,1400000,\"\"],[0.649,0.4019,5500000,\"\"],[0.709,0.2617,253200,\"I know we're just friends but\"],[0.681,0.7269,2500000,\"\"],[1.0,0.0,545200,\"\"],[1.0,0.0,2600000,\"download download up up\"],[0.659,0.4404,6500000,\"aww\"],[0.714,0.4215,451300,\"\"],[1.0,0.0,29700000,\"\"],[1.0,0.0,2100000,\"\"],[0.823,0.6249,1900000,\"systembuild you don't get to pick and choose different awesome bigger boobs if my acid product\"],[1.0,0.0,612100,\"\"],[1.0,0.0,1400000,\"\"],[1.0,0.0,112000,\"\"],[0.792,-0.2732,1600000,\"\"],[1.0,0.0,15900000,\"don't don't don't don't don't don't don't don't don't don't don't don't\"],[0.407,0.8074,566300,\"\"],[0.417,0.498,12200000,\"\"],[0.783,0.3612,217800,\"\"],[0.586,0.7964,565000,\"diabetes w7y I love sausages\"],[0.404,0.7096,1900000,\"\"],[0.706,-0.4003,372500,\"\"],[0.733,-0.69,1900000,\"\"],[0.505,0.2732,389200,\"\"],[1.0,0.0,301500,\"I never been with a baddie\"],[1.0,0.0,3000000,\"\"],[0.818,-0.25,480200,\"\"],[1.0,0.0,45300,\"\"],[0.542,0.5228,41100,\"\"],[0.656,0.6369,336700,\"\"],[0.775,0.2584,13400,\"send this to someone you don't want to lose\"],[1.0,0.0,5300000,\"\"],[0.759,0.4404,1800000,\"\"],[0.594,0.8271,14700,\"\"],[0.694,0.3094,564200,\"\"],[0.679,0.6369,19100,\"\"],[0.619,0.6486,217700,\"\"],[0.484,0.7506,2000000,\"\"],[0.418,0.91,1200000,\"\"],[0.328,0.4215,14100000,\"Bonanza\"],[0.45,0.9383,2700000,\"\"],[0.478,0.946,3643,\"\"],[0.315,0.0772,2100000,\"\"],[0.45,0.7506,834000,\"what happened to you I lost my best friend I want you here\"],[0.705,0.7964,2600000,\"boyfriend\"],[1.0,0.0,3200000,\"we have come to my attention that y'all think I have on my teeth\"],[0.79,0.4926,723400,\"\"],[1.0,0.0,2600000,\"\"],[0.89,-0.1531,2700000,\"I miss your dad so big\"],[1.0,0.0,6600000,\"\"],[1.0,0.0,1500000,\"\"],[1.0,0.0,2600000,\"\"],[0.39,0.9337,5700000,\"you are my best friend my only this make me happy\"],[1.0,0.0,7900000,\"\"],[1.0,0.0,1700000,\"\"],[1.0,0.0,2800000,\"\"],[0.39,0.9337,415900,\"you are my best friend my only this make me happy\"],[0.381,0.7574,4900000,\"beautiful\"],[0.833,0.4588,211800,\"booba booba booba booba booba booba booba Papu Papu Papu\"],[0.561,0.2023,337400,\"\"],[1.0,0.0,4100000,\"you used to call me on my cell phone\"],[1.0,0.0,13500000,\"Bonanza\"],[1.0,0.0,8400000,\"\"],[0.436,0.5974,421600,\"\"],[0.678,0.4404,1900000,\"\"],[1.0,0.0,542900,\"\"],[0.488,0.6369,653800,\"\"],[1.0,0.0,117200,\"\"],[0.0,0.4588,468100,\"\"],[0.445,0.9287,641100,\"\"],[0.717,-0.128,1300000,\"\"],[0.616,0.6808,513800,\"\"],[0.608,0.5574,183700,\"\"],[0.25,0.4588,5200000,\"\"],[0.8,0.3612,2000000,\"\"],[0.884,0.4404,1400000,\"why\"],[1.0,0.0,6900000,\"\"],[0.781,-0.0516,1300000,\"\"],[0.566,0.3182,4800000,\"\"],[0.882,-0.1531,5700000,\"El Pepe\"],[0.667,0.91,1800000,\"\"],[1.0,0.0,242600,\"\"],[0.658,0.854,25200,\"\"],[0.729,0.8764,1100000,\"I'm sorry don't leave me I need you here with me now don't say that\"],[0.704,0.6369,4000000,\"\"],[0.643,0.5574,597100,\"\"],[0.611,0.891,1300000,\"\"],[0.873,-0.4404,1400000,\"the Cabanas\"],[1.0,0.0,1300000,\"can I have one\"],[0.472,0.9042,15200000,\"\"],[0.445,0.7245,3300000,\"lightspeed\"],[1.0,0.0,1200000,\"email\"],[0.6,0.7783,3700000,\"McDonald's\"],[1.0,0.0,1700000,\"\"],[1.0,0.0,1300000,\"movies in the body everybody would update and I get a half a mil for my Pikachu\"],[1.0,0.0,1900000,\"\"],[1.0,0.0,1900000,\"Pikachu\"],[0.814,-0.1531,1300000,\"window falling down\"],[0.823,0.8074,2100000,\"lukebergs I will go in the forest and find a Lab dog at lick Doug's so much Landon art\"],[0.824,0.4588,97700,\"pokecito\"],[0.433,0.9601,1800000,\"3821 honey a strawberry\"],[1.0,0.0,353800,\"\"],[1.0,0.0,1400000,\"\"],[0.624,0.946,745700,\"wow\"],[1.0,0.0,715200,\"\"],[1.0,0.0,297100,\"\"],[0.677,0.4939,79600,\"Basin me for the week\"],[0.747,-0.2577,2000000,\"\"],[1.0,0.0,1700000,\"\"],[0.789,0.34,317500,\"\"],[1.0,0.0,191500,\"\"],[0.685,-0.0173,11400000,\"\"],[0.901,0.5106,2500000,\"\"],[0.545,-0.3612,2800000,\"\"],[0.8,0.6705,1100000,\"\"],[0.767,0.2263,297900,\"Robinson\"],[0.83,0.7479,16600,\"\"],[0.427,0.9442,286200,\"hi babe I love you have a good day\"],[1.0,0.0,4900000,\"Nigerian food\"],[0.69,0.6696,2600000,\"\"],[1.0,0.0,143300,\"\"],[0.688,0.0516,177000,\"somebody wants told me the world\"],[0.776,0.128,1400000,\"\"],[0.667,0.0258,1600000,\"\"],[0.611,-0.6249,54500,\"\"],[0.71,0.3818,862200,\"I don't need money man I don't need cash because anything I need and starting bad badass\"],[0.749,-0.1984,256400,\"\"],[0.89,0.4939,709700,\"my fish's 11th hour to get up and see what is happening outside their tank\"],[0.717,0.8306,947900,\"\"],[0.781,-0.2732,201400,\"I don't need money man I don't need cash because anything I need and starting bad badass\"],[1.0,0.0,3400000,\"\"],[0.4,0.91,533500,\"\"],[0.531,0.891,47900,\"\"]],\"hovertemplate\":\"<b>%{hovertext}</b><br><br>Positive Sentiment=%{x}<br>Negative Sentiment=%{y}<br>like=%{customdata[2]}<br>Neutral Sentiment=%{customdata[0]}<br>Compound Sentiment=%{marker.color}<br>sound_transcribed=%{customdata[3]}<extra></extra>\",\"hovertext\":[\"#trending #fyp #manga #anime #killua #animetiktok\",\"Reply to @whosaleece N <3\",\"Reply to @that_one_killer  Why does Adrian look cooler than me in this tho... @thaflex #trend #brother #edit #mirror #CloseYourRings #notviral\",\"Follow for more \\ud83d\\ude02\\u2764\\ufe0f\",\"How 2022 started\\u2026.\",\"#FNaF #Vanny\",\"February 9th game day . #winterolympics #olympicspirit #womeninsports\",\"First qualies of the Games \\ud83d\\udd25 #fyp #foryou #skitok #beijing2022 #DuetDoWet #winterolympics #moguls\",\"When you make it to your second Olympics and you are that much closer to achieving your dream \\u2764\\ufe0f #winterolympics #olympicspirit\",\"Frying Real Human Eggs \\ud83c\\udf73#funnyvideos #japan #comedy #viral #amazing\",\"#WINWIN \\ud83d\\ude2d\\ud83d\\ude2d\\ud83d\\ude2d\\ud83d\\ude2d\\ud83d\\ude2d\",\"She really went hard at the end\",\"FEBRUARY 5TH, GET READY! #february5th #nationalshowerwithafriendday #nationaldaynathanday #fyp #blowthisup #xyzbca #viral\",\"shake your body like a belly dancer\\ud83d\\udc9e\\ud83d\\udd25#taeedits #Korean #kpopedits #kpopfyp #foryoupage #btsarmyforever #ThinkBigOwnBigger #bighit_entertainment\",\"It\\u2019s all your fault\",\"GETS? #jernics #nicsqtam143 #nicsorense #fyp\\u30b7\\u309aviral #fyppppppppppppppppppppppp #fypdongggggggg #fyppppppppppppppppppppppp\",\"\\u0648\\u0644\\u0647 \\u0627\\u06cc\\u0646\\u0647 \\u0686\\u06cc \\u062d\\u0627\\u0644\\u06cc \\u0627\\u0633 \\ud83d\\ude02\\ud83d\\ude02\",\"15k likes and i\\u2019ll do it\",\"Little Harley gave us the biggest yawn from the tiniest little mouth \\ud83d\\ude02 #goldendoodles #fyp #ITriedItIPrimedIt #puppyyawn\",\"#uncledrewbelike #irving2 #PaintYourChristmas #kyrieirving11\",\"one more day \\ud83d\\ude2d #taehyung\",\"THE SMACKING JUST BE TEW MUCH\\ud83d\\ude02 #fyp #fueyruss\",\"I think my phone is broken\\u2728 @moncler #monclergenius\",\"#germanshepard\",\"request ni ano\",\"\",\"19.33 #fyp #foryoupage #anyageraldineee #keanuagl\",\"SADDEST DAY OF MY LIFE\\u2026.THIS IS REAL\\u2026PLEASE HELP \\ud83d\\ude2d\\ud83d\\ude2d\\ud83d\\ude2d @looseanchor @chris.tracy @Lovensky Pierval\",\"I wish you could hear their laughs \\ud83d\\ude2d\",\"I\\u2019m toxic\",\"#chiguagua #dog\",\"trend?#preset5mb #fyp #fyp\\u30b7\",\"Confident clothes need confident people!##fyp #foryou #followme #girls #follovers #clothes #\\ud83d\\udc4d\\ud83d\\udc4d\\ud83d\\udc4d\\ud83d\\udc4d\",\"4Y4NK M4N4 $1H? \\ud83d\\uddff\\ud83e\\udd2c\\ud83e\\udd75\\u270c\\ud83c\\udffb\\ud83e\\udd7a\\ud83d\\udcf8\",\"#kimtaehyung #btsarmy\",\"hell hath no fury like Ruth #ozark\",\"TAG A BAD BITCH!!\\ud83d\\ude02\\ud83d\\udc96 insp by: @\\ud835\\udcc8 #badb #selflove #winterbreak\",\"\\u3010ASMR\\u3011\\u3064\\u3044\\u306b\\u9f13\\u819c\\u307e\\u3067\\u6307\\u5148\\u304c\\u5c4a\\u3044\\u305f\\uff01\\u6fc3\\u539a\\u306a\\u8033\\u30aa\\u30a4\\u30eb\\u30de\\u30c3\\u30b5\\u30fc\\u30b8\\uff08\\u4e21\\u8033\\u540c\\u6642 / \\u65e5\\u672c\\u8a9e\\u5b57\\u5e55\\uff09 #asmr #asmrtiktoks #asmralice #asmrvideo #earcleaning #asmrmassage #\\u97f3\\u30d5\\u30a7\\u30c1\",\"what's the au that came to your mind & what's the most painful line from it? #jungwon #enhypenau #twtau #alternateuniverse #enhypen\",\"#puppy #puppylove\",\"MANY PPL ASKED. <3 GTG TO SCHOOL #fyp #foryou #tysm #A+K\",\"Go little Rockstar. #familyfarm #YerAWizard\",\"#enhypen all looks so good but their tallest tho | #ni_ki #sunghoon | 80k followers!!! Thank you!\",\"\",\"@brycehall comes and goes\",\"#animalesquecomenhierba #animalesgraciosos #ni\\u00f1a #mariuanos #fyp #parati\",\"Come & go #mil #motherinlaw #onlydaughterinlaw #married #motherinlawproblems #motherinlawlove #milnightmare #daughterinlawissues #motherinlawfromhell\",\"Sip, Bo le pertenece a Eleanor ahorita. \\ud83e\\udd70 #locurasdevero #humor #risa #broma #chiste #papa #familia #amor #Bo #hija @paulinarubioficial #paulinarubio\",\"say rip before you scroll #sad #rip #fyp\",\"\",\"I\\u2019m a \\ud83e\\udd54 #englishbulldog #fyp #englishbulldogpuppy #englishbulldogsoftiktok #tiktokbully\",\"Te pasa lo mismo??#yubranluna #riesiempre\",\"Reply to @me_r.o.p \\ud83e\\udd7a\",\"\",\"#hellishotchallenge #rip #cashapp13plus #MyBrawlSuper #fyp\\u30b7\",\"#dontletanyone #happyday #ragefilledcupcake #yourfriendsbelike #tickingtimebomb #raptorking #kingoftheraptors\",\"#presetsecret\\u304e\",\"katamu pacarmu cuma satu \\ud83d\\uddff#indrapreset\",\"Who did thisss\",\"Get one for memories\\ud83d\\ude0dlink in bio#light #heart #beautiful\",\"#yes #DIYwithBlock #DuetDoWet #28DaysOfEucerin #YerAWizard #RufflesOwnYourRidges #fyp #bigfoot #bigfootspotted\",\"she really tried to kick us off the plane.\\ud83d\\ude02\\ud83d\\ude02 @theskimaskgirl\",\"#funny #funny_video582 #amazing #haha #\\ud83d\\ude02 #foryou\",\"Reply to @remmusfive yay! #fyp\",\"Who taught them that style \\ud83d\\ude33\\ud83d\\ude2d ! CHINEKE ! Tag a friend and say nothing #foryoupage\",\"Papaccine Alfredo.\",\"#funny #foryou #funny_video582 #\\ud83d\\ude02 #haha #amazing #mouse #pet\",\"The end of times #apocalypse #meteor #horror\",\"#cat #catsoftiktok #cute\",\"The sound my lips make. #lips #asmr\",\"MERCH OUT NOW :) thank you to those who\\u2019ve been supporting! \\ud83d\\ude2d\",\"#pennywise\",\"The taste should be very unique.#toys #usa #funtoys\",\"Happy almost new year! #EveryKiss #YerAWizard\",\"The new elevator boys \\ud83d\\ude09\",\"I love hot fries #youredone #arab #tiktokarab #middleeastern #fyp\",\"Reply to @not.important.xo the end says it all\\ud83e\\udd72 #tufting #rugtok #fyp\",\"^_^\",\"NOOOOOOOOOOOOOO\",\"#greenscreenvideo killer.#cat #cats #fyy #fyp #foryou #fyfyfyfyfyfyfyfyfyfyfyfyfyfyfyfyfyfy\",\"#feels #ceilingfanceo \\ud83c\\udfdd\",\"lol he was def concerned #barkatyourdogchallenge #dogofticktok #confused #fyp\\u30b7 #doglover\",\"Duck army\",\"Guess what\\u2019s in my hand?\",\"Reply to @a82_a11.2020  first riceart vs. now #riceart\",\"away game tings\\ud83c\\udfc0, #touchingmywilly #broski #bustrip #basketballgame #fyp #dtaemovement #trend #viral #willy\",\"#liiusion you re right.\",\"Reply to @beasteater\",\"#huawei #ZTE #oppo #samsung\",\"dc: @Ben Calleja\",\"No one likes this kind of work,right?\",\"Fyp\",\"#makeup #MACChallengeAccepted #satisfying #skincare #fyp\\u30b7 #doctor\",\"I\\u2019m sorry babe \\ud83e\\udd75\\ud83e\\udd23 #fyp #tiktok #foru\",\"They Can\\u2019t Break You \\ud83e\\udd7a\",\"#lillezyv #fyp\\u30b7\",\"#samsung\",\"\\ud83d\\udc8b\",\"Srivalli\\u2764\\ufe0f #tiktok #trending #trendingsong #trendy #trend #dancevideo   \\u2764\\ufe0f\",\"are you free on february 14th? \\ud83d\\ude0f\",\"Here are the Do\\u2019s and Don\\u2019t\\u2019s of Neck Cracking \\ud83e\\udd75\\ud83d\\ude31 #neckpain #neckcrack #LearnOnTikTok #GetAdjustedNow #NYCchiro\",\"Flash flood in a subway station! \\ud83d\\ude35 \\ud83d\\udccdStudio Tour, Universal Studios Hollywood.  #flashflood ##subwayflood #universalstudios #universalstudioshollywood\",\"#hanfu\\u6c49\\u670d #Hanfu #fyp #hanfu\\u6c49\\u670d\",\"Poor boy! \\ud83d\\ude05\\ud83e\\udd7a #funny #viral #parentsoftiktok #toddler #fyp #foryoupage\",\"Funnier each time I watch it \\ud83d\\ude02 #turndownforwhat #dancingqueen\",\"#qoutes849\",\"he felt so bad \\ud83d\\ude2d #dogchallenge #fyp #dogreaction\",\"warrior princess - set info on my instagram \\u2764\\ufe0f\\u200d\\ud83d\\udd25\",\"no way this is real\",\"@txbooo filmed a behind the scenes of this video hahaha\",\"Icicle gonna make me act up \\ud83d\\ude30\",\"Now im singing it for him \\ud83d\\ude02\\ud83d\\ude02\",\"gusto ko lang naman mag tiktok @ranzkyle\",\"volvimos Pa\\ud83e\\udd75\\ud83e\\udd21\\ud83e\\udd21\\ud83d\\ude02#luislaboriel #fansdedilson #doninseguridades IG: Dilsonlimaoficial\\ud83c\\uddf8\\ud83c\\uddfb\\ud83e\\udd7a\\ud83d\\udd25\\ud83c\\uddf8\\ud83c\\uddfb\\ud83c\\uddf8\\ud83c\\uddfb\\ud83c\\uddf8\\ud83c\\uddfb\",\"#fyp #foryou #gaming #setupgaming #viral #fortnite #valorant #rocketleague #callofduty\",\"All the time @noordabashh\",\"LIMARIBOOO #fyp #foryou #foryoupage\",\"Reply to @braydon717  Feel free to leave questions or requests below #entdoctor #earcamera #earwaxremoval #medtok #medstudent #earwax\",\"\",\"This is fun\",\"Gatito !!! \\ud83d\\ude0d\\ud83e\\udd7a al fin !\",\"Don\\u2019t sit by me on the plane \\ud83d\\ude2d\\ud83d\\ude2d\\ud83d\\ude02\\ud83d\\ude02\\ud83d\\ude02 #fyp #foryoupage\",\"\",\"Butterfly\\ud83e\\udd8b\",\"#PoppyPlaytime #HuggyWuggy\",\"Baby baby baby #catsoftiktok\",\"The whole village is watching#fyp\",\"The show must go on \\ud83d\\ude02 #fyp\\u30b7 #la\",\"#jake with this fit will be the end of me | #enhypen\",\"Song name is pipeline funk#fyp #saxophone\\ud83c\\udfb7\",\"Most people are saying this wrong\\u2026 are you saying it in either of these ways?\",\"@sbymissflawless_ @sasbeautyofficial_\",\"Same girl, same. \\ud83c\\udf55 #firstbite #fyp #pizzababy\",\"#budweiserzero #downsyndromerocks\\ud83d\\udc9b\\ud83d\\udc99 #iowa #mickeymouse\",\"NOT GEORGE! \\ud83d\\ude2d #fyp #minecraft #foryou #taylorswift #GivingSzn #TheSplashDance #please #piggy #rexzilla\",\"Don\\u2019t let your girlfriend or kids see this\\ud83d\\ude33#fyp #demonslayer\",\"follow for more.(credit@armonie2002)#humour #tiktok #fyp #pourtoi #husky #monloulou\",\"\\ud83d\\ude20 #rapunzel#cosplay#disney\",\"Amazing!\\ud83d\\ude31#foryou #art #cool #beautyhacks #tipsforgirls #idea #beautiful #amazing #creative #foryoupage\",\"Beat the @jaguars \\ud83d\\ude02\",\"Who wants duoduo cute hat \\ud83d\\udc52\\ud83d\\udc31\",\"Why is it so quiet?\",\"A, B, C, D Cat #catsoftiktok #funny #viral #cats #trending #fyp\\u30b7\",\"Why do you have to cut it off?#fyp #foryou #following #foryoupage #hairs #hair #share #hairstyle #hotpot #haircut\",\"#barkatyourdogchallenge Yoshi wants all the smoke\\ud83d\\ude02\",\"yeah yeah \\ud83d\\udc97\\ud83d\\udc9a\\ud83d\\udc9b #triangle\",\"BRO?!!\",\"\",\"Brand new Air Fork ones \\ud83c\\udf74\\ud83d\\udc5f been waitin \\ud83e\\udd23\\ud83e\\udd23\\ud83e\\udd23 @Vietcious #nike #airforce #vietnam #duma #yeezy\",\"I just wanted to do an eyeliner tut \\ud83d\\ude03\",\"Be careful it\\u2019s getting slippery out \\ud83d\\ude02\\ud83d\\ude02\\ud83d\\ude02\\ud83d\\ude02\\ud83d\\ude02\\ud83d\\ude02\\ud83d\\ude02\\ud83e\\udd23\\ud83e\\udd23\\ud83e\\udd23\\ud83e\\udd23\\ud83e\\udd26\\ud83c\\udffe\\u200d\\u2642\\ufe0f #fyp #foryou #viral\",\"#ad Dragon king and Custom sea#ad #fyp#feliznavidad\",\"Letter j<3 #j #fyp\",\"#\\u4e00\\u9996\\u6b4c\\u4e00\\u4e2a\\u6545\\u4e8b#\\u4f60\\u80fd\\u4e0d\\u80fd\\u4e0d\\u8981\\u79bb\\u5f00\\u6211 #\\u84dd\\u5170 #\\u97f3\\u4e50\\u73b0\\u573a   #livemusic #foryou\",\"Hello,my little baby \\ud83d\\ude0e\",\"Why you gotta be so cute? \\ud83d\\ude2d\\ud83d\\udc30 #bunny #fyp #viral\",\"#fyp #viral #snake  what you think?\",\"yuhhhhh \\ud83d\\udd7a\\ud83c\\udffb\\u2728\\ud83d\\udd25 (dc : @mulehango)\",\"#_sofficial #anime\",\"He just want to hangout w me and all I do is bully him \\ud83d\\ude14 #foryou #fyp #baby #brother\",\"pov: peter parker is late to the trend #spiderman #edit #vfx\",\"Let's find the highlights!\\ud83d\\ude02\\ud83d\\ude02\\ud83d\\ude02#animals #monkey #funny #foryou\",\"Answer @cranky_crab\",\"The best gift for your boyfriend or child.\\ud83e\\udd73\\ud83e\\udd73#foryou #fyp #toygun #softbulletgun #armyfan\",\"So funny #riteshdesmukh #geneliadsouza #mastibollywood #AlaskaAirCAREoke #mkblogger #SoFiBreakUpChallenge #desifun\",\"Reply to @julia_pagliarulo\",\"\",\"cursed #thanksgiving day parade\",\"Lol. \\ud83d\\ude02#tiktok\\u1794\\u17d2\\u179a\\u17b9\\u1780\\u17d2\\u179f\\u17b6\\u1799\\u17c4\\u1794\\u179b\\u17cb\",\"#laugh #smail #funny #jackychan #funnyy #funnyvideo #\\ud83e\\udd23\\ud83e\\udd23\\ud83e\\udd23 #funnyvideos #fun #\\ud83e\\udd23\",\"#animal #cats #dogs #wee #animals #pets #funny #weee #fypage #dog #Wee #cat #pet #\\ud83e\\udd23\\ud83e\\udd23\\ud83e\\udd23\",\"#funny #\\ud83d\\ude02 #lol #funny_v7 #foryou #haha #amazing\",\"It\\u2019s been a while since I\\u2019ve woken Zion #zion #tiger #ITriedItIPrimedIt #fyp\",\"#oppo #huawei #samsung #vivo\",\"Ok\",\"#dog #dogs #cat #Wee #cats #weee #animals #funny #pets #animal #pet #wee #\\ud83e\\udd23\\ud83e\\udd23\\ud83e\\udd23\",\"\\ud83d\\udc36\\ud83d\\udca8 #corgiracing #corgirace #eatyourvegetables #fyp\",\"Reply to @why_.do_i._do_.this_ Dad is certified \\ud83e\\udddb\\u200d\\u2642\\ufe0f #vampire #tvd #trend #dad #MacysGiftTok #notviral\",\"Reply to @balsam.al  this took so long but here we go \\ud83d\\ude04 #dad #trend #edit #MyBrawlSuper #notviral\",\"the fact that my camera is working perfectly fine-\",\"What girl doesn\\u2019t like this!?\\ud83e\\udd2a #girlfriend #boyfriend #couples #viral #fyp #fyp\\u30b7 #girls #target #shopping #kiss\",\"Gotta get them neck scratches! #redangus #cattle #ranching #babycalf #farmanimals #westernphotography #ranchphotography\",\"#anime #juliusnovachrono #hisoka #bakugo #gojo #onisqd\",\"Ayooo\\ud83d\\ude2d. Tag a friend and say nothing\",\"Her exact perspective \\ud83d\\ude2d #waterfowlhunter #duckhunting #floodedtimber #drake #woodduck #like #fyp\\u30b7 #mississippi #duckcall #tiktokfunny\",\"#scenery\",\"Call me \\ud83e\\udd19\\ud83c\\udffb #KAIA_PH #KAIATok\",\"merry Christmas everyone lol #merrychristmas #animation #dance\",\"#bblreverse\",\"Bet he\\u2019ll go to sleep next time \\ud83d\\ude2d\\ud83d\\ude2d #mikeruga #babymomma\",\"How to take Pics when traveling #phonephotography #iphone13 #photopose #photoposes #howtopose #posepractice #lacma #losangeles #foryoupage #foryou #fy #losangeleslife\",\"#fyp\",\"\",\"#dog #pet #fyp\\u30b7 #cat #fyp\",\"Follow my instagram : akamztweenty\",\"\\ud83e\\udd23\\ud83e\\udd23\\ud83e\\udd23\\ud83d\\udd25\\ud83d\\udd25\\ud83d\\udd25\",\"My mom went to space \\ud83d\\udc80\",\"\",\"Give this to you my bestie#foryou\",\"Pinocchio challenge with the kiddo \\ud83d\\ude02\\ud83d\\ude02\\ud83d\\ude02 #pinocchio #challenge #kids #funnyvideos #funny #funnyvideo #parents\",\"oops \\ud83d\\ude0f\",\"#stitch with @sofia_shepherd  mine is broken \\ud83e\\udd26\\ud83c\\udffd\\u200d\\u2640\\ufe0f\",\"#CapCut Happy Valentine\\u2019s Day \\ud83d\\udc95#fyp #foryou #couples #valentinesday\",\"#chickennuggets #foodtiktok #homemadefood #heathyrecipes #foodyclub #RufflesOwnYourRidges\",\"#faceoff #therock #jojosbizarreadventure #fyp #foryou\",\"That\\u2019s what you do during snowing time\",\"#deepsea #benthos #Magical #squid\",\"Reply to @dietitian.em.b\",\"#anime #animeedit #animetiktok #fyp\",\"He was so excited to play\\ud83d\\ude2d\",\"For your #Superbowl #halftimeshow  By popular request: #thebelt \\ud83d\\ude02 #fyp #LaysGoldenDuet #AVrboForTogether #parents #kingsandqueens #couplecomedy #kids\",\"when she does to mexico in december\\u2705 #nosidewalks #mexico #fyp\",\"Calling out all Targets, Sams Clubs, and other Walmart\\ud83d\\ude08 Who want smoke with OGP??\\ud83d\\ude08\\ud83d\\ude08 #whowantsmokewithme\\ud83d\\udd25  #foryoupage #walmart  #fyb #ogp\",\"State of the art motorcycle\\ud83e\\udd23\\ud83d\\ude02#funny\",\"Hey, guys.Can you be better than him? Let's try.#cat #cute #funny #catlover #foryou #fyp\",\"You guys asked did I deliver? #sail #kale #ITriedItIPrimedIt\",\"\",\"\\ud83d\\udc08Are you envious? #fy #kitty #cat #love #kiss\",\"im dead HAHAH \\ud83d\\ude17\\ud83e\\udddf\\u200d\\u2642\\ufe0f\\ud83d\\ude17\\ud83e\\udddf\\u200d\\u2640\\ufe0f #allofusaredead #korean #netflix #\\uc9c0\\uae08\\uc6b0\\ub9ac\\ud559\\uad50\\ub294 #fyp\",\"sorry\\ud83d\\ude02#catsoftiktok #funnycat #funnycat #foryou\",\"Weeeeeewooooo!\",\"Do you love them #cat #catlover #catsoftiktok #cute #pet #petlover #funny #funnyvideo #animallover\",\"#satisfying #foryou #fyp \\ud83c\\udf35\\ud83c\\udf35\\ud83c\\udf35\\ud83c\\udf35\",\"All for you, bestie #foryou\",\"Dear,the store is new,all the seasonal trends,have it you can be as handsome as me come to my store to see it #clothersmens #mensfashiontips #cool\",\"Stop eating.it\\u2019s on my head!\",\"#fireworks\",\"Thank you so much for being my friend!\",\"We tried lol \\ud83d\\ude02 #fyp #viral #baby #mommydaughter #fyp\\u30b7 #trending #foryou #foryoupage\",\"@twistedpennywise \\ud83e\\udd21\\ud83d\\udc80 #avemoves #dance #trend dc @Ben Calleja\",\"#badday #funny #haha #viral #\\ud83d\\ude02 #fyp #foryou\",\"Why doesn\\u2019t anyone like it?#cat #kitty #pet\",\"and someone was trying to flash me her beans#cat #cat #cute #PetOfTiktok #somebody #catsoftiktok #love #petlover #pet #funny #petsoftiktok\",\"#fyp #funnyvideos #funnytiktok #cat #kitty #funny\",\"#drawing #painting #simplestrokes\",\"Form getting better\",\"who\\u2019s your favorite? 1,2,3,4? \\ud83c\\udf0e @nate_wyatt @itaintokbro @nickaufmann\",\"How many likes you see now? \\ud83e\\udd0d\",\"now im not shy \\ud83d\\udc80\",\"#michaeljackson #tiktok\",\"| #enhypen #jake\",\"People say this uniform strikes fear in their hearts. #Peacemaker #RingLightChallenge #JohnCena #FallonTonight\",\"follow for more \\u26a0\\ufe0f #fyp #xyzbca #viral #horror\",\"#memes #fyp #lowqualitymemes\",\"#hanisam #fyp\\u30b7 #newyork #hazzyyWazzyy\",\"#funny #\\ud83d\\ude02 #foryou #lol #amazing #funnyvideos #haha #pet #cat\",\"I never knew I needed this in my life until now \\ud83d\\ude2d\\ud83d\\udc13 #7LittleJohnstons #TLC\",\"#onlyinwalmart\\ud83e\\udd23\",\"Lipstick chateau \\uc640\\uc778\\ube5b color\\ud83d\\udcb0\\ud83d\\udc84\\ud83c\\udf77\\ud83c\\udf00\\ud83d\\udc3b#Lotto #\\uce74\\uc774 #KAI #\\uc5d1\\uc18c #EXO #weareoneEXO\",\"#lifehacks #foryou\",\"Principal Castar and Grace James did this in two try\\u2019s, and Landon had practiced all week and still messed up. \\ud83e\\udd23  Tune in Monday for a new ep. of @cwallamerican #PrincipalCarter #GraceJames #AllAmerican #DanceChallenge #ForgetMeNots\",\"THEY BE SO MUSTY\\ud83d\\ude02 #fyp #fueyruss\",\"Give your girl \\ud83d\\ude1c this \\ud83d\\udc84\\ud83d\\ude1csee what happens \\ud83d\\ude01#foryou #fyp #lipstick #aobenz #makeup #lipstickchallenge #lipstickshow\",\"You thought your boyfriend forgot about your anniversity but he does something surprising on the stage. #pov\",\"#pov: Your boyfriend finds out that you cheated on him and instead of putting you down on stage, he does something different\\u2026 #foryoupage #foryou #fyp\",\"#tiktok #tiger\",\"#notebook #diy #foryou #tutorial #handcraft #interesting #handmade #fyp #paper\",\"Dance party #catsoftikok\",\"\",\"My guy thought his life was over \\ud83d\\ude02\\ud83d\\udc80  tag a friend and say nothing #foryoupage\",\"Follow my instagram : akamztweenty\",\"this took sooo long to film! can this go viral? \\ud83e\\udd29\\u2764\\ufe0f #fyp #foryou #foryoupage #volleyball #aesthetic #viral\",\"How Tiktok behind the scenes are\\u2026 \\ud83d\\ude02 @coreyscherer\",\"#cat #FFXmasSwitch #catsoftiktok #WhenRiftanSays #fypage\",\"A video from a few years back while down in Antarctica.#golittlerockstar\",\"#dragon #ocean #deepsea #benthos #Magical #fish\",\"#foryou #slimes #fyp\\u30b7\",\"#cat #kitty #pet #cat #MyAncestryStory #NBCAnnieLive\",\"oh u wanna touch my alien? @C-Lo @Q Park\",\"Hair twister can twist in seconds #fyp #hairtwister #hairtwist #gadget\",\"Put on headphones #capcut #viral #fyp #videoedit\",\"@eviemareee #dog #2022 #dance #twerk\",\"Let\\u2019s go \\ud83e\\udd70\",\"Nothing like a warm bath \\ud83d\\udc12\\ud83d\\ude0a\",\"Why tf did my face twitch like that? #fyp #parati\",\"Mom is all about that troll life. \\ud83d\\ude02\",\"#cat #cute #funny #pet #foryou\",\"Shit slapppp! Mad good. It look like Tuna I know. #farmerinthedeli #nyc #brooklyn #ITriedItIPrimedIt #latenightsnack #openlatenyc #openlatenights #DisneyPlusVoices\",\"Neck Hump? Try this & share with someone that needs it! #neckhump #hunchback #neckpain #backpain #healthtok #learnontiktok #spinehealth #healthtips\",\"Sweet boy still misses his dad though\",\"\",\"\\ud83e\\udd40\",\"#angrydad #busstop #part1 #fyp . (Not related to me just stuck at bus stop\",\"Reply to @sexrethulaanmo (kahit Crdts Lang mga bebs!!)#tenderjuicyfam #jmsalitics #foryou #fyp\\u30b7\",\"Everyday should feel this good\",\"#ColorCustomizer #xyzbca #givewithallyourheart\",\"#foryou #SephoraLipLooks\",\"#cat\",\"i can still hear the \\u201cRAAH\\u201d after \\ud83d\\ude02 #tiktoktrendorigins #oldtrend #elizabethgillies\",\"Literally I don\\u2019t know why I can\\u2019t \\ud83d\\ude02\\ud83d\\ude02\\ud83d\\ude02#fyp #foryou #viraltokish #followmebet\",\"Ummm May I Help You?? #noseydog #puppy #fyp #pitbullsoftiktok #puppiesoftiktok #7weeks\",\"#slaychallenge what do you think, did I slay? \\ud83d\\ude09 #fyp #cashapp13plus #MyBrawlSuper\",\"#followmyig\\ud83d\\udc95 #editme\\ud83d\\udc95\",\"Save the rabbit #fyp #foryou #save #animals\",\"\\u2026So funny\\ud83d\\ude02\\ud83d\\ude02#foryou #catlover #catsoftiktok #funny #love #lmao #fyp\\u30b7\",\"like honestly | discord in bio\",\"Don't mess with mother\\ud83d\\ude02#foryou #catsoftiktok #catlover #funny #petlover #fyp\\u30b7\",\"Follow Your Dreams \\u2665\\ufe0f\\u2665\\ufe0f\\u2665\\ufe0f #fyp #fyp\\u30b7\\u309aviral #foryou #viral #malakharmain @malak_harmain\",\"Smile Cat \\ud83d\\udc80 #smilecat #horror #creepy\",\"\",\"This is the best present \\ud83c\\udf81 Santa could give.. @babe #foryou #viral #fyp #foryoupage\",\"Reply to @cajuncoonass337  #wafflehousewaitress #wafflehouse\",\"What\\u2019s your fave travel food \\ud83e\\udd14? I\\u2019ll \\u2764\\ufe0f mine in comments!\",\"Dc: @juliabritzz_ @gabylopesof\",\"This how we start off my sister\\u2019s day.\",\"#PoppyPlaytime #HuggyWuggy\",\"Melting \\ud83c\\udf6d #asmr\",\"When that  chicken hittin  \\ud83d\\udc25 \\ud83d\\udc40\",\"#cute #dog\",\"Points made\",\"Rate 1-10 \\ud83e\\udd7a\",\"#FNaF #Vanny\",\"#cute #dog\",\"100% the truth! \\u2764\\ufe0f\",\"#satisfying #idea #foryou #food #fyp\",\"What the end #fyp #foryou #respect #tiktokusa #likeaboss #boss #wtf\",\"#FNaF #Vanny\",\"Roni does another TikTok #dance! #flipbook\",\"Indiana Jones\",\"it\\u2019s way more fun!\",\"There\\u2019s always that ONE girl\\ud83d\\ude33\\ud83d\\ude02 @lexibrookerivera @themermaidscale\",\"#fyp #Hanfu #hanfu\\u6c49\\u670d\",\"The love of the world\",\"| #heeseung #enhypen\",\"#cute\",\"The way cats greet each other\\u2764\\ufe0f     #cat #tailheart #love #cutepetshow #fyp\",\"That had to hurt\\u203c\\ufe0f\\ud83e\\udd2f #viral #prank #funny #fyp #foryourpage #tiktok\",\"Watch the end #likeaboss #boss #respect #fyp #tiktokusa #wtf #foryou\",\"falling in love #slowed\\ud83c\\udfa7 #alightmotion  #lyrics #fyp\\u30b7 #mjlyrics4\",\"#cute #dog\",\"Which one do you like?#harrypotter #hermionegranger#dracomalfoy\",\"#stitch with @lilbeetlejuicelil I guess it was a good thing showing her that\\ud83d\\ude09#CloseYourRings #ArbysDiabloDare #fyp\",\"#OMG #foryoupage #foryou #fyp\",\"40 Poker Chip Bottle Challenge with my sword #\\u304b\\u308f\\u3044\\u3044 #kawaii #trickshot\",\"#lIIusionism #liiusion please believe your eyes.\",\"Your 1st @ has a crush on you \\ud83d\\ude33 #fyp\\u30b7\",\"#wee #animal #pets #dog #pet #cats #viral #\\ud83e\\udd23\\ud83e\\udd23\\ud83e\\udd23 #weee #animals #Wee #cat #dogs #funny\",\"#hanfu\\u6c49\\u670d #fyp #Hanfu\",\"my cousin - \\u201cwait is that you\\u201d me - \\u201cno that\\u2019s shrek\\u201d. really boosted my confidence \\ud83d\\ude01\",\"Tom sings \\u201clove is gone\\u201d \\ud83d\\ude3b\\ud83d\\ude3b #talkingtom #loveisgone #fyp\\u30b7 #foryou\",\"She caught me off guard \\ud83d\\ude48 #singing #loveisgone\",\"A lovely idea #idea #diy #trick #diy  #learnontiktok #khabylame_jp #foryou\",\"Why can\\u2019t I run fast?\\ud83d\\ude2d\\ud83d\\udc3b#foryou #fyp #viral #viralvideo #xyzbca #funnymoments #Naughtybear #funnyvideos #cutebear #Bear #girls #cute #\\ud83d\\udc3b #funny\",\"#DIYwithBlock #FYP #DuetDoWet #compas #28DaysOfEucerin #televisapresenta #DONCHUYIN #ultimahora #toxicas #elcovi\",\"\",\"Best Caption Wins \\ud83c\\udfc6 #zoomies #fyp #cuteness #narutorun #wrinkletheduck\",\"#CapCut #fyp #stickman  Blue\\ud83d\\udc99\\ud83d\\ude42\",\"Y me levanto en la ma\\u00f1ana a las 7am a sal\\u00ed a trabajar \\ud83c\\udfb6 #ymelevantoenlama\\u00f1ana #fyp #miceoftiktok\",\"Raise your hand if you were fooled \\ud83d\\ude08\\ud83d\\ude4b\\ud83c\\udffd #trend #dad #1980 #notviral\",\"mu\\u1ed1n l\\u00e9 lu\\u00f4n\",\"#disco #dj #DJ\",\"#weddingdress #bridal\",\"(*\\u2022\\u0300\\u1d17\\u2022\\u0301*)\\u0648\\u2727 #shinobu #anime #customshoes #demonslayer\",\"2022 and 24 hours \\ud83d\\udc40\",\"\\ud83d\\udc1e #labdug #godnit #godnitfreds #forst #forestgump #proudmama #gottastartsomewhere #GiveWithAllYourHeart\",\"Ya se armo\\ud83d\\ude08#vaselina#newtrend#parati#fyp\",\"Happy Valentines Day Lynja Turtles \\ud83e\\udd70\\ud83e\\udd70\",\"#samsung #oppo #huawei #iphone\",\"#guitar #learnwithtiktok\",\"That\\u2019s enough for the whole family \\ud83e\\udd23\\ud83e\\udd23\\ud83e\\udd23 #ThatLittlePuff #puffknowsbetter #AVrboForTogether\",\"#scenery\",\"#craft #DIY #handmade\",\"#tinastacks #wegrowingnocap #studcomedy #lesbiansover30 #lesbiansoftiktok\\ud83c\\udff3\\ufe0f\\u200d\\ud83c\\udf08 #studsoftiktok\",\"IM SORRY IM DONE \\ud83d\\udc80\\ud83d\\udcde\",\"Movie time \\ud83d\\ude48#fyp #4u #viral #couples #cat #foryou\",\"Somewhere on the Finger Lakes #blackfridayadventures #upstateNY\",\"#ocean #whale #dolphin #shark #fish\",\"EXCUSE MI THIS FANSERVICE THO \\ud83d\\ude29 #fyp #bts #btsarmy #btsconcert2021 #taehyung #ptdonstage #btsv\",\"You asked for more\\u2026here we goooooo #yovip #letskickit #oldschool #StepandFlex #relationshipgoals #myman #FritoLayRickRoll #letsgobrandon #werenewhere\",\"sun explosion \\ud83d\\udca5 #sun\",\"ABOWWW #skitok #ski #skier #girlswhoshred #skiergirl #girlswhoski #wintersports #winteraesthetic #freeski #abow #aboww\",\"\\u0627\\u0644\\u0627\\u063a\\u0646\\u064a\\u0647 \\u0627\\u062f\\u0645\\u0627\\u0646\\u2764\\ufe0f\\u200d\\ud83d\\udd25 \\u0645\\u0634 \\u0639\\u0645 \\u062a\\u062a\\u0637\\u0644\\u0639 \\u0645\\u0646 \\u0631\\u0627\\u0633\\u064a\\ud83d\\ude2a\\ud83d\\ude02#\\u0623\\u0645_\\u063a\\u0645\\u0627\\u0632\\u0629\\ud83d\\ude4a\\ud83d\\udda4 #\\u0627\\u0644\\u062f\\u0631\\u0639\\u0627\\u0648\\u064a\\u0629\\ud83d\\udc51 #\\u062c\\u064a\\u0634_\\u0648\\u064a_\\u0648\\u064a #\\u0627\\u0646\\u0627\\u0642\\u0647 #\\u0627\\u0638\\u0627\\u0641\\u0631 #\\u0645\\u0646\\u0627\\u0643\\u064a\\u0631 #\\u0627\\u063a\\u0627\\u0646\\u064a #tiktok #\\u062a\\u0631\\u0646\\u062f\\u0627\\u062a\",\"#letrip\\ud83d\\udca8\\ud83d\\udca8\\ud83d\\udca8 #PawlidayPics #gasalot #justgas #fartsalot #itsjustair #fartsalot #laughter #imme #sowhat #itsfunny\",\"U make me giggle \\u263a\\ufe0f #hifriend\",\"Dc: @Matt\",\"Corgi races are the best! #corgiracing #corgiraces #corgis #fyp\",\"I just wanted to go fishing\",\"She still alive #malinois #crazyforfetch\",\"Reply to @serynaurfuturewifee incase you missed this one\\ud83d\\udd20\\ud83c\\udf89 #foryou #thetiktokdrummer\",\"Please make it stop #ftm #firsttimemom #softspot #baby\",\"This is insane \\ud83d\\udd25 #edmmusic #electronicmusic #edmvibes\",\"d joke. need ko money now HAHAHAHAHAHA #mobilecinematography #tiktok #ph #rawr #boi #fyp\\u30b7 #trend #like\",\"WHY YALL DO THIS ? \\ud83d\\ude2d\\ud83d\\ude02 (Follow us on Instagram) link in bio ! #fyp #foryou #xyzbca #couples this is a skit !\",\"#fishtower #goldfish #fishtok #peaceful #pond #pondtok #filetofish\",\"I got this\\u2026No problem!!!#SephoraLipLooks #TeamUSATryout #PepsiApplePieChallenge #cat #catsoftiktok #catlovers #gingercat #ginger #houdini #Houdini #cute #fyp #foryou #foryoupage #fyp\\u30b7 #DuetDoWet #funnyvideo\",\"tried the most softest look kSKSKSKS\",\"#sinkseptic #plumbersoftiktok #septiclife\",\"#drinklocal #drinkinggame #drinkchallenge #shots #drinktime #LoveIsLove #comedychallenge\",\"Soo #satisfyingvideo from @Decompression at night #hudabeauty #foryou #xyzbca #skincare #beauty\"],\"legendgroup\":\"\",\"marker\":{\"color\":[-0.5859,0.4404,0.0,0.3892,0.0,0.0,0.1779,0.128,0.4019,0.8481,-0.8934,-0.1725,0.9086,0.7579,-0.4019,0.0,0.7003,0.4215,0.4404,0.3612,-0.2648,0.4404,-0.2023,0.0,0.0,0.0,0.0,-0.891,0.8074,0.0,0.0,0.0,0.8777,0.4939,0.0,-0.682,0.4438,0.0,-0.4927,0.6369,0.4404,0.0,0.7775,0.0,0.0,0.0,-0.4767,0.8074,-0.4767,0.4939,0.6705,0.0,0.0,0.0,0.0772,-0.6367,0.0,0.0,0.0,0.9022,-0.0516,0.7906,0.9096,0.5707,0.1739,0.3612,0.91,-0.5719,0.4588,0.0,0.68,0.2716,0.5106,0.7777,0.0,0.6369,0.0,0.0,0.0,-0.6486,0.3182,0.2023,0.0,0.4939,0.0,-0.3182,0.0,0.0,0.0,0.0,-0.5472,0.0,0.6597,0.4404,0.0,0.0,0.0,0.4215,0.0,0.5106,-0.8442,-0.2942,0.0,0.3802,0.6808,0.0,-0.8203,-0.34,-0.296,0.7579,-0.25,0.4404,0.0,0.4404,0.0,0.0,0.0,0.4767,0.9694,0.5106,0.6331,0.3612,0.7506,0.0,0.0,0.0,0.0,0.4404,0.3612,0.0,-0.2263,0.0,0.0,0.9153,0.8098,0.0,0.4767,-0.2023,0.9432,0.4404,0.4588,0.0,0.4404,0.0258,-0.1531,0.9565,0.0,0.0,0.8625,0.3612,0.9858,-0.6486,0.0,0.0,0.4062,0.6563,0.0,-0.6917,0.0,-0.2263,0.0,0.8977,0.0,0.8689,0.8748,0.0,0.0,0.0,0.2263,0.9735,0.8519,0.9118,0.0,0.0,0.296,0.8519,0.0,0.4404,0.9274,0.7184,0.8553,0.0,0.0,0.0258,0.3182,0.0,0.6597,0.8689,0.0,-0.7351,0.0,0.0,-0.3818,0.0,0.0,0.5267,0.0,0.0,0.2617,0.9517,0.0,-0.4767,0.7845,0.0,0.0,0.0,0.0,0.0,0.0,0.3979,0.8481,-0.296,0.9146,0.3182,0.9118,0.0,0.7717,0.7096,-0.296,0.8126,0.0,0.9761,0.0,0.2617,0.6705,-0.3595,0.0,0.8516,0.6908,0.0,0.6486,0.3612,0.8979,0.8271,0.0,0.4404,0.5204,0.4215,0.1877,0.0,0.0,0.4404,-0.5719,-0.0258,0.0,0.9538,-0.4767,0.0,0.0,0.0,0.7717,0.4404,0.5106,0.3919,-0.5106,0.0,0.4019,0.4019,0.2617,0.7269,0.0,0.0,0.4404,0.4215,0.0,0.0,0.6249,0.0,0.0,0.0,-0.2732,0.0,0.8074,0.498,0.3612,0.7964,0.7096,-0.4003,-0.69,0.2732,0.0,0.0,-0.25,0.0,0.5228,0.6369,0.2584,0.0,0.4404,0.8271,0.3094,0.6369,0.6486,0.7506,0.91,0.4215,0.9383,0.946,0.0772,0.7506,0.7964,0.0,0.4926,0.0,-0.1531,0.0,0.0,0.0,0.9337,0.0,0.0,0.0,0.9337,0.7574,0.4588,0.2023,0.0,0.0,0.0,0.5974,0.4404,0.0,0.6369,0.0,0.4588,0.9287,-0.128,0.6808,0.5574,0.4588,0.3612,0.4404,0.0,-0.0516,0.3182,-0.1531,0.91,0.0,0.854,0.8764,0.6369,0.5574,0.891,-0.4404,0.0,0.9042,0.7245,0.0,0.7783,0.0,0.0,0.0,0.0,-0.1531,0.8074,0.4588,0.9601,0.0,0.0,0.946,0.0,0.0,0.4939,-0.2577,0.0,0.34,0.0,-0.0173,0.5106,-0.3612,0.6705,0.2263,0.7479,0.9442,0.0,0.6696,0.0,0.0516,0.128,0.0258,-0.6249,0.3818,-0.1984,0.4939,0.8306,-0.2732,0.0,0.91,0.891],\"coloraxis\":\"coloraxis\",\"size\":[22000,6500000,537800,19200,6300000,567100,104100,271500,39800,1600000,552500,1000000,337400,24600,2200000,23100,25700,5300000,191800,2025,678800,1100000,3800000,3100000,1800000,1900000,1300000,660900,4200000,1600000,1900000,371800,3300000,267800,428600,36600,9800000,55700,235500,892300,700000,1300000,840700,2900000,291000,740400,82200,116700,54700,3300000,641300,342700,3486,3000000,127000,95900,218300,189200,8400000,3000000,945000,4400000,18600,4500000,142800,3400000,2100000,1400000,7600000,465300,2200000,5500000,1200000,2700000,53400,2400000,4000000,1100000,1700000,946200,5600000,7900000,1300000,197600,9200000,1100000,179800,666400,460100,1500000,109000,1100000,242500,449900,3800000,566000,98500,608700,2000000,929200,665900,2100000,386700,3200000,561200,140500,15100000,303400,1600000,615000,4800000,2400000,1500000,268400,1500000,2400000,1200000,2500000,143200,2100000,1300000,1200000,205400,475300,4300000,636100,2700000,4700000,71700,3700000,7,1400000,14900000,268400,927000,3100000,3100000,892700,412100,3700000,1200000,1100000,3800000,209700,24500000,3400000,38900,489700,1200000,4500000,6400000,1500000,3300000,436900,916300,75600,1200000,8000000,284500,4100000,11700000,340400,6000000,1700000,276900,10800000,383600,2800000,640600,2100000,8600000,44500,10700000,198500,7800000,2500000,1400000,11600000,12000000,14300000,63100,1100000,422900,2600000,64800,126900,104300,596500,172900,65800,3800000,3700000,57700,5000000,4100000,331200,390700,618500,520700,3400000,467000,1000000,78700,680200,3600000,4400000,1700000,6300000,3000000,952800,47800,383800,355700,663500,2900000,305100,2600000,1100000,1500000,2000000,1200000,752500,2800000,932300,1700000,113700,2600000,327600,9200000,299000,285600,70400,1800000,1100000,457200,292300,405000,1500000,3400000,2300000,71600,1600000,409900,5900000,7325,787500,1400000,833300,4300000,3600000,796000,111300,773600,1600000,2700000,58200,1400000,5500000,253200,2500000,545200,2600000,6500000,451300,29700000,2100000,1900000,612100,1400000,112000,1600000,15900000,566300,12200000,217800,565000,1900000,372500,1900000,389200,301500,3000000,480200,45300,41100,336700,13400,5300000,1800000,14700,564200,19100,217700,2000000,1200000,14100000,2700000,3643,2100000,834000,2600000,3200000,723400,2600000,2700000,6600000,1500000,2600000,5700000,7900000,1700000,2800000,415900,4900000,211800,337400,4100000,13500000,8400000,421600,1900000,542900,653800,117200,468100,641100,1300000,513800,183700,5200000,2000000,1400000,6900000,1300000,4800000,5700000,1800000,242600,25200,1100000,4000000,597100,1300000,1400000,1300000,15200000,3300000,1200000,3700000,1700000,1300000,1900000,1900000,1300000,2100000,97700,1800000,353800,1400000,745700,715200,297100,79600,2000000,1700000,317500,191500,11400000,2500000,2800000,1100000,297900,16600,286200,4900000,2600000,143300,177000,1400000,1600000,54500,862200,256400,709700,947900,201400,3400000,533500,47900],\"sizemode\":\"area\",\"sizeref\":297000.0,\"symbol\":\"circle\",\"sizemin\":3},\"mode\":\"markers\",\"name\":\"\",\"orientation\":\"v\",\"showlegend\":false,\"x\":[0.122,0.42,0.0,0.272,0.0,0.0,0.134,0.15,0.144,0.535,0.13,0.0,0.257,0.262,0.0,0.0,0.339,0.359,0.124,0.185,0.111,0.167,0.132,0.0,0.0,0.0,0.0,0.103,0.415,0.0,0.0,0.0,0.347,0.138,0.0,0.158,0.333,0.0,0.0,0.677,0.182,0.0,0.361,0.0,0.0,0.0,0.106,0.258,0.0,0.182,0.289,0.0,0.0,0.0,0.178,0.111,0.0,0.0,0.0,0.461,0.138,0.206,0.379,0.27,0.141,0.238,0.53,0.0,0.375,0.0,0.399,0.23,0.268,0.531,0.0,0.208,0.0,0.0,0.0,0.0,0.365,0.155,0.0,0.444,0.0,0.0,0.0,0.0,0.0,0.0,0.0,0.0,0.478,0.237,0.0,0.0,0.0,0.737,0.0,0.32,0.0,0.0,0.0,0.23,0.29,0.0,0.072,0.0,0.0,0.371,0.0,0.18,0.0,0.124,0.0,0.0,0.0,0.129,0.621,0.623,0.294,0.241,0.435,0.0,0.0,0.0,0.0,0.228,0.152,0.0,0.0,0.0,0.0,0.496,0.342,0.0,0.383,0.097,0.525,0.325,0.273,0.0,0.182,0.094,0.068,0.824,0.0,0.0,0.202,0.111,0.382,0.0,0.0,0.0,0.312,0.214,0.0,0.069,0.0,0.143,0.0,0.391,0.0,0.344,0.305,0.0,0.0,0.0,0.289,0.495,0.263,0.603,0.0,0.0,1.0,0.279,0.0,0.146,0.375,0.462,0.37,0.0,0.0,0.224,0.183,0.0,0.329,0.662,0.0,0.0,0.0,0.0,0.0,0.0,0.0,0.333,0.0,0.0,0.146,0.46,0.0,0.0,0.307,0.0,0.169,0.0,0.0,0.0,0.0,0.388,0.264,0.0,0.281,0.177,0.492,0.0,0.489,0.534,0.218,0.403,0.0,0.67,0.0,0.157,0.169,0.0,0.0,0.608,0.249,0.0,0.402,0.263,0.312,0.592,0.0,0.592,0.272,0.149,0.303,0.0,0.0,0.315,0.0,0.09,0.0,0.638,0.0,0.0,0.0,0.0,0.185,0.277,0.104,0.084,0.0,0.0,0.231,0.351,0.291,0.251,0.0,0.0,0.228,0.286,0.0,0.0,0.177,0.0,0.0,0.0,0.0,0.0,0.593,0.358,0.217,0.335,0.596,0.127,0.065,0.303,0.0,0.0,0.0,0.0,0.458,0.344,0.146,0.0,0.16,0.271,0.193,0.321,0.381,0.516,0.46,0.451,0.493,0.522,0.394,0.435,0.295,0.0,0.21,0.0,0.0,0.0,0.0,0.0,0.61,0.0,0.0,0.0,0.61,0.619,0.167,0.262,0.0,0.0,0.0,0.564,0.215,0.0,0.512,0.0,1.0,0.555,0.13,0.384,0.284,0.75,0.2,0.116,0.0,0.102,0.434,0.0,0.333,0.0,0.342,0.243,0.296,0.271,0.321,0.0,0.0,0.528,0.439,0.0,0.313,0.0,0.0,0.0,0.0,0.0,0.177,0.176,0.567,0.0,0.0,0.376,0.0,0.0,0.241,0.0,0.0,0.211,0.0,0.155,0.099,0.0,0.2,0.115,0.17,0.573,0.0,0.31,0.0,0.163,0.123,0.17,0.0,0.194,0.102,0.11,0.229,0.089,0.0,0.6,0.469],\"xaxis\":\"x\",\"y\":[0.301,0.0,0.0,0.155,0.0,0.0,0.0,0.124,0.0,0.0,0.529,0.219,0.0,0.112,0.474,0.0,0.17,0.0,0.062,0.0,0.163,0.084,0.178,0.0,0.0,0.0,0.0,0.419,0.113,0.0,0.0,0.0,0.0,0.0,0.0,0.327,0.276,0.0,0.132,0.0,0.0,0.0,0.0,0.0,0.0,0.0,0.185,0.0,0.256,0.1,0.0,0.0,0.0,0.0,0.0,0.194,0.0,0.0,0.0,0.0,0.148,0.08,0.114,0.0,0.115,0.0,0.075,0.381,0.0,0.0,0.142,0.0,0.0,0.0,0.0,0.0,0.0,0.0,0.0,0.381,0.0,0.087,0.0,0.0,0.0,0.078,0.0,0.0,0.0,0.0,0.475,0.0,0.0,0.096,0.0,0.0,0.0,0.0,0.0,0.0,0.259,0.087,0.0,0.125,0.085,0.0,0.433,0.194,0.167,0.0,0.118,0.109,0.0,0.062,0.0,0.0,0.0,0.047,0.0,0.0,0.0,0.252,0.115,0.0,0.0,0.0,0.0,0.114,0.0,0.0,0.101,0.0,0.0,0.0,0.0,0.0,0.0,0.128,0.146,0.162,0.0,0.0,0.0,0.09,0.099,0.0,0.0,0.0,0.0,0.0,0.124,0.31,0.0,0.0,0.0,0.093,0.0,0.24,0.0,0.141,0.0,0.153,0.0,0.113,0.0,0.0,0.0,0.0,0.196,0.0,0.0,0.085,0.0,0.0,0.0,0.0,0.0,0.0,0.0,0.0,0.0,0.0,0.0,0.217,0.105,0.0,0.0,0.0,0.0,0.279,0.0,0.0,0.14,0.0,0.0,0.25,0.0,0.0,0.0,0.115,0.0,0.154,0.08,0.0,0.169,0.0,0.0,0.0,0.0,0.208,0.045,0.136,0.042,0.105,0.0,0.0,0.0,0.16,0.253,0.134,0.0,0.0,0.0,0.0,0.0,0.293,0.0,0.0,0.072,0.0,0.224,0.0,0.0,0.0,0.0,0.0,0.0,0.0,0.0,0.0,0.0,0.209,0.291,0.095,0.0,0.063,0.147,0.0,0.0,0.0,0.044,0.139,0.0,0.0,0.074,0.0,0.0,0.0,0.0,0.068,0.0,0.0,0.114,0.0,0.0,0.0,0.0,0.0,0.0,0.0,0.208,0.0,0.0,0.225,0.0,0.079,0.0,0.167,0.202,0.192,0.0,0.0,0.182,0.0,0.0,0.0,0.079,0.0,0.08,0.135,0.113,0.0,0.0,0.0,0.122,0.221,0.057,0.0,0.291,0.115,0.0,0.0,0.0,0.0,0.11,0.0,0.0,0.0,0.0,0.0,0.0,0.0,0.0,0.0,0.0,0.178,0.0,0.0,0.0,0.0,0.107,0.0,0.0,0.0,0.0,0.0,0.152,0.0,0.108,0.0,0.0,0.0,0.0,0.117,0.0,0.118,0.0,0.0,0.0,0.028,0.0,0.086,0.068,0.127,0.0,0.0,0.117,0.0,0.087,0.0,0.0,0.0,0.0,0.186,0.0,0.0,0.0,0.0,0.0,0.0,0.0,0.0,0.083,0.253,0.0,0.0,0.0,0.16,0.0,0.455,0.0,0.118,0.0,0.0,0.0,0.0,0.0,0.15,0.1,0.163,0.389,0.096,0.149,0.0,0.054,0.13,0.0,0.0,0.0],\"yaxis\":\"y\",\"type\":\"scatter\"}],                        {\"template\":{\"data\":{\"barpolar\":[{\"marker\":{\"line\":{\"color\":\"rgb(17,17,17)\",\"width\":0.5},\"pattern\":{\"fillmode\":\"overlay\",\"size\":10,\"solidity\":0.2}},\"type\":\"barpolar\"}],\"bar\":[{\"error_x\":{\"color\":\"#f2f5fa\"},\"error_y\":{\"color\":\"#f2f5fa\"},\"marker\":{\"line\":{\"color\":\"rgb(17,17,17)\",\"width\":0.5},\"pattern\":{\"fillmode\":\"overlay\",\"size\":10,\"solidity\":0.2}},\"type\":\"bar\"}],\"carpet\":[{\"aaxis\":{\"endlinecolor\":\"#A2B1C6\",\"gridcolor\":\"#506784\",\"linecolor\":\"#506784\",\"minorgridcolor\":\"#506784\",\"startlinecolor\":\"#A2B1C6\"},\"baxis\":{\"endlinecolor\":\"#A2B1C6\",\"gridcolor\":\"#506784\",\"linecolor\":\"#506784\",\"minorgridcolor\":\"#506784\",\"startlinecolor\":\"#A2B1C6\"},\"type\":\"carpet\"}],\"choropleth\":[{\"colorbar\":{\"outlinewidth\":0,\"ticks\":\"\"},\"type\":\"choropleth\"}],\"contourcarpet\":[{\"colorbar\":{\"outlinewidth\":0,\"ticks\":\"\"},\"type\":\"contourcarpet\"}],\"contour\":[{\"colorbar\":{\"outlinewidth\":0,\"ticks\":\"\"},\"colorscale\":[[0.0,\"#0d0887\"],[0.1111111111111111,\"#46039f\"],[0.2222222222222222,\"#7201a8\"],[0.3333333333333333,\"#9c179e\"],[0.4444444444444444,\"#bd3786\"],[0.5555555555555556,\"#d8576b\"],[0.6666666666666666,\"#ed7953\"],[0.7777777777777778,\"#fb9f3a\"],[0.8888888888888888,\"#fdca26\"],[1.0,\"#f0f921\"]],\"type\":\"contour\"}],\"heatmapgl\":[{\"colorbar\":{\"outlinewidth\":0,\"ticks\":\"\"},\"colorscale\":[[0.0,\"#0d0887\"],[0.1111111111111111,\"#46039f\"],[0.2222222222222222,\"#7201a8\"],[0.3333333333333333,\"#9c179e\"],[0.4444444444444444,\"#bd3786\"],[0.5555555555555556,\"#d8576b\"],[0.6666666666666666,\"#ed7953\"],[0.7777777777777778,\"#fb9f3a\"],[0.8888888888888888,\"#fdca26\"],[1.0,\"#f0f921\"]],\"type\":\"heatmapgl\"}],\"heatmap\":[{\"colorbar\":{\"outlinewidth\":0,\"ticks\":\"\"},\"colorscale\":[[0.0,\"#0d0887\"],[0.1111111111111111,\"#46039f\"],[0.2222222222222222,\"#7201a8\"],[0.3333333333333333,\"#9c179e\"],[0.4444444444444444,\"#bd3786\"],[0.5555555555555556,\"#d8576b\"],[0.6666666666666666,\"#ed7953\"],[0.7777777777777778,\"#fb9f3a\"],[0.8888888888888888,\"#fdca26\"],[1.0,\"#f0f921\"]],\"type\":\"heatmap\"}],\"histogram2dcontour\":[{\"colorbar\":{\"outlinewidth\":0,\"ticks\":\"\"},\"colorscale\":[[0.0,\"#0d0887\"],[0.1111111111111111,\"#46039f\"],[0.2222222222222222,\"#7201a8\"],[0.3333333333333333,\"#9c179e\"],[0.4444444444444444,\"#bd3786\"],[0.5555555555555556,\"#d8576b\"],[0.6666666666666666,\"#ed7953\"],[0.7777777777777778,\"#fb9f3a\"],[0.8888888888888888,\"#fdca26\"],[1.0,\"#f0f921\"]],\"type\":\"histogram2dcontour\"}],\"histogram2d\":[{\"colorbar\":{\"outlinewidth\":0,\"ticks\":\"\"},\"colorscale\":[[0.0,\"#0d0887\"],[0.1111111111111111,\"#46039f\"],[0.2222222222222222,\"#7201a8\"],[0.3333333333333333,\"#9c179e\"],[0.4444444444444444,\"#bd3786\"],[0.5555555555555556,\"#d8576b\"],[0.6666666666666666,\"#ed7953\"],[0.7777777777777778,\"#fb9f3a\"],[0.8888888888888888,\"#fdca26\"],[1.0,\"#f0f921\"]],\"type\":\"histogram2d\"}],\"histogram\":[{\"marker\":{\"pattern\":{\"fillmode\":\"overlay\",\"size\":10,\"solidity\":0.2}},\"type\":\"histogram\"}],\"mesh3d\":[{\"colorbar\":{\"outlinewidth\":0,\"ticks\":\"\"},\"type\":\"mesh3d\"}],\"parcoords\":[{\"line\":{\"colorbar\":{\"outlinewidth\":0,\"ticks\":\"\"}},\"type\":\"parcoords\"}],\"pie\":[{\"automargin\":true,\"type\":\"pie\"}],\"scatter3d\":[{\"line\":{\"colorbar\":{\"outlinewidth\":0,\"ticks\":\"\"}},\"marker\":{\"colorbar\":{\"outlinewidth\":0,\"ticks\":\"\"}},\"type\":\"scatter3d\"}],\"scattercarpet\":[{\"marker\":{\"colorbar\":{\"outlinewidth\":0,\"ticks\":\"\"}},\"type\":\"scattercarpet\"}],\"scattergeo\":[{\"marker\":{\"colorbar\":{\"outlinewidth\":0,\"ticks\":\"\"}},\"type\":\"scattergeo\"}],\"scattergl\":[{\"marker\":{\"line\":{\"color\":\"#283442\"}},\"type\":\"scattergl\"}],\"scattermapbox\":[{\"marker\":{\"colorbar\":{\"outlinewidth\":0,\"ticks\":\"\"}},\"type\":\"scattermapbox\"}],\"scatterpolargl\":[{\"marker\":{\"colorbar\":{\"outlinewidth\":0,\"ticks\":\"\"}},\"type\":\"scatterpolargl\"}],\"scatterpolar\":[{\"marker\":{\"colorbar\":{\"outlinewidth\":0,\"ticks\":\"\"}},\"type\":\"scatterpolar\"}],\"scatter\":[{\"marker\":{\"line\":{\"color\":\"#283442\"}},\"type\":\"scatter\"}],\"scatterternary\":[{\"marker\":{\"colorbar\":{\"outlinewidth\":0,\"ticks\":\"\"}},\"type\":\"scatterternary\"}],\"surface\":[{\"colorbar\":{\"outlinewidth\":0,\"ticks\":\"\"},\"colorscale\":[[0.0,\"#0d0887\"],[0.1111111111111111,\"#46039f\"],[0.2222222222222222,\"#7201a8\"],[0.3333333333333333,\"#9c179e\"],[0.4444444444444444,\"#bd3786\"],[0.5555555555555556,\"#d8576b\"],[0.6666666666666666,\"#ed7953\"],[0.7777777777777778,\"#fb9f3a\"],[0.8888888888888888,\"#fdca26\"],[1.0,\"#f0f921\"]],\"type\":\"surface\"}],\"table\":[{\"cells\":{\"fill\":{\"color\":\"#506784\"},\"line\":{\"color\":\"rgb(17,17,17)\"}},\"header\":{\"fill\":{\"color\":\"#2a3f5f\"},\"line\":{\"color\":\"rgb(17,17,17)\"}},\"type\":\"table\"}]},\"layout\":{\"annotationdefaults\":{\"arrowcolor\":\"#f2f5fa\",\"arrowhead\":0,\"arrowwidth\":1},\"autotypenumbers\":\"strict\",\"coloraxis\":{\"colorbar\":{\"outlinewidth\":0,\"ticks\":\"\"}},\"colorscale\":{\"diverging\":[[0,\"#8e0152\"],[0.1,\"#c51b7d\"],[0.2,\"#de77ae\"],[0.3,\"#f1b6da\"],[0.4,\"#fde0ef\"],[0.5,\"#f7f7f7\"],[0.6,\"#e6f5d0\"],[0.7,\"#b8e186\"],[0.8,\"#7fbc41\"],[0.9,\"#4d9221\"],[1,\"#276419\"]],\"sequential\":[[0.0,\"#0d0887\"],[0.1111111111111111,\"#46039f\"],[0.2222222222222222,\"#7201a8\"],[0.3333333333333333,\"#9c179e\"],[0.4444444444444444,\"#bd3786\"],[0.5555555555555556,\"#d8576b\"],[0.6666666666666666,\"#ed7953\"],[0.7777777777777778,\"#fb9f3a\"],[0.8888888888888888,\"#fdca26\"],[1.0,\"#f0f921\"]],\"sequentialminus\":[[0.0,\"#0d0887\"],[0.1111111111111111,\"#46039f\"],[0.2222222222222222,\"#7201a8\"],[0.3333333333333333,\"#9c179e\"],[0.4444444444444444,\"#bd3786\"],[0.5555555555555556,\"#d8576b\"],[0.6666666666666666,\"#ed7953\"],[0.7777777777777778,\"#fb9f3a\"],[0.8888888888888888,\"#fdca26\"],[1.0,\"#f0f921\"]]},\"colorway\":[\"#636efa\",\"#EF553B\",\"#00cc96\",\"#ab63fa\",\"#FFA15A\",\"#19d3f3\",\"#FF6692\",\"#B6E880\",\"#FF97FF\",\"#FECB52\"],\"font\":{\"color\":\"#f2f5fa\"},\"geo\":{\"bgcolor\":\"rgb(17,17,17)\",\"lakecolor\":\"rgb(17,17,17)\",\"landcolor\":\"rgb(17,17,17)\",\"showlakes\":true,\"showland\":true,\"subunitcolor\":\"#506784\"},\"hoverlabel\":{\"align\":\"left\"},\"hovermode\":\"closest\",\"mapbox\":{\"style\":\"dark\"},\"paper_bgcolor\":\"rgb(17,17,17)\",\"plot_bgcolor\":\"rgb(17,17,17)\",\"polar\":{\"angularaxis\":{\"gridcolor\":\"#506784\",\"linecolor\":\"#506784\",\"ticks\":\"\"},\"bgcolor\":\"rgb(17,17,17)\",\"radialaxis\":{\"gridcolor\":\"#506784\",\"linecolor\":\"#506784\",\"ticks\":\"\"}},\"scene\":{\"xaxis\":{\"backgroundcolor\":\"rgb(17,17,17)\",\"gridcolor\":\"#506784\",\"gridwidth\":2,\"linecolor\":\"#506784\",\"showbackground\":true,\"ticks\":\"\",\"zerolinecolor\":\"#C8D4E3\"},\"yaxis\":{\"backgroundcolor\":\"rgb(17,17,17)\",\"gridcolor\":\"#506784\",\"gridwidth\":2,\"linecolor\":\"#506784\",\"showbackground\":true,\"ticks\":\"\",\"zerolinecolor\":\"#C8D4E3\"},\"zaxis\":{\"backgroundcolor\":\"rgb(17,17,17)\",\"gridcolor\":\"#506784\",\"gridwidth\":2,\"linecolor\":\"#506784\",\"showbackground\":true,\"ticks\":\"\",\"zerolinecolor\":\"#C8D4E3\"}},\"shapedefaults\":{\"line\":{\"color\":\"#f2f5fa\"}},\"sliderdefaults\":{\"bgcolor\":\"#C8D4E3\",\"bordercolor\":\"rgb(17,17,17)\",\"borderwidth\":1,\"tickwidth\":0},\"ternary\":{\"aaxis\":{\"gridcolor\":\"#506784\",\"linecolor\":\"#506784\",\"ticks\":\"\"},\"baxis\":{\"gridcolor\":\"#506784\",\"linecolor\":\"#506784\",\"ticks\":\"\"},\"bgcolor\":\"rgb(17,17,17)\",\"caxis\":{\"gridcolor\":\"#506784\",\"linecolor\":\"#506784\",\"ticks\":\"\"}},\"title\":{\"x\":0.05},\"updatemenudefaults\":{\"bgcolor\":\"#506784\",\"borderwidth\":0},\"xaxis\":{\"automargin\":true,\"gridcolor\":\"#283442\",\"linecolor\":\"#506784\",\"ticks\":\"\",\"title\":{\"standoff\":15},\"zerolinecolor\":\"#283442\",\"zerolinewidth\":2},\"yaxis\":{\"automargin\":true,\"gridcolor\":\"#283442\",\"linecolor\":\"#506784\",\"ticks\":\"\",\"title\":{\"standoff\":15},\"zerolinecolor\":\"#283442\",\"zerolinewidth\":2}}},\"xaxis\":{\"anchor\":\"y\",\"domain\":[0.0,1.0],\"title\":{\"text\":\"Positive Sentiment\"}},\"yaxis\":{\"anchor\":\"x\",\"domain\":[0.0,1.0],\"title\":{\"text\":\"Negative Sentiment\"}},\"coloraxis\":{\"colorbar\":{\"title\":{\"text\":\"Compound Sentiment\"}},\"colorscale\":[[0.0,\"rgb(255,0,80)\"],[0.5,\"rgb(255,255,255)\"],[1.0,\"rgb(0,242,234)\"]],\"cmin\":-1.1,\"cmax\":1.1},\"legend\":{\"tracegroupgap\":0,\"itemsizing\":\"constant\"},\"margin\":{\"t\":60},\"height\":600,\"width\":800},                        {\"responsive\": true}                    ).then(function(){\n",
       "                            \n",
       "var gd = document.getElementById('be50d173-d2f3-4d45-920b-487e78e6c8ee');\n",
       "var x = new MutationObserver(function (mutations, observer) {{\n",
       "        var display = window.getComputedStyle(gd).display;\n",
       "        if (!display || display === 'none') {{\n",
       "            console.log([gd, 'removed!']);\n",
       "            Plotly.purge(gd);\n",
       "            observer.disconnect();\n",
       "        }}\n",
       "}});\n",
       "\n",
       "// Listen for the removal of the full notebook cells\n",
       "var notebookContainer = gd.closest('#notebook-container');\n",
       "if (notebookContainer) {{\n",
       "    x.observe(notebookContainer, {childList: true});\n",
       "}}\n",
       "\n",
       "// Listen for the clearing of the current output cell\n",
       "var outputEl = gd.closest('.output');\n",
       "if (outputEl) {{\n",
       "    x.observe(outputEl, {childList: true});\n",
       "}}\n",
       "\n",
       "                        })                };                });            </script>        </div>"
      ]
     },
     "metadata": {},
     "output_type": "display_data"
    }
   ],
   "source": [
    "fig = px.scatter(tiktoks,\n",
    "                 x = 'Positive Sentiment',\n",
    "                 y = 'Negative Sentiment',\n",
    "                 color = 'Compound Sentiment',\n",
    "                 color_continuous_scale = ['rgb(255,0,80)', 'rgb(255,255,255)', 'rgb(0,242,234)'],\n",
    "                 range_color = (-1.1,1.1),\n",
    "                 template = 'plotly_dark',\n",
    "                 hover_name = 'original_video_title',\n",
    "                 hover_data = ['Neutral Sentiment', 'Compound Sentiment', 'like', 'sound_transcribed'],\n",
    "                 size = 'like',\n",
    "                 size_max = 10,\n",
    "                 width = 800,\n",
    "                 height = 600)\n",
    "# fig.update_xaxes(range=[-0.1,1.1])\n",
    "# fig.update_yaxes(range=[-0.1,1.1])\n",
    "fig.update_traces(marker_sizemin = 3)\n",
    "\n",
    "## Add video links to points\n",
    "# plotAnnotes = []\n",
    "# for i in np.arange(tiktoks.shape[0]):\n",
    "#     plotAnnotes.append(dict(x = tiktoks['Positive Sentiment'][i],\n",
    "#                             y = tiktoks['Negative Sentiment'][i],\n",
    "#                             text = \"\"\"<a href=\"{}\">{}</a>\"\"\".format(tiktoks['video_url'][i],\" \"),\n",
    "#                             showarrow = False,\n",
    "#                             xanchor = 'center',\n",
    "#                             yanchor = 'bottom'))\n",
    "#fig.update_layout(annotations = plotAnnotes)\n",
    "\n",
    "fig.show()"
   ]
  },
  {
   "cell_type": "code",
   "execution_count": 14,
   "metadata": {},
   "outputs": [
    {
     "name": "stdout",
     "output_type": "stream",
     "text": [
      "----------\n",
      "     trending fyp manga anime kill ua anime tik tok\n",
      "compound: -0.6908, neg: 0.37, neu: 0.63, pos: 0.0, \n",
      "----------\n",
      "Reply to @whosaleece N <3\n",
      "compound: 0.4404, neg: 0.0, neu: 0.58, pos: 0.42, \n",
      "----------\n",
      "Reply to @that_one_killer  Why does Adrian look cooler than me in this tho... @thaflex      trend brother edit mirror close your rings not viral\n",
      "compound: 0.0, neg: 0.0, neu: 1.0, pos: 0.0, \n",
      "----------\n",
      "Follow for more 😂❤️\n",
      "compound: 0.3892, neg: 0.155, neu: 0.573, pos: 0.272, \n",
      "----------\n",
      "How 2022 started….\n",
      "compound: 0.0, neg: 0.0, neu: 1.0, pos: 0.0, \n",
      "----------\n",
      " f naf vanny\n",
      "compound: 0.0, neg: 0.0, neu: 1.0, pos: 0.0, \n",
      "----------\n",
      "February 9th game day .   winter olympics olympic spirit women in sports\n",
      "compound: 0.1779, neg: 0.0, neu: 0.866, pos: 0.134, \n",
      "----------\n",
      "First qualies of the Games 🔥       fyp for you ski to kbeijing2022duetdowet winter olympics moguls\n",
      "compound: -0.34, neg: 0.146, neu: 0.854, pos: 0.0, \n",
      "----------\n",
      "When you make it to your second Olympics and you are that much closer to achieving your dream ❤️  winter olympics olympic spirit\n",
      "compound: 0.4019, neg: 0.0, neu: 0.856, pos: 0.144, \n",
      "----------\n",
      "Frying Real Human Eggs 🍳    funny videos japan comedy viral amazing\n",
      "compound: 0.8481, neg: 0.0, neu: 0.465, pos: 0.535, \n"
     ]
    }
   ],
   "source": [
    "for title in tiktoks[\"video_title\"][:10]:\n",
    "    sid = SentimentIntensityAnalyzer()\n",
    "    print(\"----------\")\n",
    "    print(title)\n",
    "    ss = sid.polarity_scores(title)\n",
    "    for k in sorted(ss):\n",
    "        print('{0}: {1}, '.format(k, ss[k]), end='')\n",
    "    print()"
   ]
  },
  {
   "cell_type": "code",
   "execution_count": 15,
   "metadata": {},
   "outputs": [
    {
     "data": {
      "text/plain": [
       "{'neg': 0.0, 'neu': 0.508, 'pos': 0.492, 'compound': 0.7003}"
      ]
     },
     "execution_count": 15,
     "metadata": {},
     "output_type": "execute_result"
    }
   ],
   "source": [
    "sid.polarity_scores(\"💋 and 😁\")"
   ]
  },
  {
   "cell_type": "code",
   "execution_count": 22,
   "metadata": {},
   "outputs": [
    {
     "data": {
      "text/plain": [
       "{'neg': 0.0, 'neu': 1.0, 'pos': 0.0, 'compound': 0.0}"
      ]
     },
     "execution_count": 22,
     "metadata": {},
     "output_type": "execute_result"
    }
   ],
   "source": [
    "sid.polarity_scores(\"❤️\")"
   ]
  },
  {
   "cell_type": "code",
   "execution_count": 26,
   "metadata": {},
   "outputs": [
    {
     "data": {
      "text/plain": [
       "{'neg': 0.218, 'neu': 0.345, 'pos': 0.437, 'compound': 0.4404}"
      ]
     },
     "execution_count": 26,
     "metadata": {},
     "output_type": "execute_result"
    }
   ],
   "source": [
    "sid.polarity_scores(\"😂\")"
   ]
  },
  {
   "cell_type": "code",
   "execution_count": 115,
   "metadata": {},
   "outputs": [
    {
     "data": {
      "text/plain": [
       "{'neg': 0.218, 'neu': 0.345, 'pos': 0.437, 'compound': 0.926}"
      ]
     },
     "execution_count": 115,
     "metadata": {},
     "output_type": "execute_result"
    }
   ],
   "source": [
    "sid.polarity_scores(\"😂😂😂😂😂\")"
   ]
  },
  {
   "cell_type": "code",
   "execution_count": 27,
   "metadata": {},
   "outputs": [
    {
     "data": {
      "text/plain": [
       "{'neg': 1.0, 'neu': 0.0, 'pos': 0.0, 'compound': -0.34}"
      ]
     },
     "execution_count": 27,
     "metadata": {},
     "output_type": "execute_result"
    }
   ],
   "source": [
    "sid.polarity_scores(\"🔥\")"
   ]
  }
 ],
 "metadata": {
  "kernelspec": {
   "display_name": "Python 3",
   "language": "python",
   "name": "python3"
  },
  "language_info": {
   "codemirror_mode": {
    "name": "ipython",
    "version": 3
   },
   "file_extension": ".py",
   "mimetype": "text/x-python",
   "name": "python",
   "nbconvert_exporter": "python",
   "pygments_lexer": "ipython3",
   "version": "3.8.5"
  }
 },
 "nbformat": 4,
 "nbformat_minor": 4
}
