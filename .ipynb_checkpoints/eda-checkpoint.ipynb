{
 "cells": [
  {
   "cell_type": "code",
   "execution_count": 1,
   "id": "5abf11d8",
   "metadata": {},
   "outputs": [],
   "source": [
    "import numpy as np"
   ]
  },
  {
   "cell_type": "code",
   "execution_count": 2,
   "id": "80c7357c",
   "metadata": {},
   "outputs": [],
   "source": [
    "import sqlite3\n",
    "import pandas as pd\n",
    "\n",
    "conn = sqlite3.connect(\"tiktok.db\")\n",
    "\n",
    "cmd = \\\n",
    "    f\"\"\"\n",
    "    SELECT id, video_title, creator_nickname, sound_transcribed\n",
    "    FROM tiktok\n",
    "    \"\"\" \n",
    "    \n",
    "tiktoks = pd.read_sql_query(cmd, conn)\n",
    "    \n",
    "conn.close()"
   ]
  },
  {
   "cell_type": "code",
   "execution_count": 3,
   "id": "d3ff49f5",
   "metadata": {},
   "outputs": [
    {
     "data": {
      "text/plain": [
       "(1300, 4)"
      ]
     },
     "execution_count": 3,
     "metadata": {},
     "output_type": "execute_result"
    }
   ],
   "source": [
    "tiktoks.shape"
   ]
  },
  {
   "cell_type": "code",
   "execution_count": 4,
   "id": "f14d9cb0",
   "metadata": {},
   "outputs": [
    {
     "data": {
      "text/html": [
       "<div>\n",
       "<style scoped>\n",
       "    .dataframe tbody tr th:only-of-type {\n",
       "        vertical-align: middle;\n",
       "    }\n",
       "\n",
       "    .dataframe tbody tr th {\n",
       "        vertical-align: top;\n",
       "    }\n",
       "\n",
       "    .dataframe thead th {\n",
       "        text-align: right;\n",
       "    }\n",
       "</style>\n",
       "<table border=\"1\" class=\"dataframe\">\n",
       "  <thead>\n",
       "    <tr style=\"text-align: right;\">\n",
       "      <th></th>\n",
       "      <th>id</th>\n",
       "      <th>video_title</th>\n",
       "      <th>creator_nickname</th>\n",
       "      <th>sound_transcribed</th>\n",
       "    </tr>\n",
       "  </thead>\n",
       "  <tbody>\n",
       "    <tr>\n",
       "      <th>0</th>\n",
       "      <td>7037034323417107759</td>\n",
       "      <td>EXCUSE MI THIS FANSERVICE THO 😩 #fyp #bts #bts...</td>\n",
       "      <td>𝙢𝙞𝙣𝙙𝙮 ☆彡</td>\n",
       "      <td>NA</td>\n",
       "    </tr>\n",
       "    <tr>\n",
       "      <th>1</th>\n",
       "      <td>7059020753978789166</td>\n",
       "      <td>🐈Are you envious? #fy #kitty #cat #love #kiss</td>\n",
       "      <td>one_lovelyyy</td>\n",
       "      <td>NA</td>\n",
       "    </tr>\n",
       "    <tr>\n",
       "      <th>2</th>\n",
       "      <td>7061272988615707950</td>\n",
       "      <td>Fyp</td>\n",
       "      <td>Tina Pilapil Sergio</td>\n",
       "      <td>Bonanza</td>\n",
       "    </tr>\n",
       "    <tr>\n",
       "      <th>3</th>\n",
       "      <td>7039714932283362607</td>\n",
       "      <td>100% the truth! ❤️</td>\n",
       "      <td>Brittany &amp; Lily</td>\n",
       "      <td>beautiful</td>\n",
       "    </tr>\n",
       "    <tr>\n",
       "      <th>4</th>\n",
       "      <td>7056048829749218607</td>\n",
       "      <td></td>\n",
       "      <td>Optical fiber light</td>\n",
       "      <td>NA</td>\n",
       "    </tr>\n",
       "  </tbody>\n",
       "</table>\n",
       "</div>"
      ],
      "text/plain": [
       "                    id                                        video_title  \\\n",
       "0  7037034323417107759  EXCUSE MI THIS FANSERVICE THO 😩 #fyp #bts #bts...   \n",
       "1  7059020753978789166      🐈Are you envious? #fy #kitty #cat #love #kiss   \n",
       "2  7061272988615707950                                                Fyp   \n",
       "3  7039714932283362607                                 100% the truth! ❤️   \n",
       "4  7056048829749218607                                                      \n",
       "\n",
       "      creator_nickname sound_transcribed  \n",
       "0             𝙢𝙞𝙣𝙙𝙮 ☆彡                NA  \n",
       "1         one_lovelyyy                NA  \n",
       "2  Tina Pilapil Sergio           Bonanza  \n",
       "3      Brittany & Lily         beautiful  \n",
       "4  Optical fiber light                NA  "
      ]
     },
     "execution_count": 4,
     "metadata": {},
     "output_type": "execute_result"
    }
   ],
   "source": [
    "tiktoks.head()"
   ]
  },
  {
   "cell_type": "code",
   "execution_count": 5,
   "id": "3629df36",
   "metadata": {},
   "outputs": [
    {
     "data": {
      "text/plain": [
       "431"
      ]
     },
     "execution_count": 5,
     "metadata": {},
     "output_type": "execute_result"
    }
   ],
   "source": [
    "len(set(tiktoks['id']))"
   ]
  },
  {
   "cell_type": "markdown",
   "id": "c121c1f0",
   "metadata": {},
   "source": [
    "## Get rid of duplicate tiktoks"
   ]
  },
  {
   "cell_type": "code",
   "execution_count": 6,
   "id": "31b9b780",
   "metadata": {},
   "outputs": [
    {
     "data": {
      "text/plain": [
       "(431, 4)"
      ]
     },
     "execution_count": 6,
     "metadata": {},
     "output_type": "execute_result"
    }
   ],
   "source": [
    "dups = tiktoks['id'].duplicated()\n",
    "tiktoks = tiktoks[np.invert(dups)]\n",
    "tiktoks = tiktoks.reset_index(drop = True)\n",
    "\n",
    "tiktoks.shape"
   ]
  },
  {
   "cell_type": "code",
   "execution_count": 29,
   "id": "42e467d5",
   "metadata": {},
   "outputs": [
    {
     "data": {
      "text/html": [
       "<div>\n",
       "<style scoped>\n",
       "    .dataframe tbody tr th:only-of-type {\n",
       "        vertical-align: middle;\n",
       "    }\n",
       "\n",
       "    .dataframe tbody tr th {\n",
       "        vertical-align: top;\n",
       "    }\n",
       "\n",
       "    .dataframe thead th {\n",
       "        text-align: right;\n",
       "    }\n",
       "</style>\n",
       "<table border=\"1\" class=\"dataframe\">\n",
       "  <thead>\n",
       "    <tr style=\"text-align: right;\">\n",
       "      <th></th>\n",
       "      <th>id</th>\n",
       "      <th>video_title</th>\n",
       "      <th>creator_nickname</th>\n",
       "      <th>sound_transcribed</th>\n",
       "    </tr>\n",
       "  </thead>\n",
       "  <tbody>\n",
       "    <tr>\n",
       "      <th>100</th>\n",
       "      <td>7056270827335027970</td>\n",
       "      <td>muốn lé luôn</td>\n",
       "      <td>jenny huynh</td>\n",
       "      <td>NA</td>\n",
       "    </tr>\n",
       "    <tr>\n",
       "      <th>101</th>\n",
       "      <td>7049078700796611887</td>\n",
       "      <td>THE SMACKING JUST BE TEW MUCH😂 #fyp #fueyruss</td>\n",
       "      <td>Fueyruss</td>\n",
       "      <td>do you got games on your phone</td>\n",
       "    </tr>\n",
       "    <tr>\n",
       "      <th>102</th>\n",
       "      <td>7053608785826286849</td>\n",
       "      <td>now im not shy 💀</td>\n",
       "      <td>HOSHIN</td>\n",
       "      <td>NA</td>\n",
       "    </tr>\n",
       "    <tr>\n",
       "      <th>103</th>\n",
       "      <td>7061457923163114798</td>\n",
       "      <td></td>\n",
       "      <td>sueco</td>\n",
       "      <td>NA</td>\n",
       "    </tr>\n",
       "    <tr>\n",
       "      <th>104</th>\n",
       "      <td>7060785845707607301</td>\n",
       "      <td>Poor boy! 😅🥺 #funny #viral #parentsoftiktok #t...</td>\n",
       "      <td>Okay, Really</td>\n",
       "      <td>NA</td>\n",
       "    </tr>\n",
       "    <tr>\n",
       "      <th>105</th>\n",
       "      <td>7041320041727544622</td>\n",
       "      <td>Dc: @Matt</td>\n",
       "      <td>Neena👁🧿👁</td>\n",
       "      <td>Nigerian food</td>\n",
       "    </tr>\n",
       "    <tr>\n",
       "      <th>106</th>\n",
       "      <td>7055110803426446597</td>\n",
       "      <td>#cat #cute #funny #pet #foryou</td>\n",
       "      <td>Bezer</td>\n",
       "      <td>NA</td>\n",
       "    </tr>\n",
       "    <tr>\n",
       "      <th>107</th>\n",
       "      <td>7044973098688433454</td>\n",
       "      <td>Weeeeeewooooo!</td>\n",
       "      <td>Gashi</td>\n",
       "      <td>NA</td>\n",
       "    </tr>\n",
       "    <tr>\n",
       "      <th>108</th>\n",
       "      <td>7057840235966647598</td>\n",
       "      <td>#FNaF #Vanny</td>\n",
       "      <td>Jake Fellman</td>\n",
       "      <td>you used to call me on my cell phone</td>\n",
       "    </tr>\n",
       "    <tr>\n",
       "      <th>109</th>\n",
       "      <td>7051589547314171182</td>\n",
       "      <td>#lillezyv #fypシ</td>\n",
       "      <td>lee💙</td>\n",
       "      <td>talk about everybody then wonder why your stom...</td>\n",
       "    </tr>\n",
       "    <tr>\n",
       "      <th>110</th>\n",
       "      <td>7049662097529081115</td>\n",
       "      <td>request ni ano</td>\n",
       "      <td>Eya</td>\n",
       "      <td>NA</td>\n",
       "    </tr>\n",
       "    <tr>\n",
       "      <th>111</th>\n",
       "      <td>7061646888575061295</td>\n",
       "      <td></td>\n",
       "      <td>Smile Daily</td>\n",
       "      <td>Bubba Bubba Bubba</td>\n",
       "    </tr>\n",
       "    <tr>\n",
       "      <th>112</th>\n",
       "      <td>7037653801867824430</td>\n",
       "      <td>Reply to @why_.do_i._do_.this_ Dad is certifie...</td>\n",
       "      <td>Nic Suarez</td>\n",
       "      <td>NA</td>\n",
       "    </tr>\n",
       "    <tr>\n",
       "      <th>113</th>\n",
       "      <td>7046061929500233006</td>\n",
       "      <td>Her exact perspective 😭 #waterfowlhunter #duck...</td>\n",
       "      <td>Landlordbrasi_</td>\n",
       "      <td>NA</td>\n",
       "    </tr>\n",
       "    <tr>\n",
       "      <th>114</th>\n",
       "      <td>7061119082132819247</td>\n",
       "      <td>im dead HAHAH 😗🧟‍♂️😗🧟‍♀️ #allofusaredead #kore...</td>\n",
       "      <td>seoyeon</td>\n",
       "      <td>NA</td>\n",
       "    </tr>\n",
       "  </tbody>\n",
       "</table>\n",
       "</div>"
      ],
      "text/plain": [
       "                      id                                        video_title  \\\n",
       "100  7056270827335027970                                       muốn lé luôn   \n",
       "101  7049078700796611887      THE SMACKING JUST BE TEW MUCH😂 #fyp #fueyruss   \n",
       "102  7053608785826286849                                   now im not shy 💀   \n",
       "103  7061457923163114798                                                      \n",
       "104  7060785845707607301  Poor boy! 😅🥺 #funny #viral #parentsoftiktok #t...   \n",
       "105  7041320041727544622                                          Dc: @Matt   \n",
       "106  7055110803426446597                     #cat #cute #funny #pet #foryou   \n",
       "107  7044973098688433454                                     Weeeeeewooooo!   \n",
       "108  7057840235966647598                                       #FNaF #Vanny   \n",
       "109  7051589547314171182                                    #lillezyv #fypシ   \n",
       "110  7049662097529081115                                     request ni ano   \n",
       "111  7061646888575061295                                                      \n",
       "112  7037653801867824430  Reply to @why_.do_i._do_.this_ Dad is certifie...   \n",
       "113  7046061929500233006  Her exact perspective 😭 #waterfowlhunter #duck...   \n",
       "114  7061119082132819247  im dead HAHAH 😗🧟‍♂️😗🧟‍♀️ #allofusaredead #kore...   \n",
       "\n",
       "    creator_nickname                                  sound_transcribed  \n",
       "100      jenny huynh                                                 NA  \n",
       "101         Fueyruss                     do you got games on your phone  \n",
       "102           HOSHIN                                                 NA  \n",
       "103            sueco                                                 NA  \n",
       "104     Okay, Really                                                 NA  \n",
       "105         Neena👁🧿👁                                      Nigerian food  \n",
       "106            Bezer                                                 NA  \n",
       "107            Gashi                                                 NA  \n",
       "108     Jake Fellman               you used to call me on my cell phone  \n",
       "109             lee💙  talk about everybody then wonder why your stom...  \n",
       "110              Eya                                                 NA  \n",
       "111      Smile Daily                                  Bubba Bubba Bubba  \n",
       "112       Nic Suarez                                                 NA  \n",
       "113   Landlordbrasi_                                                 NA  \n",
       "114          seoyeon                                                 NA  "
      ]
     },
     "execution_count": 29,
     "metadata": {},
     "output_type": "execute_result"
    }
   ],
   "source": [
    "tiktoks[100:115]"
   ]
  },
  {
   "cell_type": "code",
   "execution_count": 8,
   "id": "c2f097d9",
   "metadata": {},
   "outputs": [],
   "source": [
    "# from nltk.classify import NaiveBayesClassifier\n",
    "# from nltk.corpus import subjectivity\n",
    "# from nltk.sentiment import SentimentAnalyzer\n",
    "# from nltk.sentiment.util import *"
   ]
  },
  {
   "cell_type": "code",
   "execution_count": 9,
   "id": "8e780cd1",
   "metadata": {},
   "outputs": [],
   "source": [
    "# import nltk\n",
    "#nltk.download('vader_lexicon')"
   ]
  },
  {
   "cell_type": "code",
   "execution_count": 10,
   "id": "a5c0df1c",
   "metadata": {},
   "outputs": [],
   "source": [
    "# pip install --upgrade vaderSentiment"
   ]
  },
  {
   "cell_type": "code",
   "execution_count": 20,
   "id": "f40bb6e3",
   "metadata": {},
   "outputs": [],
   "source": [
    "from nltk.sentiment.vader import SentimentIntensityAnalyzer"
   ]
  },
  {
   "cell_type": "code",
   "execution_count": 21,
   "id": "188bf00e",
   "metadata": {},
   "outputs": [
    {
     "name": "stdout",
     "output_type": "stream",
     "text": [
      "----------\n",
      "EXCUSE MI THIS FANSERVICE THO 😩 #fyp #bts #btsarmy #btsconcert2021 #taehyung #ptdonstage #btsv\n",
      "compound: 0.2577, neg: 0.0, neu: 0.844, pos: 0.156, \n",
      "----------\n",
      "🐈Are you envious? #fy #kitty #cat #love #kiss\n",
      "compound: -0.2732, neg: 0.231, neu: 0.769, pos: 0.0, \n",
      "----------\n",
      "Fyp\n",
      "compound: 0.0, neg: 0.0, neu: 1.0, pos: 0.0, \n",
      "----------\n",
      "100% the truth! ❤️\n",
      "compound: 0.3802, neg: 0.0, neu: 0.536, pos: 0.464, \n",
      "----------\n",
      "\n",
      "compound: 0.0, neg: 0.0, neu: 0.0, pos: 0.0, \n",
      "----------\n",
      "Follow my instagram : akamztweenty\n",
      "compound: 0.0, neg: 0.0, neu: 1.0, pos: 0.0, \n",
      "----------\n",
      "Dance party #catsoftikok\n",
      "compound: 0.4019, neg: 0.0, neu: 0.426, pos: 0.574, \n",
      "----------\n",
      "\n",
      "compound: 0.0, neg: 0.0, neu: 0.0, pos: 0.0, \n",
      "----------\n",
      "she really tried to kick us off the plane.😂😂 @theskimaskgirl\n",
      "compound: 0.0, neg: 0.0, neu: 1.0, pos: 0.0, \n",
      "----------\n",
      "\n",
      "compound: 0.0, neg: 0.0, neu: 0.0, pos: 0.0, \n"
     ]
    }
   ],
   "source": [
    "#from nltk.sentiment.vader import SentimentIntensityAnalyzer\n",
    "for title in tiktoks[\"video_title\"][:10]:\n",
    "    sid = SentimentIntensityAnalyzer()\n",
    "    print(\"----------\")\n",
    "    print(title)\n",
    "    ss = sid.polarity_scores(title)\n",
    "    for k in sorted(ss):\n",
    "        print('{0}: {1}, '.format(k, ss[k]), end='')\n",
    "    print()"
   ]
  },
  {
   "cell_type": "code",
   "execution_count": 23,
   "id": "3354c848",
   "metadata": {},
   "outputs": [
    {
     "data": {
      "text/plain": [
       "{'neg': 0.0, 'neu': 1.0, 'pos': 0.0, 'compound': 0.0}"
      ]
     },
     "execution_count": 23,
     "metadata": {},
     "output_type": "execute_result"
    }
   ],
   "source": [
    "sid.polarity_scores(\"💋 and 😁\")"
   ]
  },
  {
   "cell_type": "code",
   "execution_count": 13,
   "id": "62e12be2",
   "metadata": {},
   "outputs": [
    {
     "data": {
      "text/plain": [
       "{'neg': 0.0, 'neu': 0.436, 'pos': 0.564, 'compound': 0.3802}"
      ]
     },
     "execution_count": 13,
     "metadata": {},
     "output_type": "execute_result"
    }
   ],
   "source": [
    "sid.polarity_scores(\"100% the truth!\")"
   ]
  },
  {
   "cell_type": "code",
   "execution_count": 14,
   "id": "4e954c01",
   "metadata": {},
   "outputs": [
    {
     "data": {
      "text/plain": [
       "{'neg': 0.0, 'neu': 0.536, 'pos': 0.464, 'compound': 0.3802}"
      ]
     },
     "execution_count": 14,
     "metadata": {},
     "output_type": "execute_result"
    }
   ],
   "source": [
    "sid.polarity_scores(\"100% the truth! ❤️\")"
   ]
  },
  {
   "cell_type": "code",
   "execution_count": 39,
   "id": "d24bf00b",
   "metadata": {},
   "outputs": [
    {
     "data": {
      "text/plain": [
       "{'neg': 0.0, 'neu': 0.286, 'pos': 0.714, 'compound': 0.3612}"
      ]
     },
     "execution_count": 39,
     "metadata": {},
     "output_type": "execute_result"
    }
   ],
   "source": [
    "sid.polarity_scores(\"I like cheese\")"
   ]
  },
  {
   "cell_type": "code",
   "execution_count": 40,
   "id": "e5b81697",
   "metadata": {},
   "outputs": [
    {
     "data": {
      "text/plain": [
       "{'neg': 0.0, 'neu': 0.286, 'pos': 0.714, 'compound': 0.3612}"
      ]
     },
     "execution_count": 40,
     "metadata": {},
     "output_type": "execute_result"
    }
   ],
   "source": [
    "sid.polarity_scores(\"I like #cheese\")"
   ]
  },
  {
   "cell_type": "code",
   "execution_count": 17,
   "id": "9df4c155",
   "metadata": {},
   "outputs": [
    {
     "data": {
      "text/plain": [
       "{'neg': 0.0, 'neu': 0.286, 'pos': 0.714, 'compound': 0.3612}"
      ]
     },
     "execution_count": 17,
     "metadata": {},
     "output_type": "execute_result"
    }
   ],
   "source": [
    "sid.polarity_scores(\"I like ❤️cheese\")"
   ]
  },
  {
   "cell_type": "code",
   "execution_count": 41,
   "id": "3476ad9f",
   "metadata": {},
   "outputs": [
    {
     "name": "stdout",
     "output_type": "stream",
     "text": [
      "-------\n",
      "yay\n",
      "{'neg': 0.0, 'neu': 0.0, 'pos': 1.0, 'compound': 0.5267}\n",
      "-------\n",
      "yay :)\n",
      "{'neg': 0.0, 'neu': 0.0, 'pos': 1.0, 'compound': 0.7506}\n",
      "-------\n",
      "#yay\n",
      "{'neg': 0.0, 'neu': 1.0, 'pos': 0.0, 'compound': 0.0}\n",
      "-------\n",
      "no\n",
      "{'neg': 1.0, 'neu': 0.0, 'pos': 0.0, 'compound': -0.296}\n",
      "-------\n",
      "noo\n",
      "{'neg': 0.0, 'neu': 1.0, 'pos': 0.0, 'compound': 0.0}\n",
      "-------\n",
      "NO!\n",
      "{'neg': 1.0, 'neu': 0.0, 'pos': 0.0, 'compound': -0.3595}\n",
      "-------\n",
      "❤️\n",
      "{'neg': 0.0, 'neu': 1.0, 'pos': 0.0, 'compound': 0.0}\n"
     ]
    }
   ],
   "source": [
    "words = [\"yay\", \"yay :)\", \"#yay\", 'no', 'noo', 'NO!', '❤️']\n",
    "for word in words:\n",
    "    print(\"-------\")\n",
    "    print(word)\n",
    "    print(sid.polarity_scores(word))"
   ]
  },
  {
   "cell_type": "code",
   "execution_count": 42,
   "id": "7d04a1e1",
   "metadata": {},
   "outputs": [
    {
     "name": "stdout",
     "output_type": "stream",
     "text": [
      "{'neg': 0.0, 'neu': 0.0, 'pos': 1.0, 'compound': 0.7184}\n",
      "{'neg': 1.0, 'neu': 0.0, 'pos': 0.0, 'compound': -0.6124}\n"
     ]
    }
   ],
   "source": [
    "from vaderSentiment.vaderSentiment import SentimentIntensityAnalyzer\n",
    "\n",
    "new_words = {\n",
    "    'fire': 4.0,\n",
    "    'noo' : -3.0\n",
    "}\n",
    "\n",
    "sid = SentimentIntensityAnalyzer()\n",
    "sid.lexicon.update(new_words)\n",
    "print(sid.polarity_scores('🔥'))\n",
    "print(sid.polarity_scores('noo'))"
   ]
  },
  {
   "cell_type": "code",
   "execution_count": 25,
   "id": "a314faed",
   "metadata": {},
   "outputs": [
    {
     "data": {
      "text/plain": [
       "{'neg': 0.0, 'neu': 0.0, 'pos': 1.0, 'compound': 0.7184}"
      ]
     },
     "execution_count": 25,
     "metadata": {},
     "output_type": "execute_result"
    }
   ],
   "source": [
    "from vaderSentiment.vaderSentiment import SentimentIntensityAnalyzer\n",
    "\n",
    "new_words = {\n",
    "    'fire': 4.0,\n",
    "}\n",
    "\n",
    "sia = SentimentIntensityAnalyzer()\n",
    "sia.lexicon.update(new_words)\n",
    "sia.polarity_scores('🔥')"
   ]
  },
  {
   "cell_type": "code",
   "execution_count": 44,
   "id": "87bb9a0d",
   "metadata": {},
   "outputs": [
    {
     "data": {
      "text/plain": [
       "{'neg': 0.811, 'neu': 0.189, 'pos': 0.0, 'compound': -0.6486}"
      ]
     },
     "execution_count": 44,
     "metadata": {},
     "output_type": "execute_result"
    }
   ],
   "source": [
    "sid.polarity_scores(\"im dead\")"
   ]
  },
  {
   "cell_type": "code",
   "execution_count": 46,
   "id": "1b7cd433",
   "metadata": {},
   "outputs": [
    {
     "name": "stdout",
     "output_type": "stream",
     "text": [
      "{'neg': 0.811, 'neu': 0.189, 'pos': 0.0, 'compound': -0.6486}\n"
     ]
    }
   ],
   "source": [
    "new_words = {\n",
    "    'im dead': 4.0,\n",
    "}\n",
    "\n",
    "sid = SentimentIntensityAnalyzer()\n",
    "sid.lexicon.update(new_words)\n",
    "print(sid.polarity_scores('im dead'))"
   ]
  }
 ],
 "metadata": {
  "kernelspec": {
   "display_name": "Python [conda env:PIC16B] *",
   "language": "python",
   "name": "conda-env-PIC16B-py"
  },
  "language_info": {
   "codemirror_mode": {
    "name": "ipython",
    "version": 3
   },
   "file_extension": ".py",
   "mimetype": "text/x-python",
   "name": "python",
   "nbconvert_exporter": "python",
   "pygments_lexer": "ipython3",
   "version": "3.8.12"
  }
 },
 "nbformat": 4,
 "nbformat_minor": 5
}
