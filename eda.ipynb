{
 "cells": [
  {
   "cell_type": "code",
   "execution_count": 40,
   "metadata": {},
   "outputs": [],
   "source": [
    "import numpy as np"
   ]
  },
  {
   "cell_type": "code",
   "execution_count": 78,
   "metadata": {},
   "outputs": [],
   "source": [
    "import sqlite3\n",
    "import pandas as pd\n",
    "\n",
    "conn = sqlite3.connect(\"tiktok.db\")\n",
    "\n",
    "cmd = \\\n",
    "    f\"\"\"\n",
    "    SELECT id, video_title, creator_nickname, sound_transcribed, like\n",
    "    FROM tiktok\n",
    "    \"\"\" \n",
    "    \n",
    "tiktoks = pd.read_sql_query(cmd, conn)\n",
    "    \n",
    "conn.close()"
   ]
  },
  {
   "cell_type": "code",
   "execution_count": 73,
   "metadata": {},
   "outputs": [
    {
     "data": {
      "text/plain": [
       "(1300, 4)"
      ]
     },
     "execution_count": 73,
     "metadata": {},
     "output_type": "execute_result"
    }
   ],
   "source": [
    "tiktoks.shape"
   ]
  },
  {
   "cell_type": "code",
   "execution_count": 79,
   "metadata": {},
   "outputs": [
    {
     "data": {
      "text/html": [
       "<div>\n",
       "<style scoped>\n",
       "    .dataframe tbody tr th:only-of-type {\n",
       "        vertical-align: middle;\n",
       "    }\n",
       "\n",
       "    .dataframe tbody tr th {\n",
       "        vertical-align: top;\n",
       "    }\n",
       "\n",
       "    .dataframe thead th {\n",
       "        text-align: right;\n",
       "    }\n",
       "</style>\n",
       "<table border=\"1\" class=\"dataframe\">\n",
       "  <thead>\n",
       "    <tr style=\"text-align: right;\">\n",
       "      <th></th>\n",
       "      <th>id</th>\n",
       "      <th>video_title</th>\n",
       "      <th>creator_nickname</th>\n",
       "      <th>sound_transcribed</th>\n",
       "      <th>like</th>\n",
       "    </tr>\n",
       "  </thead>\n",
       "  <tbody>\n",
       "    <tr>\n",
       "      <th>0</th>\n",
       "      <td>7037034323417107759</td>\n",
       "      <td>EXCUSE MI THIS FANSERVICE THO 😩 #fyp #bts #bts...</td>\n",
       "      <td>𝙢𝙞𝙣𝙙𝙮 ☆彡</td>\n",
       "      <td>NA</td>\n",
       "      <td>11200000</td>\n",
       "    </tr>\n",
       "    <tr>\n",
       "      <th>100</th>\n",
       "      <td>7037034323417107759</td>\n",
       "      <td>EXCUSE MI THIS FANSERVICE THO 😩 #fyp #bts #bts...</td>\n",
       "      <td>𝙢𝙞𝙣𝙙𝙮 ☆彡</td>\n",
       "      <td>NA</td>\n",
       "      <td>11200000</td>\n",
       "    </tr>\n",
       "    <tr>\n",
       "      <th>201</th>\n",
       "      <td>7037034323417107759</td>\n",
       "      <td>EXCUSE MI THIS FANSERVICE THO 😩 #fyp #bts #bts...</td>\n",
       "      <td>𝙢𝙞𝙣𝙙𝙮 ☆彡</td>\n",
       "      <td>NA</td>\n",
       "      <td>11200000</td>\n",
       "    </tr>\n",
       "    <tr>\n",
       "      <th>303</th>\n",
       "      <td>7037034323417107759</td>\n",
       "      <td>EXCUSE MI THIS FANSERVICE THO 😩 #fyp #bts #bts...</td>\n",
       "      <td>𝙢𝙞𝙣𝙙𝙮 ☆彡</td>\n",
       "      <td>NA</td>\n",
       "      <td>11200000</td>\n",
       "    </tr>\n",
       "    <tr>\n",
       "      <th>404</th>\n",
       "      <td>7037034323417107759</td>\n",
       "      <td>EXCUSE MI THIS FANSERVICE THO 😩 #fyp #bts #bts...</td>\n",
       "      <td>𝙢𝙞𝙣𝙙𝙮 ☆彡</td>\n",
       "      <td>NA</td>\n",
       "      <td>11300000</td>\n",
       "    </tr>\n",
       "    <tr>\n",
       "      <th>500</th>\n",
       "      <td>7037034323417107759</td>\n",
       "      <td>EXCUSE MI THIS FANSERVICE THO 😩 #fyp #bts #bts...</td>\n",
       "      <td>𝙢𝙞𝙣𝙙𝙮 ☆彡</td>\n",
       "      <td>NA</td>\n",
       "      <td>11300000</td>\n",
       "    </tr>\n",
       "    <tr>\n",
       "      <th>601</th>\n",
       "      <td>7037034323417107759</td>\n",
       "      <td>EXCUSE MI THIS FANSERVICE THO 😩 #fyp #bts #bts...</td>\n",
       "      <td>𝙢𝙞𝙣𝙙𝙮 ☆彡</td>\n",
       "      <td>NA</td>\n",
       "      <td>11300000</td>\n",
       "    </tr>\n",
       "    <tr>\n",
       "      <th>701</th>\n",
       "      <td>7037034323417107759</td>\n",
       "      <td>EXCUSE MI THIS FANSERVICE THO 😩 #fyp #bts #bts...</td>\n",
       "      <td>𝙢𝙞𝙣𝙙𝙮 ☆彡</td>\n",
       "      <td>NA</td>\n",
       "      <td>11300000</td>\n",
       "    </tr>\n",
       "    <tr>\n",
       "      <th>802</th>\n",
       "      <td>7037034323417107759</td>\n",
       "      <td>EXCUSE MI THIS FANSERVICE THO 😩 #fyp #bts #bts...</td>\n",
       "      <td>𝙢𝙞𝙣𝙙𝙮 ☆彡</td>\n",
       "      <td>NA</td>\n",
       "      <td>11300000</td>\n",
       "    </tr>\n",
       "    <tr>\n",
       "      <th>909</th>\n",
       "      <td>7037034323417107759</td>\n",
       "      <td>EXCUSE MI THIS FANSERVICE THO 😩 #fyp #bts #bts...</td>\n",
       "      <td>𝙢𝙞𝙣𝙙𝙮 ☆彡</td>\n",
       "      <td>NA</td>\n",
       "      <td>11300000</td>\n",
       "    </tr>\n",
       "    <tr>\n",
       "      <th>1002</th>\n",
       "      <td>7037034323417107759</td>\n",
       "      <td>EXCUSE MI THIS FANSERVICE THO 😩 #fyp #bts #bts...</td>\n",
       "      <td>𝙢𝙞𝙣𝙙𝙮 ☆彡</td>\n",
       "      <td>NA</td>\n",
       "      <td>11300000</td>\n",
       "    </tr>\n",
       "    <tr>\n",
       "      <th>1125</th>\n",
       "      <td>7037034323417107759</td>\n",
       "      <td>EXCUSE MI THIS FANSERVICE THO 😩 #fyp #bts #bts...</td>\n",
       "      <td>𝙢𝙞𝙣𝙙𝙮 ☆彡</td>\n",
       "      <td>NA</td>\n",
       "      <td>11400000</td>\n",
       "    </tr>\n",
       "    <tr>\n",
       "      <th>1275</th>\n",
       "      <td>7037034323417107759</td>\n",
       "      <td>EXCUSE MI THIS FANSERVICE THO 😩 #fyp #bts #bts...</td>\n",
       "      <td>𝙢𝙞𝙣𝙙𝙮 ☆彡</td>\n",
       "      <td>NA</td>\n",
       "      <td>11400000</td>\n",
       "    </tr>\n",
       "  </tbody>\n",
       "</table>\n",
       "</div>"
      ],
      "text/plain": [
       "                       id                                        video_title  \\\n",
       "0     7037034323417107759  EXCUSE MI THIS FANSERVICE THO 😩 #fyp #bts #bts...   \n",
       "100   7037034323417107759  EXCUSE MI THIS FANSERVICE THO 😩 #fyp #bts #bts...   \n",
       "201   7037034323417107759  EXCUSE MI THIS FANSERVICE THO 😩 #fyp #bts #bts...   \n",
       "303   7037034323417107759  EXCUSE MI THIS FANSERVICE THO 😩 #fyp #bts #bts...   \n",
       "404   7037034323417107759  EXCUSE MI THIS FANSERVICE THO 😩 #fyp #bts #bts...   \n",
       "500   7037034323417107759  EXCUSE MI THIS FANSERVICE THO 😩 #fyp #bts #bts...   \n",
       "601   7037034323417107759  EXCUSE MI THIS FANSERVICE THO 😩 #fyp #bts #bts...   \n",
       "701   7037034323417107759  EXCUSE MI THIS FANSERVICE THO 😩 #fyp #bts #bts...   \n",
       "802   7037034323417107759  EXCUSE MI THIS FANSERVICE THO 😩 #fyp #bts #bts...   \n",
       "909   7037034323417107759  EXCUSE MI THIS FANSERVICE THO 😩 #fyp #bts #bts...   \n",
       "1002  7037034323417107759  EXCUSE MI THIS FANSERVICE THO 😩 #fyp #bts #bts...   \n",
       "1125  7037034323417107759  EXCUSE MI THIS FANSERVICE THO 😩 #fyp #bts #bts...   \n",
       "1275  7037034323417107759  EXCUSE MI THIS FANSERVICE THO 😩 #fyp #bts #bts...   \n",
       "\n",
       "     creator_nickname sound_transcribed      like  \n",
       "0            𝙢𝙞𝙣𝙙𝙮 ☆彡                NA  11200000  \n",
       "100          𝙢𝙞𝙣𝙙𝙮 ☆彡                NA  11200000  \n",
       "201          𝙢𝙞𝙣𝙙𝙮 ☆彡                NA  11200000  \n",
       "303          𝙢𝙞𝙣𝙙𝙮 ☆彡                NA  11200000  \n",
       "404          𝙢𝙞𝙣𝙙𝙮 ☆彡                NA  11300000  \n",
       "500          𝙢𝙞𝙣𝙙𝙮 ☆彡                NA  11300000  \n",
       "601          𝙢𝙞𝙣𝙙𝙮 ☆彡                NA  11300000  \n",
       "701          𝙢𝙞𝙣𝙙𝙮 ☆彡                NA  11300000  \n",
       "802          𝙢𝙞𝙣𝙙𝙮 ☆彡                NA  11300000  \n",
       "909          𝙢𝙞𝙣𝙙𝙮 ☆彡                NA  11300000  \n",
       "1002         𝙢𝙞𝙣𝙙𝙮 ☆彡                NA  11300000  \n",
       "1125         𝙢𝙞𝙣𝙙𝙮 ☆彡                NA  11400000  \n",
       "1275         𝙢𝙞𝙣𝙙𝙮 ☆彡                NA  11400000  "
      ]
     },
     "execution_count": 79,
     "metadata": {},
     "output_type": "execute_result"
    }
   ],
   "source": [
    "tiktoks[tiktoks['creator_nickname'] == '𝙢𝙞𝙣𝙙𝙮 ☆彡']"
   ]
  },
  {
   "cell_type": "code",
   "execution_count": 44,
   "metadata": {},
   "outputs": [
    {
     "data": {
      "text/plain": [
       "431"
      ]
     },
     "execution_count": 44,
     "metadata": {},
     "output_type": "execute_result"
    }
   ],
   "source": [
    "len(set(tiktoks['id']))"
   ]
  },
  {
   "cell_type": "markdown",
   "metadata": {},
   "source": [
    "## Get rid of duplicate tiktoks"
   ]
  },
  {
   "cell_type": "code",
   "execution_count": 45,
   "metadata": {},
   "outputs": [
    {
     "data": {
      "text/plain": [
       "(431, 4)"
      ]
     },
     "execution_count": 45,
     "metadata": {},
     "output_type": "execute_result"
    }
   ],
   "source": [
    "dups = tiktoks['id'].duplicated()\n",
    "tiktoks = tiktoks[np.invert(dups)]\n",
    "tiktoks = tiktoks.reset_index(drop = True)\n",
    "\n",
    "tiktoks.shape"
   ]
  },
  {
   "cell_type": "code",
   "execution_count": 46,
   "metadata": {},
   "outputs": [
    {
     "data": {
      "text/html": [
       "<div>\n",
       "<style scoped>\n",
       "    .dataframe tbody tr th:only-of-type {\n",
       "        vertical-align: middle;\n",
       "    }\n",
       "\n",
       "    .dataframe tbody tr th {\n",
       "        vertical-align: top;\n",
       "    }\n",
       "\n",
       "    .dataframe thead th {\n",
       "        text-align: right;\n",
       "    }\n",
       "</style>\n",
       "<table border=\"1\" class=\"dataframe\">\n",
       "  <thead>\n",
       "    <tr style=\"text-align: right;\">\n",
       "      <th></th>\n",
       "      <th>id</th>\n",
       "      <th>video_title</th>\n",
       "      <th>creator_nickname</th>\n",
       "      <th>sound_transcribed</th>\n",
       "    </tr>\n",
       "  </thead>\n",
       "  <tbody>\n",
       "    <tr>\n",
       "      <th>100</th>\n",
       "      <td>7056270827335027970</td>\n",
       "      <td>muốn lé luôn</td>\n",
       "      <td>jenny huynh</td>\n",
       "      <td>NA</td>\n",
       "    </tr>\n",
       "    <tr>\n",
       "      <th>101</th>\n",
       "      <td>7049078700796611887</td>\n",
       "      <td>THE SMACKING JUST BE TEW MUCH😂 #fyp #fueyruss</td>\n",
       "      <td>Fueyruss</td>\n",
       "      <td>do you got games on your phone</td>\n",
       "    </tr>\n",
       "    <tr>\n",
       "      <th>102</th>\n",
       "      <td>7053608785826286849</td>\n",
       "      <td>now im not shy 💀</td>\n",
       "      <td>HOSHIN</td>\n",
       "      <td>NA</td>\n",
       "    </tr>\n",
       "    <tr>\n",
       "      <th>103</th>\n",
       "      <td>7061457923163114798</td>\n",
       "      <td></td>\n",
       "      <td>sueco</td>\n",
       "      <td>NA</td>\n",
       "    </tr>\n",
       "    <tr>\n",
       "      <th>104</th>\n",
       "      <td>7060785845707607301</td>\n",
       "      <td>Poor boy! 😅🥺 #funny #viral #parentsoftiktok #t...</td>\n",
       "      <td>Okay, Really</td>\n",
       "      <td>NA</td>\n",
       "    </tr>\n",
       "    <tr>\n",
       "      <th>105</th>\n",
       "      <td>7041320041727544622</td>\n",
       "      <td>Dc: @Matt</td>\n",
       "      <td>Neena👁🧿👁</td>\n",
       "      <td>Nigerian food</td>\n",
       "    </tr>\n",
       "    <tr>\n",
       "      <th>106</th>\n",
       "      <td>7055110803426446597</td>\n",
       "      <td>#cat #cute #funny #pet #foryou</td>\n",
       "      <td>Bezer</td>\n",
       "      <td>NA</td>\n",
       "    </tr>\n",
       "    <tr>\n",
       "      <th>107</th>\n",
       "      <td>7044973098688433454</td>\n",
       "      <td>Weeeeeewooooo!</td>\n",
       "      <td>Gashi</td>\n",
       "      <td>NA</td>\n",
       "    </tr>\n",
       "    <tr>\n",
       "      <th>108</th>\n",
       "      <td>7057840235966647598</td>\n",
       "      <td>#FNaF #Vanny</td>\n",
       "      <td>Jake Fellman</td>\n",
       "      <td>you used to call me on my cell phone</td>\n",
       "    </tr>\n",
       "    <tr>\n",
       "      <th>109</th>\n",
       "      <td>7051589547314171182</td>\n",
       "      <td>#lillezyv #fypシ</td>\n",
       "      <td>lee💙</td>\n",
       "      <td>talk about everybody then wonder why your stom...</td>\n",
       "    </tr>\n",
       "    <tr>\n",
       "      <th>110</th>\n",
       "      <td>7049662097529081115</td>\n",
       "      <td>request ni ano</td>\n",
       "      <td>Eya</td>\n",
       "      <td>NA</td>\n",
       "    </tr>\n",
       "    <tr>\n",
       "      <th>111</th>\n",
       "      <td>7061646888575061295</td>\n",
       "      <td></td>\n",
       "      <td>Smile Daily</td>\n",
       "      <td>Bubba Bubba Bubba</td>\n",
       "    </tr>\n",
       "    <tr>\n",
       "      <th>112</th>\n",
       "      <td>7037653801867824430</td>\n",
       "      <td>Reply to @why_.do_i._do_.this_ Dad is certifie...</td>\n",
       "      <td>Nic Suarez</td>\n",
       "      <td>NA</td>\n",
       "    </tr>\n",
       "    <tr>\n",
       "      <th>113</th>\n",
       "      <td>7046061929500233006</td>\n",
       "      <td>Her exact perspective 😭 #waterfowlhunter #duck...</td>\n",
       "      <td>Landlordbrasi_</td>\n",
       "      <td>NA</td>\n",
       "    </tr>\n",
       "    <tr>\n",
       "      <th>114</th>\n",
       "      <td>7061119082132819247</td>\n",
       "      <td>im dead HAHAH 😗🧟‍♂️😗🧟‍♀️ #allofusaredead #kore...</td>\n",
       "      <td>seoyeon</td>\n",
       "      <td>NA</td>\n",
       "    </tr>\n",
       "  </tbody>\n",
       "</table>\n",
       "</div>"
      ],
      "text/plain": [
       "                      id                                        video_title  \\\n",
       "100  7056270827335027970                                       muốn lé luôn   \n",
       "101  7049078700796611887      THE SMACKING JUST BE TEW MUCH😂 #fyp #fueyruss   \n",
       "102  7053608785826286849                                   now im not shy 💀   \n",
       "103  7061457923163114798                                                      \n",
       "104  7060785845707607301  Poor boy! 😅🥺 #funny #viral #parentsoftiktok #t...   \n",
       "105  7041320041727544622                                          Dc: @Matt   \n",
       "106  7055110803426446597                     #cat #cute #funny #pet #foryou   \n",
       "107  7044973098688433454                                     Weeeeeewooooo!   \n",
       "108  7057840235966647598                                       #FNaF #Vanny   \n",
       "109  7051589547314171182                                    #lillezyv #fypシ   \n",
       "110  7049662097529081115                                     request ni ano   \n",
       "111  7061646888575061295                                                      \n",
       "112  7037653801867824430  Reply to @why_.do_i._do_.this_ Dad is certifie...   \n",
       "113  7046061929500233006  Her exact perspective 😭 #waterfowlhunter #duck...   \n",
       "114  7061119082132819247  im dead HAHAH 😗🧟‍♂️😗🧟‍♀️ #allofusaredead #kore...   \n",
       "\n",
       "    creator_nickname                                  sound_transcribed  \n",
       "100      jenny huynh                                                 NA  \n",
       "101         Fueyruss                     do you got games on your phone  \n",
       "102           HOSHIN                                                 NA  \n",
       "103            sueco                                                 NA  \n",
       "104     Okay, Really                                                 NA  \n",
       "105         Neena👁🧿👁                                      Nigerian food  \n",
       "106            Bezer                                                 NA  \n",
       "107            Gashi                                                 NA  \n",
       "108     Jake Fellman               you used to call me on my cell phone  \n",
       "109             lee💙  talk about everybody then wonder why your stom...  \n",
       "110              Eya                                                 NA  \n",
       "111      Smile Daily                                  Bubba Bubba Bubba  \n",
       "112       Nic Suarez                                                 NA  \n",
       "113   Landlordbrasi_                                                 NA  \n",
       "114          seoyeon                                                 NA  "
      ]
     },
     "execution_count": 46,
     "metadata": {},
     "output_type": "execute_result"
    }
   ],
   "source": [
    "tiktoks[100:115]"
   ]
  },
  {
   "cell_type": "code",
   "execution_count": 65,
   "metadata": {},
   "outputs": [],
   "source": [
    "from nltk.classify import NaiveBayesClassifier\n",
    "from nltk.corpus import subjectivity\n",
    "from nltk.sentiment import SentimentAnalyzer\n",
    "from nltk.sentiment.util import *"
   ]
  },
  {
   "cell_type": "code",
   "execution_count": 69,
   "metadata": {},
   "outputs": [
    {
     "name": "stderr",
     "output_type": "stream",
     "text": [
      "[nltk_data] Downloading package vader_lexicon to\n",
      "[nltk_data]     C:\\Users\\Matthew\\AppData\\Roaming\\nltk_data...\n",
      "[nltk_data]   Package vader_lexicon is already up-to-date!\n"
     ]
    },
    {
     "data": {
      "text/plain": [
       "True"
      ]
     },
     "execution_count": 69,
     "metadata": {},
     "output_type": "execute_result"
    }
   ],
   "source": [
    "# import nltk\n",
    "# nltk.download('vader_lexicon')"
   ]
  },
  {
   "cell_type": "code",
   "execution_count": 68,
   "metadata": {},
   "outputs": [
    {
     "name": "stdout",
     "output_type": "stream",
     "text": [
      "Collecting vaderSentimentNote: you may need to restart the kernel to use updated packages.\n",
      "  Using cached vaderSentiment-3.3.2-py2.py3-none-any.whl (125 kB)\n",
      "Requirement already satisfied, skipping upgrade: requests in c:\\users\\matthew\\anaconda3\\lib\\site-packages (from vaderSentiment) (2.24.0)\n",
      "Requirement already satisfied, skipping upgrade: urllib3!=1.25.0,!=1.25.1,<1.26,>=1.21.1 in c:\\users\\matthew\\anaconda3\\lib\\site-packages (from requests->vaderSentiment) (1.25.11)\n",
      "Requirement already satisfied, skipping upgrade: idna<3,>=2.5 in c:\\users\\matthew\\anaconda3\\lib\\site-packages (from requests->vaderSentiment) (2.10)\n",
      "Requirement already satisfied, skipping upgrade: chardet<4,>=3.0.2 in c:\\users\\matthew\\anaconda3\\lib\\site-packages (from requests->vaderSentiment) (3.0.4)\n",
      "Requirement already satisfied, skipping upgrade: certifi>=2017.4.17 in c:\\users\\matthew\\anaconda3\\lib\\site-packages (from requests->vaderSentiment) (2020.6.20)\n",
      "Installing collected packages: vaderSentiment\n",
      "Successfully installed vaderSentiment-3.3.2\n",
      "\n"
     ]
    }
   ],
   "source": [
    "pip install --upgrade vaderSentiment"
   ]
  },
  {
   "cell_type": "code",
   "execution_count": 50,
   "metadata": {},
   "outputs": [],
   "source": [
    "from nltk.sentiment.vader import SentimentIntensityAnalyzer"
   ]
  },
  {
   "cell_type": "code",
   "execution_count": 70,
   "metadata": {},
   "outputs": [
    {
     "name": "stdout",
     "output_type": "stream",
     "text": [
      "----------\n",
      "EXCUSE MI THIS FANSERVICE THO 😩 #fyp #bts #btsarmy #btsconcert2021 #taehyung #ptdonstage #btsv\n",
      "compound: 0.2577, neg: 0.0, neu: 0.844, pos: 0.156, \n",
      "----------\n",
      "🐈Are you envious? #fy #kitty #cat #love #kiss\n",
      "compound: -0.2732, neg: 0.231, neu: 0.769, pos: 0.0, \n",
      "----------\n",
      "Fyp\n",
      "compound: 0.0, neg: 0.0, neu: 1.0, pos: 0.0, \n",
      "----------\n",
      "100% the truth! ❤️\n",
      "compound: 0.3802, neg: 0.0, neu: 0.536, pos: 0.464, \n",
      "----------\n",
      "\n",
      "compound: 0.0, neg: 0.0, neu: 0.0, pos: 0.0, \n",
      "----------\n",
      "Follow my instagram : akamztweenty\n",
      "compound: 0.0, neg: 0.0, neu: 1.0, pos: 0.0, \n",
      "----------\n",
      "Dance party #catsoftikok\n",
      "compound: 0.4019, neg: 0.0, neu: 0.426, pos: 0.574, \n",
      "----------\n",
      "\n",
      "compound: 0.0, neg: 0.0, neu: 0.0, pos: 0.0, \n",
      "----------\n",
      "she really tried to kick us off the plane.😂😂 @theskimaskgirl\n",
      "compound: 0.0, neg: 0.0, neu: 1.0, pos: 0.0, \n",
      "----------\n",
      "\n",
      "compound: 0.0, neg: 0.0, neu: 0.0, pos: 0.0, \n"
     ]
    }
   ],
   "source": [
    "#from nltk.sentiment.vader import SentimentIntensityAnalyzer\n",
    "for title in tiktoks[\"video_title\"][:10]:\n",
    "    sid = SentimentIntensityAnalyzer()\n",
    "    print(\"----------\")\n",
    "    print(title)\n",
    "    ss = sid.polarity_scores(title)\n",
    "    for k in sorted(ss):\n",
    "        print('{0}: {1}, '.format(k, ss[k]), end='')\n",
    "    print()"
   ]
  },
  {
   "cell_type": "code",
   "execution_count": 71,
   "metadata": {},
   "outputs": [
    {
     "data": {
      "text/plain": [
       "{'neg': 0.0, 'neu': 1.0, 'pos': 0.0, 'compound': 0.0}"
      ]
     },
     "execution_count": 71,
     "metadata": {},
     "output_type": "execute_result"
    }
   ],
   "source": [
    "sid.polarity_scores(\"💋 and 😁\")"
   ]
  },
  {
   "cell_type": "code",
   "execution_count": 53,
   "metadata": {},
   "outputs": [
    {
     "data": {
      "text/plain": [
       "{'neg': 0.0, 'neu': 0.436, 'pos': 0.564, 'compound': 0.3802}"
      ]
     },
     "execution_count": 53,
     "metadata": {},
     "output_type": "execute_result"
    }
   ],
   "source": [
    "sid.polarity_scores(\"100% the truth!\")"
   ]
  },
  {
   "cell_type": "code",
   "execution_count": 54,
   "metadata": {},
   "outputs": [
    {
     "data": {
      "text/plain": [
       "{'neg': 0.0, 'neu': 0.536, 'pos': 0.464, 'compound': 0.3802}"
      ]
     },
     "execution_count": 54,
     "metadata": {},
     "output_type": "execute_result"
    }
   ],
   "source": [
    "sid.polarity_scores(\"100% the truth! ❤️\")"
   ]
  },
  {
   "cell_type": "code",
   "execution_count": 55,
   "metadata": {},
   "outputs": [
    {
     "data": {
      "text/plain": [
       "{'neg': 0.0, 'neu': 0.286, 'pos': 0.714, 'compound': 0.3612}"
      ]
     },
     "execution_count": 55,
     "metadata": {},
     "output_type": "execute_result"
    }
   ],
   "source": [
    "sid.polarity_scores(\"I like cheese\")"
   ]
  },
  {
   "cell_type": "code",
   "execution_count": 56,
   "metadata": {},
   "outputs": [
    {
     "data": {
      "text/plain": [
       "{'neg': 0.0, 'neu': 0.286, 'pos': 0.714, 'compound': 0.3612}"
      ]
     },
     "execution_count": 56,
     "metadata": {},
     "output_type": "execute_result"
    }
   ],
   "source": [
    "sid.polarity_scores(\"I like #cheese\")"
   ]
  },
  {
   "cell_type": "code",
   "execution_count": 57,
   "metadata": {},
   "outputs": [
    {
     "data": {
      "text/plain": [
       "{'neg': 0.0, 'neu': 0.286, 'pos': 0.714, 'compound': 0.3612}"
      ]
     },
     "execution_count": 57,
     "metadata": {},
     "output_type": "execute_result"
    }
   ],
   "source": [
    "sid.polarity_scores(\"I like ❤️cheese\")"
   ]
  },
  {
   "cell_type": "code",
   "execution_count": 58,
   "metadata": {},
   "outputs": [
    {
     "name": "stdout",
     "output_type": "stream",
     "text": [
      "-------\n",
      "yay\n",
      "{'neg': 0.0, 'neu': 0.0, 'pos': 1.0, 'compound': 0.5267}\n",
      "-------\n",
      "yay :)\n",
      "{'neg': 0.0, 'neu': 0.0, 'pos': 1.0, 'compound': 0.7506}\n",
      "-------\n",
      "#yay\n",
      "{'neg': 0.0, 'neu': 1.0, 'pos': 0.0, 'compound': 0.0}\n",
      "-------\n",
      "no\n",
      "{'neg': 1.0, 'neu': 0.0, 'pos': 0.0, 'compound': -0.296}\n",
      "-------\n",
      "noo\n",
      "{'neg': 0.0, 'neu': 1.0, 'pos': 0.0, 'compound': 0.0}\n",
      "-------\n",
      "NO!\n",
      "{'neg': 1.0, 'neu': 0.0, 'pos': 0.0, 'compound': -0.3595}\n",
      "-------\n",
      "❤️\n",
      "{'neg': 0.0, 'neu': 1.0, 'pos': 0.0, 'compound': 0.0}\n"
     ]
    }
   ],
   "source": [
    "words = [\"yay\", \"yay :)\", \"#yay\", 'no', 'noo', 'NO!', '❤️']\n",
    "for word in words:\n",
    "    print(\"-------\")\n",
    "    print(word)\n",
    "    print(sid.polarity_scores(word))"
   ]
  },
  {
   "cell_type": "code",
   "execution_count": 59,
   "metadata": {},
   "outputs": [
    {
     "name": "stdout",
     "output_type": "stream",
     "text": [
      "{'neg': 0.0, 'neu': 0.0, 'pos': 0.0, 'compound': 0.0}\n",
      "{'neg': 1.0, 'neu': 0.0, 'pos': 0.0, 'compound': -0.6124}\n"
     ]
    }
   ],
   "source": [
    "#from vaderSentiment.vaderSentiment import SentimentIntensityAnalyzer\n",
    "\n",
    "new_words = {\n",
    "    'fire': 4.0,\n",
    "    'noo' : -3.0\n",
    "}\n",
    "\n",
    "sid = SentimentIntensityAnalyzer()\n",
    "sid.lexicon.update(new_words)\n",
    "print(sid.polarity_scores('🔥'))\n",
    "print(sid.polarity_scores('noo'))"
   ]
  },
  {
   "cell_type": "code",
   "execution_count": 61,
   "metadata": {},
   "outputs": [
    {
     "data": {
      "text/plain": [
       "{'neg': 0.0, 'neu': 0.0, 'pos': 0.0, 'compound': 0.0}"
      ]
     },
     "execution_count": 61,
     "metadata": {},
     "output_type": "execute_result"
    }
   ],
   "source": [
    "#from vaderSentiment.vaderSentiment import SentimentIntensityAnalyzer\n",
    "\n",
    "new_words = {\n",
    "    'fire': 4.0,\n",
    "}\n",
    "\n",
    "sia = SentimentIntensityAnalyzer()\n",
    "sia.lexicon.update(new_words)\n",
    "sia.polarity_scores('🔥')"
   ]
  },
  {
   "cell_type": "code",
   "execution_count": 62,
   "metadata": {},
   "outputs": [
    {
     "data": {
      "text/plain": [
       "{'neg': 0.811, 'neu': 0.189, 'pos': 0.0, 'compound': -0.6486}"
      ]
     },
     "execution_count": 62,
     "metadata": {},
     "output_type": "execute_result"
    }
   ],
   "source": [
    "sid.polarity_scores(\"im dead\")"
   ]
  },
  {
   "cell_type": "code",
   "execution_count": 63,
   "metadata": {},
   "outputs": [
    {
     "name": "stdout",
     "output_type": "stream",
     "text": [
      "{'neg': 0.811, 'neu': 0.189, 'pos': 0.0, 'compound': -0.6486}\n"
     ]
    }
   ],
   "source": [
    "new_words = {\n",
    "    'im dead': 4.0,\n",
    "}\n",
    "\n",
    "sid = SentimentIntensityAnalyzer()\n",
    "sid.lexicon.update(new_words)\n",
    "print(sid.polarity_scores('im dead'))"
   ]
  }
 ],
 "metadata": {
  "kernelspec": {
   "display_name": "Python 3",
   "language": "python",
   "name": "python3"
  },
  "language_info": {
   "codemirror_mode": {
    "name": "ipython",
    "version": 3
   },
   "file_extension": ".py",
   "mimetype": "text/x-python",
   "name": "python",
   "nbconvert_exporter": "python",
   "pygments_lexer": "ipython3",
   "version": "3.8.5"
  }
 },
 "nbformat": 4,
 "nbformat_minor": 5
}
